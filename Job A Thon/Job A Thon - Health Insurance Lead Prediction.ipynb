{
 "cells": [
  {
   "cell_type": "code",
   "execution_count": 1,
   "metadata": {},
   "outputs": [],
   "source": [
    "import numpy as np\n",
    "import pandas as pd\n",
    "import matplotlib.pyplot as plt\n",
    "import seaborn as sns"
   ]
  },
  {
   "cell_type": "code",
   "execution_count": 2,
   "metadata": {
    "scrolled": true
   },
   "outputs": [
    {
     "data": {
      "text/html": [
       "<div>\n",
       "<style scoped>\n",
       "    .dataframe tbody tr th:only-of-type {\n",
       "        vertical-align: middle;\n",
       "    }\n",
       "\n",
       "    .dataframe tbody tr th {\n",
       "        vertical-align: top;\n",
       "    }\n",
       "\n",
       "    .dataframe thead th {\n",
       "        text-align: right;\n",
       "    }\n",
       "</style>\n",
       "<table border=\"1\" class=\"dataframe\">\n",
       "  <thead>\n",
       "    <tr style=\"text-align: right;\">\n",
       "      <th></th>\n",
       "      <th>ID</th>\n",
       "      <th>City_Code</th>\n",
       "      <th>Region_Code</th>\n",
       "      <th>Accomodation_Type</th>\n",
       "      <th>Reco_Insurance_Type</th>\n",
       "      <th>Upper_Age</th>\n",
       "      <th>Lower_Age</th>\n",
       "      <th>Is_Spouse</th>\n",
       "      <th>Health Indicator</th>\n",
       "      <th>Holding_Policy_Duration</th>\n",
       "      <th>Holding_Policy_Type</th>\n",
       "      <th>Reco_Policy_Cat</th>\n",
       "      <th>Reco_Policy_Premium</th>\n",
       "      <th>Response</th>\n",
       "    </tr>\n",
       "  </thead>\n",
       "  <tbody>\n",
       "    <tr>\n",
       "      <th>0</th>\n",
       "      <td>1</td>\n",
       "      <td>C3</td>\n",
       "      <td>3213</td>\n",
       "      <td>Rented</td>\n",
       "      <td>Individual</td>\n",
       "      <td>36</td>\n",
       "      <td>36</td>\n",
       "      <td>No</td>\n",
       "      <td>X1</td>\n",
       "      <td>14+</td>\n",
       "      <td>3.0</td>\n",
       "      <td>22</td>\n",
       "      <td>11628.0</td>\n",
       "      <td>0</td>\n",
       "    </tr>\n",
       "    <tr>\n",
       "      <th>1</th>\n",
       "      <td>2</td>\n",
       "      <td>C5</td>\n",
       "      <td>1117</td>\n",
       "      <td>Owned</td>\n",
       "      <td>Joint</td>\n",
       "      <td>75</td>\n",
       "      <td>22</td>\n",
       "      <td>No</td>\n",
       "      <td>X2</td>\n",
       "      <td>NaN</td>\n",
       "      <td>NaN</td>\n",
       "      <td>22</td>\n",
       "      <td>30510.0</td>\n",
       "      <td>0</td>\n",
       "    </tr>\n",
       "    <tr>\n",
       "      <th>2</th>\n",
       "      <td>3</td>\n",
       "      <td>C5</td>\n",
       "      <td>3732</td>\n",
       "      <td>Owned</td>\n",
       "      <td>Individual</td>\n",
       "      <td>32</td>\n",
       "      <td>32</td>\n",
       "      <td>No</td>\n",
       "      <td>NaN</td>\n",
       "      <td>1.0</td>\n",
       "      <td>1.0</td>\n",
       "      <td>19</td>\n",
       "      <td>7450.0</td>\n",
       "      <td>1</td>\n",
       "    </tr>\n",
       "    <tr>\n",
       "      <th>3</th>\n",
       "      <td>4</td>\n",
       "      <td>C24</td>\n",
       "      <td>4378</td>\n",
       "      <td>Owned</td>\n",
       "      <td>Joint</td>\n",
       "      <td>52</td>\n",
       "      <td>48</td>\n",
       "      <td>No</td>\n",
       "      <td>X1</td>\n",
       "      <td>14+</td>\n",
       "      <td>3.0</td>\n",
       "      <td>19</td>\n",
       "      <td>17780.0</td>\n",
       "      <td>0</td>\n",
       "    </tr>\n",
       "    <tr>\n",
       "      <th>4</th>\n",
       "      <td>5</td>\n",
       "      <td>C8</td>\n",
       "      <td>2190</td>\n",
       "      <td>Rented</td>\n",
       "      <td>Individual</td>\n",
       "      <td>44</td>\n",
       "      <td>44</td>\n",
       "      <td>No</td>\n",
       "      <td>X2</td>\n",
       "      <td>3.0</td>\n",
       "      <td>1.0</td>\n",
       "      <td>16</td>\n",
       "      <td>10404.0</td>\n",
       "      <td>0</td>\n",
       "    </tr>\n",
       "  </tbody>\n",
       "</table>\n",
       "</div>"
      ],
      "text/plain": [
       "   ID City_Code  Region_Code Accomodation_Type Reco_Insurance_Type  Upper_Age  \\\n",
       "0   1        C3         3213            Rented          Individual         36   \n",
       "1   2        C5         1117             Owned               Joint         75   \n",
       "2   3        C5         3732             Owned          Individual         32   \n",
       "3   4       C24         4378             Owned               Joint         52   \n",
       "4   5        C8         2190            Rented          Individual         44   \n",
       "\n",
       "   Lower_Age Is_Spouse Health Indicator Holding_Policy_Duration  \\\n",
       "0         36        No               X1                     14+   \n",
       "1         22        No               X2                     NaN   \n",
       "2         32        No              NaN                     1.0   \n",
       "3         48        No               X1                     14+   \n",
       "4         44        No               X2                     3.0   \n",
       "\n",
       "   Holding_Policy_Type  Reco_Policy_Cat  Reco_Policy_Premium  Response  \n",
       "0                  3.0               22              11628.0         0  \n",
       "1                  NaN               22              30510.0         0  \n",
       "2                  1.0               19               7450.0         1  \n",
       "3                  3.0               19              17780.0         0  \n",
       "4                  1.0               16              10404.0         0  "
      ]
     },
     "execution_count": 2,
     "metadata": {},
     "output_type": "execute_result"
    }
   ],
   "source": [
    "train = pd.read_csv('train_Df64byy.csv')\n",
    "train.head()"
   ]
  },
  {
   "cell_type": "code",
   "execution_count": 3,
   "metadata": {},
   "outputs": [
    {
     "data": {
      "text/plain": [
       "(50882, 14)"
      ]
     },
     "execution_count": 3,
     "metadata": {},
     "output_type": "execute_result"
    }
   ],
   "source": [
    "train.shape"
   ]
  },
  {
   "cell_type": "code",
   "execution_count": 4,
   "metadata": {},
   "outputs": [
    {
     "data": {
      "text/html": [
       "<div>\n",
       "<style scoped>\n",
       "    .dataframe tbody tr th:only-of-type {\n",
       "        vertical-align: middle;\n",
       "    }\n",
       "\n",
       "    .dataframe tbody tr th {\n",
       "        vertical-align: top;\n",
       "    }\n",
       "\n",
       "    .dataframe thead th {\n",
       "        text-align: right;\n",
       "    }\n",
       "</style>\n",
       "<table border=\"1\" class=\"dataframe\">\n",
       "  <thead>\n",
       "    <tr style=\"text-align: right;\">\n",
       "      <th></th>\n",
       "      <th>ID</th>\n",
       "      <th>Region_Code</th>\n",
       "      <th>Upper_Age</th>\n",
       "      <th>Lower_Age</th>\n",
       "      <th>Holding_Policy_Type</th>\n",
       "      <th>Reco_Policy_Cat</th>\n",
       "      <th>Reco_Policy_Premium</th>\n",
       "      <th>Response</th>\n",
       "    </tr>\n",
       "  </thead>\n",
       "  <tbody>\n",
       "    <tr>\n",
       "      <th>count</th>\n",
       "      <td>50882.000000</td>\n",
       "      <td>50882.000000</td>\n",
       "      <td>50882.000000</td>\n",
       "      <td>50882.000000</td>\n",
       "      <td>30631.000000</td>\n",
       "      <td>50882.000000</td>\n",
       "      <td>50882.000000</td>\n",
       "      <td>50882.000000</td>\n",
       "    </tr>\n",
       "    <tr>\n",
       "      <th>mean</th>\n",
       "      <td>25441.500000</td>\n",
       "      <td>1732.788707</td>\n",
       "      <td>44.856275</td>\n",
       "      <td>42.738866</td>\n",
       "      <td>2.439228</td>\n",
       "      <td>15.115188</td>\n",
       "      <td>14183.950069</td>\n",
       "      <td>0.239947</td>\n",
       "    </tr>\n",
       "    <tr>\n",
       "      <th>std</th>\n",
       "      <td>14688.512535</td>\n",
       "      <td>1424.081652</td>\n",
       "      <td>17.310271</td>\n",
       "      <td>17.319375</td>\n",
       "      <td>1.025923</td>\n",
       "      <td>6.340663</td>\n",
       "      <td>6590.074873</td>\n",
       "      <td>0.427055</td>\n",
       "    </tr>\n",
       "    <tr>\n",
       "      <th>min</th>\n",
       "      <td>1.000000</td>\n",
       "      <td>1.000000</td>\n",
       "      <td>18.000000</td>\n",
       "      <td>16.000000</td>\n",
       "      <td>1.000000</td>\n",
       "      <td>1.000000</td>\n",
       "      <td>2280.000000</td>\n",
       "      <td>0.000000</td>\n",
       "    </tr>\n",
       "    <tr>\n",
       "      <th>25%</th>\n",
       "      <td>12721.250000</td>\n",
       "      <td>523.000000</td>\n",
       "      <td>28.000000</td>\n",
       "      <td>27.000000</td>\n",
       "      <td>1.000000</td>\n",
       "      <td>12.000000</td>\n",
       "      <td>9248.000000</td>\n",
       "      <td>0.000000</td>\n",
       "    </tr>\n",
       "    <tr>\n",
       "      <th>50%</th>\n",
       "      <td>25441.500000</td>\n",
       "      <td>1391.000000</td>\n",
       "      <td>44.000000</td>\n",
       "      <td>40.000000</td>\n",
       "      <td>3.000000</td>\n",
       "      <td>17.000000</td>\n",
       "      <td>13178.000000</td>\n",
       "      <td>0.000000</td>\n",
       "    </tr>\n",
       "    <tr>\n",
       "      <th>75%</th>\n",
       "      <td>38161.750000</td>\n",
       "      <td>2667.000000</td>\n",
       "      <td>59.000000</td>\n",
       "      <td>57.000000</td>\n",
       "      <td>3.000000</td>\n",
       "      <td>20.000000</td>\n",
       "      <td>18096.000000</td>\n",
       "      <td>0.000000</td>\n",
       "    </tr>\n",
       "    <tr>\n",
       "      <th>max</th>\n",
       "      <td>50882.000000</td>\n",
       "      <td>6194.000000</td>\n",
       "      <td>75.000000</td>\n",
       "      <td>75.000000</td>\n",
       "      <td>4.000000</td>\n",
       "      <td>22.000000</td>\n",
       "      <td>43350.400000</td>\n",
       "      <td>1.000000</td>\n",
       "    </tr>\n",
       "  </tbody>\n",
       "</table>\n",
       "</div>"
      ],
      "text/plain": [
       "                 ID   Region_Code     Upper_Age     Lower_Age  \\\n",
       "count  50882.000000  50882.000000  50882.000000  50882.000000   \n",
       "mean   25441.500000   1732.788707     44.856275     42.738866   \n",
       "std    14688.512535   1424.081652     17.310271     17.319375   \n",
       "min        1.000000      1.000000     18.000000     16.000000   \n",
       "25%    12721.250000    523.000000     28.000000     27.000000   \n",
       "50%    25441.500000   1391.000000     44.000000     40.000000   \n",
       "75%    38161.750000   2667.000000     59.000000     57.000000   \n",
       "max    50882.000000   6194.000000     75.000000     75.000000   \n",
       "\n",
       "       Holding_Policy_Type  Reco_Policy_Cat  Reco_Policy_Premium      Response  \n",
       "count         30631.000000     50882.000000         50882.000000  50882.000000  \n",
       "mean              2.439228        15.115188         14183.950069      0.239947  \n",
       "std               1.025923         6.340663          6590.074873      0.427055  \n",
       "min               1.000000         1.000000          2280.000000      0.000000  \n",
       "25%               1.000000        12.000000          9248.000000      0.000000  \n",
       "50%               3.000000        17.000000         13178.000000      0.000000  \n",
       "75%               3.000000        20.000000         18096.000000      0.000000  \n",
       "max               4.000000        22.000000         43350.400000      1.000000  "
      ]
     },
     "execution_count": 4,
     "metadata": {},
     "output_type": "execute_result"
    }
   ],
   "source": [
    "train.describe()"
   ]
  },
  {
   "cell_type": "code",
   "execution_count": 5,
   "metadata": {},
   "outputs": [
    {
     "name": "stdout",
     "output_type": "stream",
     "text": [
      "<class 'pandas.core.frame.DataFrame'>\n",
      "RangeIndex: 50882 entries, 0 to 50881\n",
      "Data columns (total 14 columns):\n",
      "ID                         50882 non-null int64\n",
      "City_Code                  50882 non-null object\n",
      "Region_Code                50882 non-null int64\n",
      "Accomodation_Type          50882 non-null object\n",
      "Reco_Insurance_Type        50882 non-null object\n",
      "Upper_Age                  50882 non-null int64\n",
      "Lower_Age                  50882 non-null int64\n",
      "Is_Spouse                  50882 non-null object\n",
      "Health Indicator           39191 non-null object\n",
      "Holding_Policy_Duration    30631 non-null object\n",
      "Holding_Policy_Type        30631 non-null float64\n",
      "Reco_Policy_Cat            50882 non-null int64\n",
      "Reco_Policy_Premium        50882 non-null float64\n",
      "Response                   50882 non-null int64\n",
      "dtypes: float64(2), int64(6), object(6)\n",
      "memory usage: 5.4+ MB\n"
     ]
    }
   ],
   "source": [
    "train.info()"
   ]
  },
  {
   "cell_type": "code",
   "execution_count": 6,
   "metadata": {},
   "outputs": [
    {
     "data": {
      "text/html": [
       "<div>\n",
       "<style scoped>\n",
       "    .dataframe tbody tr th:only-of-type {\n",
       "        vertical-align: middle;\n",
       "    }\n",
       "\n",
       "    .dataframe tbody tr th {\n",
       "        vertical-align: top;\n",
       "    }\n",
       "\n",
       "    .dataframe thead th {\n",
       "        text-align: right;\n",
       "    }\n",
       "</style>\n",
       "<table border=\"1\" class=\"dataframe\">\n",
       "  <thead>\n",
       "    <tr style=\"text-align: right;\">\n",
       "      <th></th>\n",
       "      <th>ID</th>\n",
       "      <th>City_Code</th>\n",
       "      <th>Region_Code</th>\n",
       "      <th>Accomodation_Type</th>\n",
       "      <th>Reco_Insurance_Type</th>\n",
       "      <th>Upper_Age</th>\n",
       "      <th>Lower_Age</th>\n",
       "      <th>Is_Spouse</th>\n",
       "      <th>Health Indicator</th>\n",
       "      <th>Holding_Policy_Duration</th>\n",
       "      <th>Holding_Policy_Type</th>\n",
       "      <th>Reco_Policy_Cat</th>\n",
       "      <th>Reco_Policy_Premium</th>\n",
       "    </tr>\n",
       "  </thead>\n",
       "  <tbody>\n",
       "    <tr>\n",
       "      <th>0</th>\n",
       "      <td>50883</td>\n",
       "      <td>C1</td>\n",
       "      <td>156</td>\n",
       "      <td>Owned</td>\n",
       "      <td>Individual</td>\n",
       "      <td>30</td>\n",
       "      <td>30</td>\n",
       "      <td>No</td>\n",
       "      <td>NaN</td>\n",
       "      <td>6.0</td>\n",
       "      <td>3.0</td>\n",
       "      <td>5</td>\n",
       "      <td>11934.0</td>\n",
       "    </tr>\n",
       "    <tr>\n",
       "      <th>1</th>\n",
       "      <td>50884</td>\n",
       "      <td>C4</td>\n",
       "      <td>7</td>\n",
       "      <td>Owned</td>\n",
       "      <td>Joint</td>\n",
       "      <td>69</td>\n",
       "      <td>68</td>\n",
       "      <td>Yes</td>\n",
       "      <td>X1</td>\n",
       "      <td>3.0</td>\n",
       "      <td>3.0</td>\n",
       "      <td>18</td>\n",
       "      <td>32204.8</td>\n",
       "    </tr>\n",
       "    <tr>\n",
       "      <th>2</th>\n",
       "      <td>50885</td>\n",
       "      <td>C1</td>\n",
       "      <td>564</td>\n",
       "      <td>Rented</td>\n",
       "      <td>Individual</td>\n",
       "      <td>28</td>\n",
       "      <td>28</td>\n",
       "      <td>No</td>\n",
       "      <td>X3</td>\n",
       "      <td>2.0</td>\n",
       "      <td>4.0</td>\n",
       "      <td>17</td>\n",
       "      <td>9240.0</td>\n",
       "    </tr>\n",
       "    <tr>\n",
       "      <th>3</th>\n",
       "      <td>50886</td>\n",
       "      <td>C3</td>\n",
       "      <td>1177</td>\n",
       "      <td>Rented</td>\n",
       "      <td>Individual</td>\n",
       "      <td>23</td>\n",
       "      <td>23</td>\n",
       "      <td>No</td>\n",
       "      <td>X3</td>\n",
       "      <td>3.0</td>\n",
       "      <td>3.0</td>\n",
       "      <td>18</td>\n",
       "      <td>9086.0</td>\n",
       "    </tr>\n",
       "    <tr>\n",
       "      <th>4</th>\n",
       "      <td>50887</td>\n",
       "      <td>C1</td>\n",
       "      <td>951</td>\n",
       "      <td>Owned</td>\n",
       "      <td>Individual</td>\n",
       "      <td>75</td>\n",
       "      <td>75</td>\n",
       "      <td>No</td>\n",
       "      <td>X3</td>\n",
       "      <td>NaN</td>\n",
       "      <td>NaN</td>\n",
       "      <td>5</td>\n",
       "      <td>22534.0</td>\n",
       "    </tr>\n",
       "  </tbody>\n",
       "</table>\n",
       "</div>"
      ],
      "text/plain": [
       "      ID City_Code  Region_Code Accomodation_Type Reco_Insurance_Type  \\\n",
       "0  50883        C1          156             Owned          Individual   \n",
       "1  50884        C4            7             Owned               Joint   \n",
       "2  50885        C1          564            Rented          Individual   \n",
       "3  50886        C3         1177            Rented          Individual   \n",
       "4  50887        C1          951             Owned          Individual   \n",
       "\n",
       "   Upper_Age  Lower_Age Is_Spouse Health Indicator Holding_Policy_Duration  \\\n",
       "0         30         30        No              NaN                     6.0   \n",
       "1         69         68       Yes               X1                     3.0   \n",
       "2         28         28        No               X3                     2.0   \n",
       "3         23         23        No               X3                     3.0   \n",
       "4         75         75        No               X3                     NaN   \n",
       "\n",
       "   Holding_Policy_Type  Reco_Policy_Cat  Reco_Policy_Premium  \n",
       "0                  3.0                5              11934.0  \n",
       "1                  3.0               18              32204.8  \n",
       "2                  4.0               17               9240.0  \n",
       "3                  3.0               18               9086.0  \n",
       "4                  NaN                5              22534.0  "
      ]
     },
     "execution_count": 6,
     "metadata": {},
     "output_type": "execute_result"
    }
   ],
   "source": [
    "test = pd.read_csv('test_YCcRUnU.csv')\n",
    "test.head()"
   ]
  },
  {
   "cell_type": "code",
   "execution_count": 7,
   "metadata": {},
   "outputs": [
    {
     "data": {
      "text/plain": [
       "(21805, 13)"
      ]
     },
     "execution_count": 7,
     "metadata": {},
     "output_type": "execute_result"
    }
   ],
   "source": [
    "test.shape"
   ]
  },
  {
   "cell_type": "code",
   "execution_count": 8,
   "metadata": {},
   "outputs": [
    {
     "name": "stdout",
     "output_type": "stream",
     "text": [
      "<class 'pandas.core.frame.DataFrame'>\n",
      "RangeIndex: 21805 entries, 0 to 21804\n",
      "Data columns (total 13 columns):\n",
      "ID                         21805 non-null int64\n",
      "City_Code                  21805 non-null object\n",
      "Region_Code                21805 non-null int64\n",
      "Accomodation_Type          21805 non-null object\n",
      "Reco_Insurance_Type        21805 non-null object\n",
      "Upper_Age                  21805 non-null int64\n",
      "Lower_Age                  21805 non-null int64\n",
      "Is_Spouse                  21805 non-null object\n",
      "Health Indicator           16778 non-null object\n",
      "Holding_Policy_Duration    13202 non-null object\n",
      "Holding_Policy_Type        13202 non-null float64\n",
      "Reco_Policy_Cat            21805 non-null int64\n",
      "Reco_Policy_Premium        21805 non-null float64\n",
      "dtypes: float64(2), int64(5), object(6)\n",
      "memory usage: 2.2+ MB\n"
     ]
    }
   ],
   "source": [
    "test.info()"
   ]
  },
  {
   "cell_type": "code",
   "execution_count": 9,
   "metadata": {},
   "outputs": [
    {
     "data": {
      "text/plain": [
       "ID                             0\n",
       "City_Code                      0\n",
       "Region_Code                    0\n",
       "Accomodation_Type              0\n",
       "Reco_Insurance_Type            0\n",
       "Upper_Age                      0\n",
       "Lower_Age                      0\n",
       "Is_Spouse                      0\n",
       "Health Indicator           11691\n",
       "Holding_Policy_Duration    20251\n",
       "Holding_Policy_Type        20251\n",
       "Reco_Policy_Cat                0\n",
       "Reco_Policy_Premium            0\n",
       "Response                       0\n",
       "dtype: int64"
      ]
     },
     "execution_count": 9,
     "metadata": {},
     "output_type": "execute_result"
    }
   ],
   "source": [
    "train.isnull().sum()"
   ]
  },
  {
   "cell_type": "code",
   "execution_count": 10,
   "metadata": {},
   "outputs": [
    {
     "data": {
      "text/plain": [
       "ID                            0\n",
       "City_Code                     0\n",
       "Region_Code                   0\n",
       "Accomodation_Type             0\n",
       "Reco_Insurance_Type           0\n",
       "Upper_Age                     0\n",
       "Lower_Age                     0\n",
       "Is_Spouse                     0\n",
       "Health Indicator           5027\n",
       "Holding_Policy_Duration    8603\n",
       "Holding_Policy_Type        8603\n",
       "Reco_Policy_Cat               0\n",
       "Reco_Policy_Premium           0\n",
       "dtype: int64"
      ]
     },
     "execution_count": 10,
     "metadata": {},
     "output_type": "execute_result"
    }
   ],
   "source": [
    "test.isnull().sum()"
   ]
  },
  {
   "cell_type": "code",
   "execution_count": 11,
   "metadata": {},
   "outputs": [
    {
     "data": {
      "text/plain": [
       "C1     8973\n",
       "C2     7747\n",
       "C3     4889\n",
       "C4     3671\n",
       "C9     2185\n",
       "C6     1950\n",
       "C7     1910\n",
       "C8     1806\n",
       "C10    1611\n",
       "C5     1364\n",
       "C15    1186\n",
       "C17    1159\n",
       "C11    1147\n",
       "C16    1135\n",
       "C13    1005\n",
       "C20     926\n",
       "C19     899\n",
       "C12     868\n",
       "C18     797\n",
       "C14     746\n",
       "C21     679\n",
       "C23     587\n",
       "C24     553\n",
       "C22     516\n",
       "C26     499\n",
       "C29     387\n",
       "C25     366\n",
       "C27     295\n",
       "C33     286\n",
       "C28     285\n",
       "C32     160\n",
       "C34     130\n",
       "C30      58\n",
       "C35      56\n",
       "C36      36\n",
       "C31      15\n",
       "Name: City_Code, dtype: int64"
      ]
     },
     "execution_count": 11,
     "metadata": {},
     "output_type": "execute_result"
    }
   ],
   "source": [
    "train['City_Code'].value_counts()"
   ]
  },
  {
   "cell_type": "code",
   "execution_count": 12,
   "metadata": {},
   "outputs": [
    {
     "data": {
      "text/plain": [
       "Owned     27951\n",
       "Rented    22931\n",
       "Name: Accomodation_Type, dtype: int64"
      ]
     },
     "execution_count": 12,
     "metadata": {},
     "output_type": "execute_result"
    }
   ],
   "source": [
    "train['Accomodation_Type'].value_counts()"
   ]
  },
  {
   "cell_type": "code",
   "execution_count": 13,
   "metadata": {},
   "outputs": [
    {
     "data": {
      "text/plain": [
       "Individual    40536\n",
       "Joint         10346\n",
       "Name: Reco_Insurance_Type, dtype: int64"
      ]
     },
     "execution_count": 13,
     "metadata": {},
     "output_type": "execute_result"
    }
   ],
   "source": [
    "train['Reco_Insurance_Type'].value_counts()"
   ]
  },
  {
   "cell_type": "code",
   "execution_count": 14,
   "metadata": {},
   "outputs": [
    {
     "data": {
      "text/plain": [
       "No     42460\n",
       "Yes     8422\n",
       "Name: Is_Spouse, dtype: int64"
      ]
     },
     "execution_count": 14,
     "metadata": {},
     "output_type": "execute_result"
    }
   ],
   "source": [
    "train['Is_Spouse'].value_counts()"
   ]
  },
  {
   "cell_type": "code",
   "execution_count": 15,
   "metadata": {},
   "outputs": [
    {
     "data": {
      "text/plain": [
       "X1    13010\n",
       "X2    10332\n",
       "X3     6762\n",
       "X4     5743\n",
       "X5     1727\n",
       "X6     1280\n",
       "X7      196\n",
       "X8       78\n",
       "X9       63\n",
       "Name: Health Indicator, dtype: int64"
      ]
     },
     "execution_count": 15,
     "metadata": {},
     "output_type": "execute_result"
    }
   ],
   "source": [
    "train['Health Indicator'].value_counts()"
   ]
  },
  {
   "cell_type": "code",
   "execution_count": 16,
   "metadata": {},
   "outputs": [
    {
     "data": {
      "text/plain": [
       "1.0     4499\n",
       "14+     4335\n",
       "2.0     4260\n",
       "3.0     3586\n",
       "4.0     2771\n",
       "5.0     2362\n",
       "6.0     1894\n",
       "7.0     1645\n",
       "8.0     1316\n",
       "9.0     1114\n",
       "10.0     813\n",
       "11.0     546\n",
       "12.0     513\n",
       "13.0     511\n",
       "14.0     466\n",
       "Name: Holding_Policy_Duration, dtype: int64"
      ]
     },
     "execution_count": 16,
     "metadata": {},
     "output_type": "execute_result"
    }
   ],
   "source": [
    "train['Holding_Policy_Duration'].value_counts()"
   ]
  },
  {
   "cell_type": "code",
   "execution_count": 17,
   "metadata": {},
   "outputs": [
    {
     "data": {
      "text/plain": [
       "0    38673\n",
       "1    12209\n",
       "Name: Response, dtype: int64"
      ]
     },
     "execution_count": 17,
     "metadata": {},
     "output_type": "execute_result"
    }
   ],
   "source": [
    "train['Response'].value_counts()"
   ]
  },
  {
   "cell_type": "code",
   "execution_count": 18,
   "metadata": {},
   "outputs": [],
   "source": [
    "newtrain = train\n",
    "newtest = test"
   ]
  },
  {
   "cell_type": "code",
   "execution_count": 19,
   "metadata": {},
   "outputs": [],
   "source": [
    "newtrain['City_Code'] = newtrain['City_Code'].str.extract('(\\d+)')"
   ]
  },
  {
   "cell_type": "code",
   "execution_count": 20,
   "metadata": {},
   "outputs": [],
   "source": [
    "newtest['City_Code'] = newtest['City_Code'].str.extract('(\\d+)')"
   ]
  },
  {
   "cell_type": "code",
   "execution_count": 21,
   "metadata": {},
   "outputs": [],
   "source": [
    "newtrain['Health Indicator']= newtrain['Health Indicator'].str.extract('(\\d+)')"
   ]
  },
  {
   "cell_type": "code",
   "execution_count": 22,
   "metadata": {},
   "outputs": [],
   "source": [
    "newtest['Health Indicator'] = newtest['Health Indicator'].str.extract('(\\d+)')"
   ]
  },
  {
   "cell_type": "code",
   "execution_count": 23,
   "metadata": {},
   "outputs": [],
   "source": [
    "newtrain['Holding_Policy_Duration'] = newtrain['Holding_Policy_Duration'].replace({'14+': 15.0})"
   ]
  },
  {
   "cell_type": "code",
   "execution_count": 24,
   "metadata": {},
   "outputs": [],
   "source": [
    "newtest['Holding_Policy_Duration'] = newtest['Holding_Policy_Duration'].replace({'14+' : 15.0})"
   ]
  },
  {
   "cell_type": "code",
   "execution_count": 25,
   "metadata": {},
   "outputs": [],
   "source": [
    "newtrain['Holding_Policy_Duration'] = newtrain['Holding_Policy_Duration'].fillna(newtrain['Holding_Policy_Duration'].value_counts().index[0])\n",
    "newtest['Holding_Policy_Duration'] = newtest['Holding_Policy_Duration'].fillna(newtest['Holding_Policy_Duration'].value_counts().index[0])"
   ]
  },
  {
   "cell_type": "code",
   "execution_count": 26,
   "metadata": {},
   "outputs": [],
   "source": [
    "newtrain['Health Indicator'] = newtrain['Health Indicator'].fillna(newtrain['Health Indicator'].value_counts().index[0])\n",
    "newtest['Health Indicator'] = newtest['Health Indicator'].fillna(newtest['Health Indicator'].value_counts().index[0])"
   ]
  },
  {
   "cell_type": "code",
   "execution_count": 27,
   "metadata": {},
   "outputs": [],
   "source": [
    "newtrain['Holding_Policy_Type'] = newtrain['Holding_Policy_Type'].fillna(newtrain['Holding_Policy_Type'].mean())\n",
    "newtest['Holding_Policy_Type'] = newtest['Holding_Policy_Type'].fillna(newtest['Holding_Policy_Type'].mean())"
   ]
  },
  {
   "cell_type": "code",
   "execution_count": 28,
   "metadata": {},
   "outputs": [],
   "source": [
    "x = ['City_Code', 'Health Indicator']\n",
    "for i in x:\n",
    "    newtrain[i] = newtrain[i].astype(int)\n",
    "    newtest[i] = newtest[i].astype(int)"
   ]
  },
  {
   "cell_type": "code",
   "execution_count": 29,
   "metadata": {},
   "outputs": [],
   "source": [
    "x = ['Holding_Policy_Type', 'Holding_Policy_Duration']\n",
    "for i in x:\n",
    "    newtrain[i] = newtrain[i].astype(float)\n",
    "    newtest[i] = newtest[i].astype(float)"
   ]
  },
  {
   "cell_type": "code",
   "execution_count": 30,
   "metadata": {},
   "outputs": [],
   "source": [
    "from sklearn.preprocessing import LabelEncoder\n",
    "le = LabelEncoder()"
   ]
  },
  {
   "cell_type": "code",
   "execution_count": 31,
   "metadata": {},
   "outputs": [],
   "source": [
    "x = ['Accomodation_Type', 'Reco_Insurance_Type', 'Is_Spouse']\n",
    "for i in x:\n",
    "    newtrain[i] = le.fit_transform(newtrain[i])\n",
    "    newtest[i] = le.fit_transform(newtest[i])"
   ]
  },
  {
   "cell_type": "code",
   "execution_count": 32,
   "metadata": {},
   "outputs": [],
   "source": [
    "newtrain = newtrain.drop('ID', axis = 1)\n",
    "newtest = newtest.drop('ID', axis = 1)"
   ]
  },
  {
   "cell_type": "code",
   "execution_count": 33,
   "metadata": {},
   "outputs": [
    {
     "name": "stdout",
     "output_type": "stream",
     "text": [
      "<class 'pandas.core.frame.DataFrame'>\n",
      "RangeIndex: 50882 entries, 0 to 50881\n",
      "Data columns (total 13 columns):\n",
      "City_Code                  50882 non-null int32\n",
      "Region_Code                50882 non-null int64\n",
      "Accomodation_Type          50882 non-null int32\n",
      "Reco_Insurance_Type        50882 non-null int32\n",
      "Upper_Age                  50882 non-null int64\n",
      "Lower_Age                  50882 non-null int64\n",
      "Is_Spouse                  50882 non-null int32\n",
      "Health Indicator           50882 non-null int32\n",
      "Holding_Policy_Duration    50882 non-null float64\n",
      "Holding_Policy_Type        50882 non-null float64\n",
      "Reco_Policy_Cat            50882 non-null int64\n",
      "Reco_Policy_Premium        50882 non-null float64\n",
      "Response                   50882 non-null int64\n",
      "dtypes: float64(3), int32(5), int64(5)\n",
      "memory usage: 4.1 MB\n"
     ]
    }
   ],
   "source": [
    "newtrain.info()"
   ]
  },
  {
   "cell_type": "code",
   "execution_count": 34,
   "metadata": {},
   "outputs": [
    {
     "name": "stdout",
     "output_type": "stream",
     "text": [
      "<class 'pandas.core.frame.DataFrame'>\n",
      "RangeIndex: 21805 entries, 0 to 21804\n",
      "Data columns (total 12 columns):\n",
      "City_Code                  21805 non-null int32\n",
      "Region_Code                21805 non-null int64\n",
      "Accomodation_Type          21805 non-null int32\n",
      "Reco_Insurance_Type        21805 non-null int32\n",
      "Upper_Age                  21805 non-null int64\n",
      "Lower_Age                  21805 non-null int64\n",
      "Is_Spouse                  21805 non-null int32\n",
      "Health Indicator           21805 non-null int32\n",
      "Holding_Policy_Duration    21805 non-null float64\n",
      "Holding_Policy_Type        21805 non-null float64\n",
      "Reco_Policy_Cat            21805 non-null int64\n",
      "Reco_Policy_Premium        21805 non-null float64\n",
      "dtypes: float64(3), int32(5), int64(4)\n",
      "memory usage: 1.6 MB\n"
     ]
    }
   ],
   "source": [
    "newtest.info()"
   ]
  },
  {
   "cell_type": "code",
   "execution_count": 35,
   "metadata": {},
   "outputs": [],
   "source": [
    "x = newtrain.drop('Response', axis = 1)\n",
    "y = newtrain['Response']"
   ]
  },
  {
   "cell_type": "code",
   "execution_count": 36,
   "metadata": {},
   "outputs": [],
   "source": [
    "from sklearn.model_selection import train_test_split\n",
    "x_train, x_test, y_train, y_test = train_test_split(x, y, test_size = 0.2, random_state = 42)"
   ]
  },
  {
   "cell_type": "code",
   "execution_count": 37,
   "metadata": {},
   "outputs": [
    {
     "name": "stdout",
     "output_type": "stream",
     "text": [
      "0.7520880416625725\n"
     ]
    }
   ],
   "source": [
    "from sklearn.metrics import accuracy_score\n",
    "from sklearn.ensemble import RandomForestClassifier\n",
    "rf = RandomForestClassifier()\n",
    "y_pred = rf.fit(x_train, y_train).predict(x_test)\n",
    "print(accuracy_score(y_test, y_pred))"
   ]
  },
  {
   "cell_type": "code",
   "execution_count": 39,
   "metadata": {},
   "outputs": [
    {
     "name": "stdout",
     "output_type": "stream",
     "text": [
      "Fitting 3 folds for each of 100 candidates, totalling 300 fits\n",
      "[CV] n_estimators=1, min_samples_split=6, min_samples_leaf=5, max_features=sqrt, max_depth=2, criterion=gini \n",
      "[CV]  n_estimators=1, min_samples_split=6, min_samples_leaf=5, max_features=sqrt, max_depth=2, criterion=gini, total=   0.0s\n",
      "[CV] n_estimators=1, min_samples_split=6, min_samples_leaf=5, max_features=sqrt, max_depth=2, criterion=gini \n",
      "[CV]  n_estimators=1, min_samples_split=6, min_samples_leaf=5, max_features=sqrt, max_depth=2, criterion=gini, total=   0.0s\n",
      "[CV] n_estimators=1, min_samples_split=6, min_samples_leaf=5, max_features=sqrt, max_depth=2, criterion=gini \n",
      "[CV]  n_estimators=1, min_samples_split=6, min_samples_leaf=5, max_features=sqrt, max_depth=2, criterion=gini, total=   0.0s\n",
      "[CV] n_estimators=1, min_samples_split=7, min_samples_leaf=5, max_features=auto, max_depth=5, criterion=entropy \n",
      "[CV]  n_estimators=1, min_samples_split=7, min_samples_leaf=5, max_features=auto, max_depth=5, criterion=entropy, total=   0.0s\n",
      "[CV] n_estimators=1, min_samples_split=7, min_samples_leaf=5, max_features=auto, max_depth=5, criterion=entropy \n",
      "[CV]  n_estimators=1, min_samples_split=7, min_samples_leaf=5, max_features=auto, max_depth=5, criterion=entropy, total=   0.0s\n",
      "[CV] n_estimators=1, min_samples_split=7, min_samples_leaf=5, max_features=auto, max_depth=5, criterion=entropy \n",
      "[CV]  n_estimators=1, min_samples_split=7, min_samples_leaf=5, max_features=auto, max_depth=5, criterion=entropy, total=   0.0s\n",
      "[CV] n_estimators=1, min_samples_split=7, min_samples_leaf=5, max_features=sqrt, max_depth=4, criterion=entropy \n"
     ]
    },
    {
     "name": "stderr",
     "output_type": "stream",
     "text": [
      "[Parallel(n_jobs=1)]: Using backend SequentialBackend with 1 concurrent workers.\n",
      "[Parallel(n_jobs=1)]: Done   1 out of   1 | elapsed:    0.0s remaining:    0.0s\n"
     ]
    },
    {
     "name": "stdout",
     "output_type": "stream",
     "text": [
      "[CV]  n_estimators=1, min_samples_split=7, min_samples_leaf=5, max_features=sqrt, max_depth=4, criterion=entropy, total=   0.0s\n",
      "[CV] n_estimators=1, min_samples_split=7, min_samples_leaf=5, max_features=sqrt, max_depth=4, criterion=entropy \n",
      "[CV]  n_estimators=1, min_samples_split=7, min_samples_leaf=5, max_features=sqrt, max_depth=4, criterion=entropy, total=   0.0s\n",
      "[CV] n_estimators=1, min_samples_split=7, min_samples_leaf=5, max_features=sqrt, max_depth=4, criterion=entropy \n",
      "[CV]  n_estimators=1, min_samples_split=7, min_samples_leaf=5, max_features=sqrt, max_depth=4, criterion=entropy, total=   0.0s\n",
      "[CV] n_estimators=1, min_samples_split=5, min_samples_leaf=10, max_features=sqrt, max_depth=1, criterion=entropy \n",
      "[CV]  n_estimators=1, min_samples_split=5, min_samples_leaf=10, max_features=sqrt, max_depth=1, criterion=entropy, total=   0.0s\n",
      "[CV] n_estimators=1, min_samples_split=5, min_samples_leaf=10, max_features=sqrt, max_depth=1, criterion=entropy \n",
      "[CV]  n_estimators=1, min_samples_split=5, min_samples_leaf=10, max_features=sqrt, max_depth=1, criterion=entropy, total=   0.0s\n",
      "[CV] n_estimators=1, min_samples_split=5, min_samples_leaf=10, max_features=sqrt, max_depth=1, criterion=entropy \n",
      "[CV]  n_estimators=1, min_samples_split=5, min_samples_leaf=10, max_features=sqrt, max_depth=1, criterion=entropy, total=   0.0s\n",
      "[CV] n_estimators=1, min_samples_split=7, min_samples_leaf=10, max_features=sqrt, max_depth=4, criterion=entropy \n",
      "[CV]  n_estimators=1, min_samples_split=7, min_samples_leaf=10, max_features=sqrt, max_depth=4, criterion=entropy, total=   0.0s\n",
      "[CV] n_estimators=1, min_samples_split=7, min_samples_leaf=10, max_features=sqrt, max_depth=4, criterion=entropy \n",
      "[CV]  n_estimators=1, min_samples_split=7, min_samples_leaf=10, max_features=sqrt, max_depth=4, criterion=entropy, total=   0.0s\n",
      "[CV] n_estimators=1, min_samples_split=7, min_samples_leaf=10, max_features=sqrt, max_depth=4, criterion=entropy \n",
      "[CV]  n_estimators=1, min_samples_split=7, min_samples_leaf=10, max_features=sqrt, max_depth=4, criterion=entropy, total=   0.0s\n",
      "[CV] n_estimators=1, min_samples_split=5, min_samples_leaf=5, max_features=auto, max_depth=5, criterion=gini \n",
      "[CV]  n_estimators=1, min_samples_split=5, min_samples_leaf=5, max_features=auto, max_depth=5, criterion=gini, total=   0.0s\n",
      "[CV] n_estimators=1, min_samples_split=5, min_samples_leaf=5, max_features=auto, max_depth=5, criterion=gini \n",
      "[CV]  n_estimators=1, min_samples_split=5, min_samples_leaf=5, max_features=auto, max_depth=5, criterion=gini, total=   0.0s\n",
      "[CV] n_estimators=1, min_samples_split=5, min_samples_leaf=5, max_features=auto, max_depth=5, criterion=gini \n",
      "[CV]  n_estimators=1, min_samples_split=5, min_samples_leaf=5, max_features=auto, max_depth=5, criterion=gini, total=   0.0s\n",
      "[CV] n_estimators=1, min_samples_split=6, min_samples_leaf=2, max_features=sqrt, max_depth=1, criterion=entropy \n",
      "[CV]  n_estimators=1, min_samples_split=6, min_samples_leaf=2, max_features=sqrt, max_depth=1, criterion=entropy, total=   0.0s\n",
      "[CV] n_estimators=1, min_samples_split=6, min_samples_leaf=2, max_features=sqrt, max_depth=1, criterion=entropy \n",
      "[CV]  n_estimators=1, min_samples_split=6, min_samples_leaf=2, max_features=sqrt, max_depth=1, criterion=entropy, total=   0.0s\n",
      "[CV] n_estimators=1, min_samples_split=6, min_samples_leaf=2, max_features=sqrt, max_depth=1, criterion=entropy \n",
      "[CV]  n_estimators=1, min_samples_split=6, min_samples_leaf=2, max_features=sqrt, max_depth=1, criterion=entropy, total=   0.0s\n",
      "[CV] n_estimators=1, min_samples_split=3, min_samples_leaf=10, max_features=auto, max_depth=4, criterion=entropy \n",
      "[CV]  n_estimators=1, min_samples_split=3, min_samples_leaf=10, max_features=auto, max_depth=4, criterion=entropy, total=   0.0s\n",
      "[CV] n_estimators=1, min_samples_split=3, min_samples_leaf=10, max_features=auto, max_depth=4, criterion=entropy \n",
      "[CV]  n_estimators=1, min_samples_split=3, min_samples_leaf=10, max_features=auto, max_depth=4, criterion=entropy, total=   0.0s\n",
      "[CV] n_estimators=1, min_samples_split=3, min_samples_leaf=10, max_features=auto, max_depth=4, criterion=entropy \n",
      "[CV]  n_estimators=1, min_samples_split=3, min_samples_leaf=10, max_features=auto, max_depth=4, criterion=entropy, total=   0.0s\n",
      "[CV] n_estimators=1, min_samples_split=5, min_samples_leaf=10, max_features=sqrt, max_depth=2, criterion=gini \n",
      "[CV]  n_estimators=1, min_samples_split=5, min_samples_leaf=10, max_features=sqrt, max_depth=2, criterion=gini, total=   0.0s\n",
      "[CV] n_estimators=1, min_samples_split=5, min_samples_leaf=10, max_features=sqrt, max_depth=2, criterion=gini \n",
      "[CV]  n_estimators=1, min_samples_split=5, min_samples_leaf=10, max_features=sqrt, max_depth=2, criterion=gini, total=   0.0s\n",
      "[CV] n_estimators=1, min_samples_split=5, min_samples_leaf=10, max_features=sqrt, max_depth=2, criterion=gini \n",
      "[CV]  n_estimators=1, min_samples_split=5, min_samples_leaf=10, max_features=sqrt, max_depth=2, criterion=gini, total=   0.0s\n",
      "[CV] n_estimators=1, min_samples_split=5, min_samples_leaf=1, max_features=auto, max_depth=6, criterion=entropy \n",
      "[CV]  n_estimators=1, min_samples_split=5, min_samples_leaf=1, max_features=auto, max_depth=6, criterion=entropy, total=   0.0s\n",
      "[CV] n_estimators=1, min_samples_split=5, min_samples_leaf=1, max_features=auto, max_depth=6, criterion=entropy \n",
      "[CV]  n_estimators=1, min_samples_split=5, min_samples_leaf=1, max_features=auto, max_depth=6, criterion=entropy, total=   0.0s\n",
      "[CV] n_estimators=1, min_samples_split=5, min_samples_leaf=1, max_features=auto, max_depth=6, criterion=entropy \n",
      "[CV]  n_estimators=1, min_samples_split=5, min_samples_leaf=1, max_features=auto, max_depth=6, criterion=entropy, total=   0.0s\n",
      "[CV] n_estimators=1, min_samples_split=7, min_samples_leaf=2, max_features=auto, max_depth=1, criterion=gini \n",
      "[CV]  n_estimators=1, min_samples_split=7, min_samples_leaf=2, max_features=auto, max_depth=1, criterion=gini, total=   0.0s\n",
      "[CV] n_estimators=1, min_samples_split=7, min_samples_leaf=2, max_features=auto, max_depth=1, criterion=gini \n",
      "[CV]  n_estimators=1, min_samples_split=7, min_samples_leaf=2, max_features=auto, max_depth=1, criterion=gini, total=   0.0s\n",
      "[CV] n_estimators=1, min_samples_split=7, min_samples_leaf=2, max_features=auto, max_depth=1, criterion=gini \n",
      "[CV]  n_estimators=1, min_samples_split=7, min_samples_leaf=2, max_features=auto, max_depth=1, criterion=gini, total=   0.0s\n",
      "[CV] n_estimators=1, min_samples_split=4, min_samples_leaf=1, max_features=auto, max_depth=2, criterion=entropy \n",
      "[CV]  n_estimators=1, min_samples_split=4, min_samples_leaf=1, max_features=auto, max_depth=2, criterion=entropy, total=   0.0s\n",
      "[CV] n_estimators=1, min_samples_split=4, min_samples_leaf=1, max_features=auto, max_depth=2, criterion=entropy \n",
      "[CV]  n_estimators=1, min_samples_split=4, min_samples_leaf=1, max_features=auto, max_depth=2, criterion=entropy, total=   0.0s\n",
      "[CV] n_estimators=1, min_samples_split=4, min_samples_leaf=1, max_features=auto, max_depth=2, criterion=entropy \n",
      "[CV]  n_estimators=1, min_samples_split=4, min_samples_leaf=1, max_features=auto, max_depth=2, criterion=entropy, total=   0.0s\n",
      "[CV] n_estimators=1, min_samples_split=6, min_samples_leaf=5, max_features=sqrt, max_depth=5, criterion=entropy \n",
      "[CV]  n_estimators=1, min_samples_split=6, min_samples_leaf=5, max_features=sqrt, max_depth=5, criterion=entropy, total=   0.0s\n",
      "[CV] n_estimators=1, min_samples_split=6, min_samples_leaf=5, max_features=sqrt, max_depth=5, criterion=entropy \n",
      "[CV]  n_estimators=1, min_samples_split=6, min_samples_leaf=5, max_features=sqrt, max_depth=5, criterion=entropy, total=   0.0s\n",
      "[CV] n_estimators=1, min_samples_split=6, min_samples_leaf=5, max_features=sqrt, max_depth=5, criterion=entropy \n",
      "[CV]  n_estimators=1, min_samples_split=6, min_samples_leaf=5, max_features=sqrt, max_depth=5, criterion=entropy, total=   0.0s\n",
      "[CV] n_estimators=1, min_samples_split=6, min_samples_leaf=10, max_features=auto, max_depth=2, criterion=entropy \n",
      "[CV]  n_estimators=1, min_samples_split=6, min_samples_leaf=10, max_features=auto, max_depth=2, criterion=entropy, total=   0.0s\n",
      "[CV] n_estimators=1, min_samples_split=6, min_samples_leaf=10, max_features=auto, max_depth=2, criterion=entropy \n",
      "[CV]  n_estimators=1, min_samples_split=6, min_samples_leaf=10, max_features=auto, max_depth=2, criterion=entropy, total=   0.0s\n",
      "[CV] n_estimators=1, min_samples_split=6, min_samples_leaf=10, max_features=auto, max_depth=2, criterion=entropy \n"
     ]
    },
    {
     "name": "stdout",
     "output_type": "stream",
     "text": [
      "[CV]  n_estimators=1, min_samples_split=6, min_samples_leaf=10, max_features=auto, max_depth=2, criterion=entropy, total=   0.0s\n",
      "[CV] n_estimators=1, min_samples_split=3, min_samples_leaf=5, max_features=sqrt, max_depth=1, criterion=gini \n",
      "[CV]  n_estimators=1, min_samples_split=3, min_samples_leaf=5, max_features=sqrt, max_depth=1, criterion=gini, total=   0.0s\n",
      "[CV] n_estimators=1, min_samples_split=3, min_samples_leaf=5, max_features=sqrt, max_depth=1, criterion=gini \n",
      "[CV]  n_estimators=1, min_samples_split=3, min_samples_leaf=5, max_features=sqrt, max_depth=1, criterion=gini, total=   0.0s\n",
      "[CV] n_estimators=1, min_samples_split=3, min_samples_leaf=5, max_features=sqrt, max_depth=1, criterion=gini \n",
      "[CV]  n_estimators=1, min_samples_split=3, min_samples_leaf=5, max_features=sqrt, max_depth=1, criterion=gini, total=   0.0s\n",
      "[CV] n_estimators=1, min_samples_split=6, min_samples_leaf=5, max_features=auto, max_depth=3, criterion=gini \n",
      "[CV]  n_estimators=1, min_samples_split=6, min_samples_leaf=5, max_features=auto, max_depth=3, criterion=gini, total=   0.0s\n",
      "[CV] n_estimators=1, min_samples_split=6, min_samples_leaf=5, max_features=auto, max_depth=3, criterion=gini \n",
      "[CV]  n_estimators=1, min_samples_split=6, min_samples_leaf=5, max_features=auto, max_depth=3, criterion=gini, total=   0.0s\n",
      "[CV] n_estimators=1, min_samples_split=6, min_samples_leaf=5, max_features=auto, max_depth=3, criterion=gini \n",
      "[CV]  n_estimators=1, min_samples_split=6, min_samples_leaf=5, max_features=auto, max_depth=3, criterion=gini, total=   0.0s\n",
      "[CV] n_estimators=1, min_samples_split=3, min_samples_leaf=10, max_features=auto, max_depth=2, criterion=gini \n",
      "[CV]  n_estimators=1, min_samples_split=3, min_samples_leaf=10, max_features=auto, max_depth=2, criterion=gini, total=   0.0s\n",
      "[CV] n_estimators=1, min_samples_split=3, min_samples_leaf=10, max_features=auto, max_depth=2, criterion=gini \n",
      "[CV]  n_estimators=1, min_samples_split=3, min_samples_leaf=10, max_features=auto, max_depth=2, criterion=gini, total=   0.0s\n",
      "[CV] n_estimators=1, min_samples_split=3, min_samples_leaf=10, max_features=auto, max_depth=2, criterion=gini \n",
      "[CV]  n_estimators=1, min_samples_split=3, min_samples_leaf=10, max_features=auto, max_depth=2, criterion=gini, total=   0.0s\n",
      "[CV] n_estimators=1, min_samples_split=6, min_samples_leaf=1, max_features=sqrt, max_depth=5, criterion=entropy \n",
      "[CV]  n_estimators=1, min_samples_split=6, min_samples_leaf=1, max_features=sqrt, max_depth=5, criterion=entropy, total=   0.0s\n",
      "[CV] n_estimators=1, min_samples_split=6, min_samples_leaf=1, max_features=sqrt, max_depth=5, criterion=entropy \n",
      "[CV]  n_estimators=1, min_samples_split=6, min_samples_leaf=1, max_features=sqrt, max_depth=5, criterion=entropy, total=   0.0s\n",
      "[CV] n_estimators=1, min_samples_split=6, min_samples_leaf=1, max_features=sqrt, max_depth=5, criterion=entropy \n",
      "[CV]  n_estimators=1, min_samples_split=6, min_samples_leaf=1, max_features=sqrt, max_depth=5, criterion=entropy, total=   0.0s\n",
      "[CV] n_estimators=1, min_samples_split=6, min_samples_leaf=5, max_features=sqrt, max_depth=1, criterion=gini \n",
      "[CV]  n_estimators=1, min_samples_split=6, min_samples_leaf=5, max_features=sqrt, max_depth=1, criterion=gini, total=   0.0s\n",
      "[CV] n_estimators=1, min_samples_split=6, min_samples_leaf=5, max_features=sqrt, max_depth=1, criterion=gini \n",
      "[CV]  n_estimators=1, min_samples_split=6, min_samples_leaf=5, max_features=sqrt, max_depth=1, criterion=gini, total=   0.0s\n",
      "[CV] n_estimators=1, min_samples_split=6, min_samples_leaf=5, max_features=sqrt, max_depth=1, criterion=gini \n",
      "[CV]  n_estimators=1, min_samples_split=6, min_samples_leaf=5, max_features=sqrt, max_depth=1, criterion=gini, total=   0.0s\n",
      "[CV] n_estimators=1, min_samples_split=6, min_samples_leaf=1, max_features=auto, max_depth=6, criterion=gini \n",
      "[CV]  n_estimators=1, min_samples_split=6, min_samples_leaf=1, max_features=auto, max_depth=6, criterion=gini, total=   0.0s\n",
      "[CV] n_estimators=1, min_samples_split=6, min_samples_leaf=1, max_features=auto, max_depth=6, criterion=gini \n",
      "[CV]  n_estimators=1, min_samples_split=6, min_samples_leaf=1, max_features=auto, max_depth=6, criterion=gini, total=   0.0s\n",
      "[CV] n_estimators=1, min_samples_split=6, min_samples_leaf=1, max_features=auto, max_depth=6, criterion=gini \n",
      "[CV]  n_estimators=1, min_samples_split=6, min_samples_leaf=1, max_features=auto, max_depth=6, criterion=gini, total=   0.0s\n",
      "[CV] n_estimators=1, min_samples_split=3, min_samples_leaf=1, max_features=sqrt, max_depth=5, criterion=gini \n",
      "[CV]  n_estimators=1, min_samples_split=3, min_samples_leaf=1, max_features=sqrt, max_depth=5, criterion=gini, total=   0.0s\n",
      "[CV] n_estimators=1, min_samples_split=3, min_samples_leaf=1, max_features=sqrt, max_depth=5, criterion=gini \n",
      "[CV]  n_estimators=1, min_samples_split=3, min_samples_leaf=1, max_features=sqrt, max_depth=5, criterion=gini, total=   0.0s\n",
      "[CV] n_estimators=1, min_samples_split=3, min_samples_leaf=1, max_features=sqrt, max_depth=5, criterion=gini \n",
      "[CV]  n_estimators=1, min_samples_split=3, min_samples_leaf=1, max_features=sqrt, max_depth=5, criterion=gini, total=   0.0s\n",
      "[CV] n_estimators=1, min_samples_split=3, min_samples_leaf=2, max_features=sqrt, max_depth=6, criterion=entropy \n",
      "[CV]  n_estimators=1, min_samples_split=3, min_samples_leaf=2, max_features=sqrt, max_depth=6, criterion=entropy, total=   0.0s\n",
      "[CV] n_estimators=1, min_samples_split=3, min_samples_leaf=2, max_features=sqrt, max_depth=6, criterion=entropy \n",
      "[CV]  n_estimators=1, min_samples_split=3, min_samples_leaf=2, max_features=sqrt, max_depth=6, criterion=entropy, total=   0.0s\n",
      "[CV] n_estimators=1, min_samples_split=3, min_samples_leaf=2, max_features=sqrt, max_depth=6, criterion=entropy \n",
      "[CV]  n_estimators=1, min_samples_split=3, min_samples_leaf=2, max_features=sqrt, max_depth=6, criterion=entropy, total=   0.0s\n",
      "[CV] n_estimators=1, min_samples_split=3, min_samples_leaf=5, max_features=sqrt, max_depth=2, criterion=gini \n",
      "[CV]  n_estimators=1, min_samples_split=3, min_samples_leaf=5, max_features=sqrt, max_depth=2, criterion=gini, total=   0.0s\n",
      "[CV] n_estimators=1, min_samples_split=3, min_samples_leaf=5, max_features=sqrt, max_depth=2, criterion=gini \n",
      "[CV]  n_estimators=1, min_samples_split=3, min_samples_leaf=5, max_features=sqrt, max_depth=2, criterion=gini, total=   0.0s\n",
      "[CV] n_estimators=1, min_samples_split=3, min_samples_leaf=5, max_features=sqrt, max_depth=2, criterion=gini \n",
      "[CV]  n_estimators=1, min_samples_split=3, min_samples_leaf=5, max_features=sqrt, max_depth=2, criterion=gini, total=   0.0s\n",
      "[CV] n_estimators=1, min_samples_split=4, min_samples_leaf=1, max_features=sqrt, max_depth=1, criterion=entropy \n",
      "[CV]  n_estimators=1, min_samples_split=4, min_samples_leaf=1, max_features=sqrt, max_depth=1, criterion=entropy, total=   0.0s\n",
      "[CV] n_estimators=1, min_samples_split=4, min_samples_leaf=1, max_features=sqrt, max_depth=1, criterion=entropy \n",
      "[CV]  n_estimators=1, min_samples_split=4, min_samples_leaf=1, max_features=sqrt, max_depth=1, criterion=entropy, total=   0.0s\n",
      "[CV] n_estimators=1, min_samples_split=4, min_samples_leaf=1, max_features=sqrt, max_depth=1, criterion=entropy \n",
      "[CV]  n_estimators=1, min_samples_split=4, min_samples_leaf=1, max_features=sqrt, max_depth=1, criterion=entropy, total=   0.0s\n",
      "[CV] n_estimators=1, min_samples_split=7, min_samples_leaf=1, max_features=sqrt, max_depth=3, criterion=gini \n",
      "[CV]  n_estimators=1, min_samples_split=7, min_samples_leaf=1, max_features=sqrt, max_depth=3, criterion=gini, total=   0.0s\n",
      "[CV] n_estimators=1, min_samples_split=7, min_samples_leaf=1, max_features=sqrt, max_depth=3, criterion=gini \n",
      "[CV]  n_estimators=1, min_samples_split=7, min_samples_leaf=1, max_features=sqrt, max_depth=3, criterion=gini, total=   0.0s\n",
      "[CV] n_estimators=1, min_samples_split=7, min_samples_leaf=1, max_features=sqrt, max_depth=3, criterion=gini \n",
      "[CV]  n_estimators=1, min_samples_split=7, min_samples_leaf=1, max_features=sqrt, max_depth=3, criterion=gini, total=   0.0s\n",
      "[CV] n_estimators=1, min_samples_split=7, min_samples_leaf=5, max_features=sqrt, max_depth=6, criterion=entropy \n",
      "[CV]  n_estimators=1, min_samples_split=7, min_samples_leaf=5, max_features=sqrt, max_depth=6, criterion=entropy, total=   0.0s\n",
      "[CV] n_estimators=1, min_samples_split=7, min_samples_leaf=5, max_features=sqrt, max_depth=6, criterion=entropy \n",
      "[CV]  n_estimators=1, min_samples_split=7, min_samples_leaf=5, max_features=sqrt, max_depth=6, criterion=entropy, total=   0.0s\n",
      "[CV] n_estimators=1, min_samples_split=7, min_samples_leaf=5, max_features=sqrt, max_depth=6, criterion=entropy \n",
      "[CV]  n_estimators=1, min_samples_split=7, min_samples_leaf=5, max_features=sqrt, max_depth=6, criterion=entropy, total=   0.0s\n",
      "[CV] n_estimators=1, min_samples_split=6, min_samples_leaf=10, max_features=sqrt, max_depth=3, criterion=entropy \n",
      "[CV]  n_estimators=1, min_samples_split=6, min_samples_leaf=10, max_features=sqrt, max_depth=3, criterion=entropy, total=   0.0s\n",
      "[CV] n_estimators=1, min_samples_split=6, min_samples_leaf=10, max_features=sqrt, max_depth=3, criterion=entropy \n",
      "[CV]  n_estimators=1, min_samples_split=6, min_samples_leaf=10, max_features=sqrt, max_depth=3, criterion=entropy, total=   0.0s\n",
      "[CV] n_estimators=1, min_samples_split=6, min_samples_leaf=10, max_features=sqrt, max_depth=3, criterion=entropy \n",
      "[CV]  n_estimators=1, min_samples_split=6, min_samples_leaf=10, max_features=sqrt, max_depth=3, criterion=entropy, total=   0.0s\n",
      "[CV] n_estimators=1, min_samples_split=4, min_samples_leaf=1, max_features=auto, max_depth=3, criterion=entropy \n"
     ]
    },
    {
     "name": "stdout",
     "output_type": "stream",
     "text": [
      "[CV]  n_estimators=1, min_samples_split=4, min_samples_leaf=1, max_features=auto, max_depth=3, criterion=entropy, total=   0.0s\n",
      "[CV] n_estimators=1, min_samples_split=4, min_samples_leaf=1, max_features=auto, max_depth=3, criterion=entropy \n",
      "[CV]  n_estimators=1, min_samples_split=4, min_samples_leaf=1, max_features=auto, max_depth=3, criterion=entropy, total=   0.0s\n",
      "[CV] n_estimators=1, min_samples_split=4, min_samples_leaf=1, max_features=auto, max_depth=3, criterion=entropy \n",
      "[CV]  n_estimators=1, min_samples_split=4, min_samples_leaf=1, max_features=auto, max_depth=3, criterion=entropy, total=   0.0s\n",
      "[CV] n_estimators=1, min_samples_split=4, min_samples_leaf=1, max_features=sqrt, max_depth=2, criterion=entropy \n",
      "[CV]  n_estimators=1, min_samples_split=4, min_samples_leaf=1, max_features=sqrt, max_depth=2, criterion=entropy, total=   0.0s\n",
      "[CV] n_estimators=1, min_samples_split=4, min_samples_leaf=1, max_features=sqrt, max_depth=2, criterion=entropy \n",
      "[CV]  n_estimators=1, min_samples_split=4, min_samples_leaf=1, max_features=sqrt, max_depth=2, criterion=entropy, total=   0.0s\n",
      "[CV] n_estimators=1, min_samples_split=4, min_samples_leaf=1, max_features=sqrt, max_depth=2, criterion=entropy \n",
      "[CV]  n_estimators=1, min_samples_split=4, min_samples_leaf=1, max_features=sqrt, max_depth=2, criterion=entropy, total=   0.0s\n",
      "[CV] n_estimators=1, min_samples_split=3, min_samples_leaf=1, max_features=auto, max_depth=1, criterion=gini \n",
      "[CV]  n_estimators=1, min_samples_split=3, min_samples_leaf=1, max_features=auto, max_depth=1, criterion=gini, total=   0.0s\n",
      "[CV] n_estimators=1, min_samples_split=3, min_samples_leaf=1, max_features=auto, max_depth=1, criterion=gini \n",
      "[CV]  n_estimators=1, min_samples_split=3, min_samples_leaf=1, max_features=auto, max_depth=1, criterion=gini, total=   0.0s\n",
      "[CV] n_estimators=1, min_samples_split=3, min_samples_leaf=1, max_features=auto, max_depth=1, criterion=gini \n",
      "[CV]  n_estimators=1, min_samples_split=3, min_samples_leaf=1, max_features=auto, max_depth=1, criterion=gini, total=   0.0s\n",
      "[CV] n_estimators=1, min_samples_split=4, min_samples_leaf=5, max_features=sqrt, max_depth=4, criterion=entropy \n",
      "[CV]  n_estimators=1, min_samples_split=4, min_samples_leaf=5, max_features=sqrt, max_depth=4, criterion=entropy, total=   0.0s\n",
      "[CV] n_estimators=1, min_samples_split=4, min_samples_leaf=5, max_features=sqrt, max_depth=4, criterion=entropy \n",
      "[CV]  n_estimators=1, min_samples_split=4, min_samples_leaf=5, max_features=sqrt, max_depth=4, criterion=entropy, total=   0.0s\n",
      "[CV] n_estimators=1, min_samples_split=4, min_samples_leaf=5, max_features=sqrt, max_depth=4, criterion=entropy \n",
      "[CV]  n_estimators=1, min_samples_split=4, min_samples_leaf=5, max_features=sqrt, max_depth=4, criterion=entropy, total=   0.0s\n",
      "[CV] n_estimators=1, min_samples_split=4, min_samples_leaf=5, max_features=auto, max_depth=1, criterion=gini \n",
      "[CV]  n_estimators=1, min_samples_split=4, min_samples_leaf=5, max_features=auto, max_depth=1, criterion=gini, total=   0.0s\n",
      "[CV] n_estimators=1, min_samples_split=4, min_samples_leaf=5, max_features=auto, max_depth=1, criterion=gini \n",
      "[CV]  n_estimators=1, min_samples_split=4, min_samples_leaf=5, max_features=auto, max_depth=1, criterion=gini, total=   0.0s\n",
      "[CV] n_estimators=1, min_samples_split=4, min_samples_leaf=5, max_features=auto, max_depth=1, criterion=gini \n",
      "[CV]  n_estimators=1, min_samples_split=4, min_samples_leaf=5, max_features=auto, max_depth=1, criterion=gini, total=   0.0s\n",
      "[CV] n_estimators=1, min_samples_split=3, min_samples_leaf=1, max_features=sqrt, max_depth=4, criterion=entropy \n",
      "[CV]  n_estimators=1, min_samples_split=3, min_samples_leaf=1, max_features=sqrt, max_depth=4, criterion=entropy, total=   0.0s\n",
      "[CV] n_estimators=1, min_samples_split=3, min_samples_leaf=1, max_features=sqrt, max_depth=4, criterion=entropy \n",
      "[CV]  n_estimators=1, min_samples_split=3, min_samples_leaf=1, max_features=sqrt, max_depth=4, criterion=entropy, total=   0.0s\n",
      "[CV] n_estimators=1, min_samples_split=3, min_samples_leaf=1, max_features=sqrt, max_depth=4, criterion=entropy \n",
      "[CV]  n_estimators=1, min_samples_split=3, min_samples_leaf=1, max_features=sqrt, max_depth=4, criterion=entropy, total=   0.0s\n",
      "[CV] n_estimators=1, min_samples_split=3, min_samples_leaf=5, max_features=sqrt, max_depth=5, criterion=entropy \n",
      "[CV]  n_estimators=1, min_samples_split=3, min_samples_leaf=5, max_features=sqrt, max_depth=5, criterion=entropy, total=   0.0s\n",
      "[CV] n_estimators=1, min_samples_split=3, min_samples_leaf=5, max_features=sqrt, max_depth=5, criterion=entropy \n",
      "[CV]  n_estimators=1, min_samples_split=3, min_samples_leaf=5, max_features=sqrt, max_depth=5, criterion=entropy, total=   0.0s\n",
      "[CV] n_estimators=1, min_samples_split=3, min_samples_leaf=5, max_features=sqrt, max_depth=5, criterion=entropy \n",
      "[CV]  n_estimators=1, min_samples_split=3, min_samples_leaf=5, max_features=sqrt, max_depth=5, criterion=entropy, total=   0.0s\n",
      "[CV] n_estimators=1, min_samples_split=5, min_samples_leaf=10, max_features=auto, max_depth=4, criterion=entropy \n",
      "[CV]  n_estimators=1, min_samples_split=5, min_samples_leaf=10, max_features=auto, max_depth=4, criterion=entropy, total=   0.0s\n",
      "[CV] n_estimators=1, min_samples_split=5, min_samples_leaf=10, max_features=auto, max_depth=4, criterion=entropy \n",
      "[CV]  n_estimators=1, min_samples_split=5, min_samples_leaf=10, max_features=auto, max_depth=4, criterion=entropy, total=   0.0s\n",
      "[CV] n_estimators=1, min_samples_split=5, min_samples_leaf=10, max_features=auto, max_depth=4, criterion=entropy \n",
      "[CV]  n_estimators=1, min_samples_split=5, min_samples_leaf=10, max_features=auto, max_depth=4, criterion=entropy, total=   0.0s\n",
      "[CV] n_estimators=1, min_samples_split=5, min_samples_leaf=10, max_features=sqrt, max_depth=3, criterion=gini \n",
      "[CV]  n_estimators=1, min_samples_split=5, min_samples_leaf=10, max_features=sqrt, max_depth=3, criterion=gini, total=   0.0s\n",
      "[CV] n_estimators=1, min_samples_split=5, min_samples_leaf=10, max_features=sqrt, max_depth=3, criterion=gini \n",
      "[CV]  n_estimators=1, min_samples_split=5, min_samples_leaf=10, max_features=sqrt, max_depth=3, criterion=gini, total=   0.0s\n",
      "[CV] n_estimators=1, min_samples_split=5, min_samples_leaf=10, max_features=sqrt, max_depth=3, criterion=gini \n",
      "[CV]  n_estimators=1, min_samples_split=5, min_samples_leaf=10, max_features=sqrt, max_depth=3, criterion=gini, total=   0.0s\n",
      "[CV] n_estimators=1, min_samples_split=5, min_samples_leaf=1, max_features=sqrt, max_depth=2, criterion=entropy \n",
      "[CV]  n_estimators=1, min_samples_split=5, min_samples_leaf=1, max_features=sqrt, max_depth=2, criterion=entropy, total=   0.0s\n",
      "[CV] n_estimators=1, min_samples_split=5, min_samples_leaf=1, max_features=sqrt, max_depth=2, criterion=entropy \n",
      "[CV]  n_estimators=1, min_samples_split=5, min_samples_leaf=1, max_features=sqrt, max_depth=2, criterion=entropy, total=   0.0s\n",
      "[CV] n_estimators=1, min_samples_split=5, min_samples_leaf=1, max_features=sqrt, max_depth=2, criterion=entropy \n",
      "[CV]  n_estimators=1, min_samples_split=5, min_samples_leaf=1, max_features=sqrt, max_depth=2, criterion=entropy, total=   0.0s\n",
      "[CV] n_estimators=1, min_samples_split=6, min_samples_leaf=5, max_features=auto, max_depth=5, criterion=gini \n",
      "[CV]  n_estimators=1, min_samples_split=6, min_samples_leaf=5, max_features=auto, max_depth=5, criterion=gini, total=   0.0s\n",
      "[CV] n_estimators=1, min_samples_split=6, min_samples_leaf=5, max_features=auto, max_depth=5, criterion=gini \n",
      "[CV]  n_estimators=1, min_samples_split=6, min_samples_leaf=5, max_features=auto, max_depth=5, criterion=gini, total=   0.0s\n",
      "[CV] n_estimators=1, min_samples_split=6, min_samples_leaf=5, max_features=auto, max_depth=5, criterion=gini \n",
      "[CV]  n_estimators=1, min_samples_split=6, min_samples_leaf=5, max_features=auto, max_depth=5, criterion=gini, total=   0.0s\n",
      "[CV] n_estimators=1, min_samples_split=4, min_samples_leaf=5, max_features=sqrt, max_depth=6, criterion=entropy \n",
      "[CV]  n_estimators=1, min_samples_split=4, min_samples_leaf=5, max_features=sqrt, max_depth=6, criterion=entropy, total=   0.0s\n",
      "[CV] n_estimators=1, min_samples_split=4, min_samples_leaf=5, max_features=sqrt, max_depth=6, criterion=entropy \n",
      "[CV]  n_estimators=1, min_samples_split=4, min_samples_leaf=5, max_features=sqrt, max_depth=6, criterion=entropy, total=   0.0s\n",
      "[CV] n_estimators=1, min_samples_split=4, min_samples_leaf=5, max_features=sqrt, max_depth=6, criterion=entropy \n",
      "[CV]  n_estimators=1, min_samples_split=4, min_samples_leaf=5, max_features=sqrt, max_depth=6, criterion=entropy, total=   0.0s\n",
      "[CV] n_estimators=1, min_samples_split=6, min_samples_leaf=10, max_features=auto, max_depth=1, criterion=gini \n",
      "[CV]  n_estimators=1, min_samples_split=6, min_samples_leaf=10, max_features=auto, max_depth=1, criterion=gini, total=   0.0s\n",
      "[CV] n_estimators=1, min_samples_split=6, min_samples_leaf=10, max_features=auto, max_depth=1, criterion=gini \n",
      "[CV]  n_estimators=1, min_samples_split=6, min_samples_leaf=10, max_features=auto, max_depth=1, criterion=gini, total=   0.0s\n",
      "[CV] n_estimators=1, min_samples_split=6, min_samples_leaf=10, max_features=auto, max_depth=1, criterion=gini \n"
     ]
    },
    {
     "name": "stdout",
     "output_type": "stream",
     "text": [
      "[CV]  n_estimators=1, min_samples_split=6, min_samples_leaf=10, max_features=auto, max_depth=1, criterion=gini, total=   0.0s\n",
      "[CV] n_estimators=1, min_samples_split=5, min_samples_leaf=5, max_features=auto, max_depth=3, criterion=entropy \n",
      "[CV]  n_estimators=1, min_samples_split=5, min_samples_leaf=5, max_features=auto, max_depth=3, criterion=entropy, total=   0.0s\n",
      "[CV] n_estimators=1, min_samples_split=5, min_samples_leaf=5, max_features=auto, max_depth=3, criterion=entropy \n",
      "[CV]  n_estimators=1, min_samples_split=5, min_samples_leaf=5, max_features=auto, max_depth=3, criterion=entropy, total=   0.0s\n",
      "[CV] n_estimators=1, min_samples_split=5, min_samples_leaf=5, max_features=auto, max_depth=3, criterion=entropy \n",
      "[CV]  n_estimators=1, min_samples_split=5, min_samples_leaf=5, max_features=auto, max_depth=3, criterion=entropy, total=   0.0s\n",
      "[CV] n_estimators=1, min_samples_split=3, min_samples_leaf=2, max_features=sqrt, max_depth=5, criterion=gini \n",
      "[CV]  n_estimators=1, min_samples_split=3, min_samples_leaf=2, max_features=sqrt, max_depth=5, criterion=gini, total=   0.0s\n",
      "[CV] n_estimators=1, min_samples_split=3, min_samples_leaf=2, max_features=sqrt, max_depth=5, criterion=gini \n",
      "[CV]  n_estimators=1, min_samples_split=3, min_samples_leaf=2, max_features=sqrt, max_depth=5, criterion=gini, total=   0.0s\n",
      "[CV] n_estimators=1, min_samples_split=3, min_samples_leaf=2, max_features=sqrt, max_depth=5, criterion=gini \n",
      "[CV]  n_estimators=1, min_samples_split=3, min_samples_leaf=2, max_features=sqrt, max_depth=5, criterion=gini, total=   0.0s\n",
      "[CV] n_estimators=1, min_samples_split=3, min_samples_leaf=5, max_features=auto, max_depth=3, criterion=gini \n",
      "[CV]  n_estimators=1, min_samples_split=3, min_samples_leaf=5, max_features=auto, max_depth=3, criterion=gini, total=   0.0s\n",
      "[CV] n_estimators=1, min_samples_split=3, min_samples_leaf=5, max_features=auto, max_depth=3, criterion=gini \n",
      "[CV]  n_estimators=1, min_samples_split=3, min_samples_leaf=5, max_features=auto, max_depth=3, criterion=gini, total=   0.0s\n",
      "[CV] n_estimators=1, min_samples_split=3, min_samples_leaf=5, max_features=auto, max_depth=3, criterion=gini \n",
      "[CV]  n_estimators=1, min_samples_split=3, min_samples_leaf=5, max_features=auto, max_depth=3, criterion=gini, total=   0.0s\n",
      "[CV] n_estimators=1, min_samples_split=3, min_samples_leaf=1, max_features=sqrt, max_depth=6, criterion=gini \n",
      "[CV]  n_estimators=1, min_samples_split=3, min_samples_leaf=1, max_features=sqrt, max_depth=6, criterion=gini, total=   0.0s\n",
      "[CV] n_estimators=1, min_samples_split=3, min_samples_leaf=1, max_features=sqrt, max_depth=6, criterion=gini \n",
      "[CV]  n_estimators=1, min_samples_split=3, min_samples_leaf=1, max_features=sqrt, max_depth=6, criterion=gini, total=   0.0s\n",
      "[CV] n_estimators=1, min_samples_split=3, min_samples_leaf=1, max_features=sqrt, max_depth=6, criterion=gini \n",
      "[CV]  n_estimators=1, min_samples_split=3, min_samples_leaf=1, max_features=sqrt, max_depth=6, criterion=gini, total=   0.0s\n",
      "[CV] n_estimators=1, min_samples_split=7, min_samples_leaf=10, max_features=sqrt, max_depth=1, criterion=gini \n",
      "[CV]  n_estimators=1, min_samples_split=7, min_samples_leaf=10, max_features=sqrt, max_depth=1, criterion=gini, total=   0.0s\n",
      "[CV] n_estimators=1, min_samples_split=7, min_samples_leaf=10, max_features=sqrt, max_depth=1, criterion=gini \n",
      "[CV]  n_estimators=1, min_samples_split=7, min_samples_leaf=10, max_features=sqrt, max_depth=1, criterion=gini, total=   0.0s\n",
      "[CV] n_estimators=1, min_samples_split=7, min_samples_leaf=10, max_features=sqrt, max_depth=1, criterion=gini \n",
      "[CV]  n_estimators=1, min_samples_split=7, min_samples_leaf=10, max_features=sqrt, max_depth=1, criterion=gini, total=   0.0s\n",
      "[CV] n_estimators=1, min_samples_split=6, min_samples_leaf=1, max_features=auto, max_depth=3, criterion=entropy \n",
      "[CV]  n_estimators=1, min_samples_split=6, min_samples_leaf=1, max_features=auto, max_depth=3, criterion=entropy, total=   0.0s\n",
      "[CV] n_estimators=1, min_samples_split=6, min_samples_leaf=1, max_features=auto, max_depth=3, criterion=entropy \n",
      "[CV]  n_estimators=1, min_samples_split=6, min_samples_leaf=1, max_features=auto, max_depth=3, criterion=entropy, total=   0.0s\n",
      "[CV] n_estimators=1, min_samples_split=6, min_samples_leaf=1, max_features=auto, max_depth=3, criterion=entropy \n",
      "[CV]  n_estimators=1, min_samples_split=6, min_samples_leaf=1, max_features=auto, max_depth=3, criterion=entropy, total=   0.0s\n",
      "[CV] n_estimators=1, min_samples_split=7, min_samples_leaf=10, max_features=auto, max_depth=6, criterion=entropy \n",
      "[CV]  n_estimators=1, min_samples_split=7, min_samples_leaf=10, max_features=auto, max_depth=6, criterion=entropy, total=   0.0s\n",
      "[CV] n_estimators=1, min_samples_split=7, min_samples_leaf=10, max_features=auto, max_depth=6, criterion=entropy \n",
      "[CV]  n_estimators=1, min_samples_split=7, min_samples_leaf=10, max_features=auto, max_depth=6, criterion=entropy, total=   0.0s\n",
      "[CV] n_estimators=1, min_samples_split=7, min_samples_leaf=10, max_features=auto, max_depth=6, criterion=entropy \n",
      "[CV]  n_estimators=1, min_samples_split=7, min_samples_leaf=10, max_features=auto, max_depth=6, criterion=entropy, total=   0.0s\n",
      "[CV] n_estimators=1, min_samples_split=4, min_samples_leaf=10, max_features=sqrt, max_depth=2, criterion=gini \n",
      "[CV]  n_estimators=1, min_samples_split=4, min_samples_leaf=10, max_features=sqrt, max_depth=2, criterion=gini, total=   0.0s\n",
      "[CV] n_estimators=1, min_samples_split=4, min_samples_leaf=10, max_features=sqrt, max_depth=2, criterion=gini \n",
      "[CV]  n_estimators=1, min_samples_split=4, min_samples_leaf=10, max_features=sqrt, max_depth=2, criterion=gini, total=   0.0s\n",
      "[CV] n_estimators=1, min_samples_split=4, min_samples_leaf=10, max_features=sqrt, max_depth=2, criterion=gini \n",
      "[CV]  n_estimators=1, min_samples_split=4, min_samples_leaf=10, max_features=sqrt, max_depth=2, criterion=gini, total=   0.0s\n",
      "[CV] n_estimators=1, min_samples_split=3, min_samples_leaf=10, max_features=sqrt, max_depth=4, criterion=gini \n",
      "[CV]  n_estimators=1, min_samples_split=3, min_samples_leaf=10, max_features=sqrt, max_depth=4, criterion=gini, total=   0.0s\n",
      "[CV] n_estimators=1, min_samples_split=3, min_samples_leaf=10, max_features=sqrt, max_depth=4, criterion=gini \n",
      "[CV]  n_estimators=1, min_samples_split=3, min_samples_leaf=10, max_features=sqrt, max_depth=4, criterion=gini, total=   0.0s\n",
      "[CV] n_estimators=1, min_samples_split=3, min_samples_leaf=10, max_features=sqrt, max_depth=4, criterion=gini \n",
      "[CV]  n_estimators=1, min_samples_split=3, min_samples_leaf=10, max_features=sqrt, max_depth=4, criterion=gini, total=   0.0s\n",
      "[CV] n_estimators=1, min_samples_split=6, min_samples_leaf=1, max_features=sqrt, max_depth=2, criterion=gini \n",
      "[CV]  n_estimators=1, min_samples_split=6, min_samples_leaf=1, max_features=sqrt, max_depth=2, criterion=gini, total=   0.0s\n",
      "[CV] n_estimators=1, min_samples_split=6, min_samples_leaf=1, max_features=sqrt, max_depth=2, criterion=gini \n",
      "[CV]  n_estimators=1, min_samples_split=6, min_samples_leaf=1, max_features=sqrt, max_depth=2, criterion=gini, total=   0.0s\n",
      "[CV] n_estimators=1, min_samples_split=6, min_samples_leaf=1, max_features=sqrt, max_depth=2, criterion=gini \n",
      "[CV]  n_estimators=1, min_samples_split=6, min_samples_leaf=1, max_features=sqrt, max_depth=2, criterion=gini, total=   0.0s\n",
      "[CV] n_estimators=1, min_samples_split=3, min_samples_leaf=5, max_features=sqrt, max_depth=4, criterion=entropy \n",
      "[CV]  n_estimators=1, min_samples_split=3, min_samples_leaf=5, max_features=sqrt, max_depth=4, criterion=entropy, total=   0.0s\n",
      "[CV] n_estimators=1, min_samples_split=3, min_samples_leaf=5, max_features=sqrt, max_depth=4, criterion=entropy \n",
      "[CV]  n_estimators=1, min_samples_split=3, min_samples_leaf=5, max_features=sqrt, max_depth=4, criterion=entropy, total=   0.0s\n",
      "[CV] n_estimators=1, min_samples_split=3, min_samples_leaf=5, max_features=sqrt, max_depth=4, criterion=entropy \n",
      "[CV]  n_estimators=1, min_samples_split=3, min_samples_leaf=5, max_features=sqrt, max_depth=4, criterion=entropy, total=   0.0s\n",
      "[CV] n_estimators=1, min_samples_split=3, min_samples_leaf=1, max_features=sqrt, max_depth=3, criterion=entropy \n",
      "[CV]  n_estimators=1, min_samples_split=3, min_samples_leaf=1, max_features=sqrt, max_depth=3, criterion=entropy, total=   0.0s\n",
      "[CV] n_estimators=1, min_samples_split=3, min_samples_leaf=1, max_features=sqrt, max_depth=3, criterion=entropy \n",
      "[CV]  n_estimators=1, min_samples_split=3, min_samples_leaf=1, max_features=sqrt, max_depth=3, criterion=entropy, total=   0.0s\n",
      "[CV] n_estimators=1, min_samples_split=3, min_samples_leaf=1, max_features=sqrt, max_depth=3, criterion=entropy \n",
      "[CV]  n_estimators=1, min_samples_split=3, min_samples_leaf=1, max_features=sqrt, max_depth=3, criterion=entropy, total=   0.0s\n",
      "[CV] n_estimators=1, min_samples_split=3, min_samples_leaf=10, max_features=auto, max_depth=5, criterion=entropy \n"
     ]
    },
    {
     "name": "stdout",
     "output_type": "stream",
     "text": [
      "[CV]  n_estimators=1, min_samples_split=3, min_samples_leaf=10, max_features=auto, max_depth=5, criterion=entropy, total=   0.0s\n",
      "[CV] n_estimators=1, min_samples_split=3, min_samples_leaf=10, max_features=auto, max_depth=5, criterion=entropy \n",
      "[CV]  n_estimators=1, min_samples_split=3, min_samples_leaf=10, max_features=auto, max_depth=5, criterion=entropy, total=   0.0s\n",
      "[CV] n_estimators=1, min_samples_split=3, min_samples_leaf=10, max_features=auto, max_depth=5, criterion=entropy \n",
      "[CV]  n_estimators=1, min_samples_split=3, min_samples_leaf=10, max_features=auto, max_depth=5, criterion=entropy, total=   0.0s\n",
      "[CV] n_estimators=1, min_samples_split=7, min_samples_leaf=5, max_features=sqrt, max_depth=5, criterion=entropy \n",
      "[CV]  n_estimators=1, min_samples_split=7, min_samples_leaf=5, max_features=sqrt, max_depth=5, criterion=entropy, total=   0.0s\n",
      "[CV] n_estimators=1, min_samples_split=7, min_samples_leaf=5, max_features=sqrt, max_depth=5, criterion=entropy \n",
      "[CV]  n_estimators=1, min_samples_split=7, min_samples_leaf=5, max_features=sqrt, max_depth=5, criterion=entropy, total=   0.0s\n",
      "[CV] n_estimators=1, min_samples_split=7, min_samples_leaf=5, max_features=sqrt, max_depth=5, criterion=entropy \n",
      "[CV]  n_estimators=1, min_samples_split=7, min_samples_leaf=5, max_features=sqrt, max_depth=5, criterion=entropy, total=   0.0s\n",
      "[CV] n_estimators=1, min_samples_split=3, min_samples_leaf=2, max_features=sqrt, max_depth=2, criterion=entropy \n",
      "[CV]  n_estimators=1, min_samples_split=3, min_samples_leaf=2, max_features=sqrt, max_depth=2, criterion=entropy, total=   0.0s\n",
      "[CV] n_estimators=1, min_samples_split=3, min_samples_leaf=2, max_features=sqrt, max_depth=2, criterion=entropy \n",
      "[CV]  n_estimators=1, min_samples_split=3, min_samples_leaf=2, max_features=sqrt, max_depth=2, criterion=entropy, total=   0.0s\n",
      "[CV] n_estimators=1, min_samples_split=3, min_samples_leaf=2, max_features=sqrt, max_depth=2, criterion=entropy \n",
      "[CV]  n_estimators=1, min_samples_split=3, min_samples_leaf=2, max_features=sqrt, max_depth=2, criterion=entropy, total=   0.0s\n",
      "[CV] n_estimators=1, min_samples_split=4, min_samples_leaf=2, max_features=sqrt, max_depth=1, criterion=entropy \n",
      "[CV]  n_estimators=1, min_samples_split=4, min_samples_leaf=2, max_features=sqrt, max_depth=1, criterion=entropy, total=   0.0s\n",
      "[CV] n_estimators=1, min_samples_split=4, min_samples_leaf=2, max_features=sqrt, max_depth=1, criterion=entropy \n",
      "[CV]  n_estimators=1, min_samples_split=4, min_samples_leaf=2, max_features=sqrt, max_depth=1, criterion=entropy, total=   0.0s\n",
      "[CV] n_estimators=1, min_samples_split=4, min_samples_leaf=2, max_features=sqrt, max_depth=1, criterion=entropy \n",
      "[CV]  n_estimators=1, min_samples_split=4, min_samples_leaf=2, max_features=sqrt, max_depth=1, criterion=entropy, total=   0.0s\n",
      "[CV] n_estimators=1, min_samples_split=5, min_samples_leaf=1, max_features=auto, max_depth=3, criterion=gini \n",
      "[CV]  n_estimators=1, min_samples_split=5, min_samples_leaf=1, max_features=auto, max_depth=3, criterion=gini, total=   0.0s\n",
      "[CV] n_estimators=1, min_samples_split=5, min_samples_leaf=1, max_features=auto, max_depth=3, criterion=gini \n",
      "[CV]  n_estimators=1, min_samples_split=5, min_samples_leaf=1, max_features=auto, max_depth=3, criterion=gini, total=   0.0s\n",
      "[CV] n_estimators=1, min_samples_split=5, min_samples_leaf=1, max_features=auto, max_depth=3, criterion=gini \n",
      "[CV]  n_estimators=1, min_samples_split=5, min_samples_leaf=1, max_features=auto, max_depth=3, criterion=gini, total=   0.0s\n",
      "[CV] n_estimators=1, min_samples_split=4, min_samples_leaf=1, max_features=sqrt, max_depth=3, criterion=gini \n",
      "[CV]  n_estimators=1, min_samples_split=4, min_samples_leaf=1, max_features=sqrt, max_depth=3, criterion=gini, total=   0.0s\n",
      "[CV] n_estimators=1, min_samples_split=4, min_samples_leaf=1, max_features=sqrt, max_depth=3, criterion=gini \n",
      "[CV]  n_estimators=1, min_samples_split=4, min_samples_leaf=1, max_features=sqrt, max_depth=3, criterion=gini, total=   0.0s\n",
      "[CV] n_estimators=1, min_samples_split=4, min_samples_leaf=1, max_features=sqrt, max_depth=3, criterion=gini \n",
      "[CV]  n_estimators=1, min_samples_split=4, min_samples_leaf=1, max_features=sqrt, max_depth=3, criterion=gini, total=   0.0s\n",
      "[CV] n_estimators=1, min_samples_split=5, min_samples_leaf=10, max_features=sqrt, max_depth=6, criterion=entropy \n",
      "[CV]  n_estimators=1, min_samples_split=5, min_samples_leaf=10, max_features=sqrt, max_depth=6, criterion=entropy, total=   0.0s\n",
      "[CV] n_estimators=1, min_samples_split=5, min_samples_leaf=10, max_features=sqrt, max_depth=6, criterion=entropy \n",
      "[CV]  n_estimators=1, min_samples_split=5, min_samples_leaf=10, max_features=sqrt, max_depth=6, criterion=entropy, total=   0.0s\n",
      "[CV] n_estimators=1, min_samples_split=5, min_samples_leaf=10, max_features=sqrt, max_depth=6, criterion=entropy \n",
      "[CV]  n_estimators=1, min_samples_split=5, min_samples_leaf=10, max_features=sqrt, max_depth=6, criterion=entropy, total=   0.0s\n",
      "[CV] n_estimators=1, min_samples_split=6, min_samples_leaf=5, max_features=sqrt, max_depth=3, criterion=gini \n",
      "[CV]  n_estimators=1, min_samples_split=6, min_samples_leaf=5, max_features=sqrt, max_depth=3, criterion=gini, total=   0.0s\n",
      "[CV] n_estimators=1, min_samples_split=6, min_samples_leaf=5, max_features=sqrt, max_depth=3, criterion=gini \n",
      "[CV]  n_estimators=1, min_samples_split=6, min_samples_leaf=5, max_features=sqrt, max_depth=3, criterion=gini, total=   0.0s\n",
      "[CV] n_estimators=1, min_samples_split=6, min_samples_leaf=5, max_features=sqrt, max_depth=3, criterion=gini \n",
      "[CV]  n_estimators=1, min_samples_split=6, min_samples_leaf=5, max_features=sqrt, max_depth=3, criterion=gini, total=   0.0s\n",
      "[CV] n_estimators=1, min_samples_split=6, min_samples_leaf=1, max_features=sqrt, max_depth=6, criterion=entropy \n",
      "[CV]  n_estimators=1, min_samples_split=6, min_samples_leaf=1, max_features=sqrt, max_depth=6, criterion=entropy, total=   0.0s\n",
      "[CV] n_estimators=1, min_samples_split=6, min_samples_leaf=1, max_features=sqrt, max_depth=6, criterion=entropy \n",
      "[CV]  n_estimators=1, min_samples_split=6, min_samples_leaf=1, max_features=sqrt, max_depth=6, criterion=entropy, total=   0.0s\n",
      "[CV] n_estimators=1, min_samples_split=6, min_samples_leaf=1, max_features=sqrt, max_depth=6, criterion=entropy \n",
      "[CV]  n_estimators=1, min_samples_split=6, min_samples_leaf=1, max_features=sqrt, max_depth=6, criterion=entropy, total=   0.0s\n",
      "[CV] n_estimators=1, min_samples_split=6, min_samples_leaf=5, max_features=auto, max_depth=1, criterion=entropy \n",
      "[CV]  n_estimators=1, min_samples_split=6, min_samples_leaf=5, max_features=auto, max_depth=1, criterion=entropy, total=   0.0s\n",
      "[CV] n_estimators=1, min_samples_split=6, min_samples_leaf=5, max_features=auto, max_depth=1, criterion=entropy \n",
      "[CV]  n_estimators=1, min_samples_split=6, min_samples_leaf=5, max_features=auto, max_depth=1, criterion=entropy, total=   0.0s\n",
      "[CV] n_estimators=1, min_samples_split=6, min_samples_leaf=5, max_features=auto, max_depth=1, criterion=entropy \n",
      "[CV]  n_estimators=1, min_samples_split=6, min_samples_leaf=5, max_features=auto, max_depth=1, criterion=entropy, total=   0.0s\n",
      "[CV] n_estimators=1, min_samples_split=6, min_samples_leaf=10, max_features=sqrt, max_depth=2, criterion=gini \n",
      "[CV]  n_estimators=1, min_samples_split=6, min_samples_leaf=10, max_features=sqrt, max_depth=2, criterion=gini, total=   0.0s\n",
      "[CV] n_estimators=1, min_samples_split=6, min_samples_leaf=10, max_features=sqrt, max_depth=2, criterion=gini \n",
      "[CV]  n_estimators=1, min_samples_split=6, min_samples_leaf=10, max_features=sqrt, max_depth=2, criterion=gini, total=   0.0s\n",
      "[CV] n_estimators=1, min_samples_split=6, min_samples_leaf=10, max_features=sqrt, max_depth=2, criterion=gini \n",
      "[CV]  n_estimators=1, min_samples_split=6, min_samples_leaf=10, max_features=sqrt, max_depth=2, criterion=gini, total=   0.0s\n",
      "[CV] n_estimators=1, min_samples_split=5, min_samples_leaf=10, max_features=auto, max_depth=4, criterion=gini \n",
      "[CV]  n_estimators=1, min_samples_split=5, min_samples_leaf=10, max_features=auto, max_depth=4, criterion=gini, total=   0.0s\n",
      "[CV] n_estimators=1, min_samples_split=5, min_samples_leaf=10, max_features=auto, max_depth=4, criterion=gini \n",
      "[CV]  n_estimators=1, min_samples_split=5, min_samples_leaf=10, max_features=auto, max_depth=4, criterion=gini, total=   0.0s\n",
      "[CV] n_estimators=1, min_samples_split=5, min_samples_leaf=10, max_features=auto, max_depth=4, criterion=gini \n",
      "[CV]  n_estimators=1, min_samples_split=5, min_samples_leaf=10, max_features=auto, max_depth=4, criterion=gini, total=   0.0s\n",
      "[CV] n_estimators=1, min_samples_split=7, min_samples_leaf=5, max_features=sqrt, max_depth=6, criterion=gini \n",
      "[CV]  n_estimators=1, min_samples_split=7, min_samples_leaf=5, max_features=sqrt, max_depth=6, criterion=gini, total=   0.0s\n",
      "[CV] n_estimators=1, min_samples_split=7, min_samples_leaf=5, max_features=sqrt, max_depth=6, criterion=gini \n"
     ]
    },
    {
     "name": "stdout",
     "output_type": "stream",
     "text": [
      "[CV]  n_estimators=1, min_samples_split=7, min_samples_leaf=5, max_features=sqrt, max_depth=6, criterion=gini, total=   0.0s\n",
      "[CV] n_estimators=1, min_samples_split=7, min_samples_leaf=5, max_features=sqrt, max_depth=6, criterion=gini \n",
      "[CV]  n_estimators=1, min_samples_split=7, min_samples_leaf=5, max_features=sqrt, max_depth=6, criterion=gini, total=   0.0s\n",
      "[CV] n_estimators=1, min_samples_split=7, min_samples_leaf=1, max_features=sqrt, max_depth=2, criterion=entropy \n",
      "[CV]  n_estimators=1, min_samples_split=7, min_samples_leaf=1, max_features=sqrt, max_depth=2, criterion=entropy, total=   0.0s\n",
      "[CV] n_estimators=1, min_samples_split=7, min_samples_leaf=1, max_features=sqrt, max_depth=2, criterion=entropy \n",
      "[CV]  n_estimators=1, min_samples_split=7, min_samples_leaf=1, max_features=sqrt, max_depth=2, criterion=entropy, total=   0.0s\n",
      "[CV] n_estimators=1, min_samples_split=7, min_samples_leaf=1, max_features=sqrt, max_depth=2, criterion=entropy \n",
      "[CV]  n_estimators=1, min_samples_split=7, min_samples_leaf=1, max_features=sqrt, max_depth=2, criterion=entropy, total=   0.0s\n",
      "[CV] n_estimators=1, min_samples_split=5, min_samples_leaf=1, max_features=auto, max_depth=3, criterion=entropy \n",
      "[CV]  n_estimators=1, min_samples_split=5, min_samples_leaf=1, max_features=auto, max_depth=3, criterion=entropy, total=   0.0s\n",
      "[CV] n_estimators=1, min_samples_split=5, min_samples_leaf=1, max_features=auto, max_depth=3, criterion=entropy \n",
      "[CV]  n_estimators=1, min_samples_split=5, min_samples_leaf=1, max_features=auto, max_depth=3, criterion=entropy, total=   0.0s\n",
      "[CV] n_estimators=1, min_samples_split=5, min_samples_leaf=1, max_features=auto, max_depth=3, criterion=entropy \n",
      "[CV]  n_estimators=1, min_samples_split=5, min_samples_leaf=1, max_features=auto, max_depth=3, criterion=entropy, total=   0.0s\n",
      "[CV] n_estimators=1, min_samples_split=6, min_samples_leaf=2, max_features=sqrt, max_depth=2, criterion=gini \n",
      "[CV]  n_estimators=1, min_samples_split=6, min_samples_leaf=2, max_features=sqrt, max_depth=2, criterion=gini, total=   0.0s\n",
      "[CV] n_estimators=1, min_samples_split=6, min_samples_leaf=2, max_features=sqrt, max_depth=2, criterion=gini \n",
      "[CV]  n_estimators=1, min_samples_split=6, min_samples_leaf=2, max_features=sqrt, max_depth=2, criterion=gini, total=   0.0s\n",
      "[CV] n_estimators=1, min_samples_split=6, min_samples_leaf=2, max_features=sqrt, max_depth=2, criterion=gini \n",
      "[CV]  n_estimators=1, min_samples_split=6, min_samples_leaf=2, max_features=sqrt, max_depth=2, criterion=gini, total=   0.0s\n",
      "[CV] n_estimators=1, min_samples_split=5, min_samples_leaf=5, max_features=sqrt, max_depth=2, criterion=gini \n",
      "[CV]  n_estimators=1, min_samples_split=5, min_samples_leaf=5, max_features=sqrt, max_depth=2, criterion=gini, total=   0.0s\n",
      "[CV] n_estimators=1, min_samples_split=5, min_samples_leaf=5, max_features=sqrt, max_depth=2, criterion=gini \n",
      "[CV]  n_estimators=1, min_samples_split=5, min_samples_leaf=5, max_features=sqrt, max_depth=2, criterion=gini, total=   0.0s\n",
      "[CV] n_estimators=1, min_samples_split=5, min_samples_leaf=5, max_features=sqrt, max_depth=2, criterion=gini \n",
      "[CV]  n_estimators=1, min_samples_split=5, min_samples_leaf=5, max_features=sqrt, max_depth=2, criterion=gini, total=   0.0s\n",
      "[CV] n_estimators=1, min_samples_split=6, min_samples_leaf=10, max_features=auto, max_depth=6, criterion=gini \n",
      "[CV]  n_estimators=1, min_samples_split=6, min_samples_leaf=10, max_features=auto, max_depth=6, criterion=gini, total=   0.0s\n",
      "[CV] n_estimators=1, min_samples_split=6, min_samples_leaf=10, max_features=auto, max_depth=6, criterion=gini \n",
      "[CV]  n_estimators=1, min_samples_split=6, min_samples_leaf=10, max_features=auto, max_depth=6, criterion=gini, total=   0.0s\n",
      "[CV] n_estimators=1, min_samples_split=6, min_samples_leaf=10, max_features=auto, max_depth=6, criterion=gini \n",
      "[CV]  n_estimators=1, min_samples_split=6, min_samples_leaf=10, max_features=auto, max_depth=6, criterion=gini, total=   0.0s\n",
      "[CV] n_estimators=1, min_samples_split=3, min_samples_leaf=5, max_features=sqrt, max_depth=2, criterion=entropy \n",
      "[CV]  n_estimators=1, min_samples_split=3, min_samples_leaf=5, max_features=sqrt, max_depth=2, criterion=entropy, total=   0.0s\n",
      "[CV] n_estimators=1, min_samples_split=3, min_samples_leaf=5, max_features=sqrt, max_depth=2, criterion=entropy \n",
      "[CV]  n_estimators=1, min_samples_split=3, min_samples_leaf=5, max_features=sqrt, max_depth=2, criterion=entropy, total=   0.0s\n",
      "[CV] n_estimators=1, min_samples_split=3, min_samples_leaf=5, max_features=sqrt, max_depth=2, criterion=entropy \n",
      "[CV]  n_estimators=1, min_samples_split=3, min_samples_leaf=5, max_features=sqrt, max_depth=2, criterion=entropy, total=   0.0s\n",
      "[CV] n_estimators=1, min_samples_split=7, min_samples_leaf=10, max_features=sqrt, max_depth=2, criterion=gini \n",
      "[CV]  n_estimators=1, min_samples_split=7, min_samples_leaf=10, max_features=sqrt, max_depth=2, criterion=gini, total=   0.0s\n",
      "[CV] n_estimators=1, min_samples_split=7, min_samples_leaf=10, max_features=sqrt, max_depth=2, criterion=gini \n",
      "[CV]  n_estimators=1, min_samples_split=7, min_samples_leaf=10, max_features=sqrt, max_depth=2, criterion=gini, total=   0.0s\n",
      "[CV] n_estimators=1, min_samples_split=7, min_samples_leaf=10, max_features=sqrt, max_depth=2, criterion=gini \n",
      "[CV]  n_estimators=1, min_samples_split=7, min_samples_leaf=10, max_features=sqrt, max_depth=2, criterion=gini, total=   0.0s\n",
      "[CV] n_estimators=1, min_samples_split=6, min_samples_leaf=2, max_features=auto, max_depth=6, criterion=gini \n",
      "[CV]  n_estimators=1, min_samples_split=6, min_samples_leaf=2, max_features=auto, max_depth=6, criterion=gini, total=   0.0s\n",
      "[CV] n_estimators=1, min_samples_split=6, min_samples_leaf=2, max_features=auto, max_depth=6, criterion=gini \n",
      "[CV]  n_estimators=1, min_samples_split=6, min_samples_leaf=2, max_features=auto, max_depth=6, criterion=gini, total=   0.0s\n",
      "[CV] n_estimators=1, min_samples_split=6, min_samples_leaf=2, max_features=auto, max_depth=6, criterion=gini \n",
      "[CV]  n_estimators=1, min_samples_split=6, min_samples_leaf=2, max_features=auto, max_depth=6, criterion=gini, total=   0.0s\n",
      "[CV] n_estimators=1, min_samples_split=6, min_samples_leaf=2, max_features=sqrt, max_depth=4, criterion=gini \n",
      "[CV]  n_estimators=1, min_samples_split=6, min_samples_leaf=2, max_features=sqrt, max_depth=4, criterion=gini, total=   0.0s\n",
      "[CV] n_estimators=1, min_samples_split=6, min_samples_leaf=2, max_features=sqrt, max_depth=4, criterion=gini \n",
      "[CV]  n_estimators=1, min_samples_split=6, min_samples_leaf=2, max_features=sqrt, max_depth=4, criterion=gini, total=   0.0s\n",
      "[CV] n_estimators=1, min_samples_split=6, min_samples_leaf=2, max_features=sqrt, max_depth=4, criterion=gini \n",
      "[CV]  n_estimators=1, min_samples_split=6, min_samples_leaf=2, max_features=sqrt, max_depth=4, criterion=gini, total=   0.0s\n",
      "[CV] n_estimators=1, min_samples_split=7, min_samples_leaf=5, max_features=sqrt, max_depth=4, criterion=gini \n",
      "[CV]  n_estimators=1, min_samples_split=7, min_samples_leaf=5, max_features=sqrt, max_depth=4, criterion=gini, total=   0.0s\n",
      "[CV] n_estimators=1, min_samples_split=7, min_samples_leaf=5, max_features=sqrt, max_depth=4, criterion=gini \n",
      "[CV]  n_estimators=1, min_samples_split=7, min_samples_leaf=5, max_features=sqrt, max_depth=4, criterion=gini, total=   0.0s\n",
      "[CV] n_estimators=1, min_samples_split=7, min_samples_leaf=5, max_features=sqrt, max_depth=4, criterion=gini \n",
      "[CV]  n_estimators=1, min_samples_split=7, min_samples_leaf=5, max_features=sqrt, max_depth=4, criterion=gini, total=   0.0s\n",
      "[CV] n_estimators=1, min_samples_split=3, min_samples_leaf=10, max_features=auto, max_depth=5, criterion=gini \n",
      "[CV]  n_estimators=1, min_samples_split=3, min_samples_leaf=10, max_features=auto, max_depth=5, criterion=gini, total=   0.0s\n",
      "[CV] n_estimators=1, min_samples_split=3, min_samples_leaf=10, max_features=auto, max_depth=5, criterion=gini \n",
      "[CV]  n_estimators=1, min_samples_split=3, min_samples_leaf=10, max_features=auto, max_depth=5, criterion=gini, total=   0.0s\n",
      "[CV] n_estimators=1, min_samples_split=3, min_samples_leaf=10, max_features=auto, max_depth=5, criterion=gini \n",
      "[CV]  n_estimators=1, min_samples_split=3, min_samples_leaf=10, max_features=auto, max_depth=5, criterion=gini, total=   0.0s\n",
      "[CV] n_estimators=1, min_samples_split=7, min_samples_leaf=2, max_features=auto, max_depth=1, criterion=entropy \n",
      "[CV]  n_estimators=1, min_samples_split=7, min_samples_leaf=2, max_features=auto, max_depth=1, criterion=entropy, total=   0.0s\n",
      "[CV] n_estimators=1, min_samples_split=7, min_samples_leaf=2, max_features=auto, max_depth=1, criterion=entropy \n",
      "[CV]  n_estimators=1, min_samples_split=7, min_samples_leaf=2, max_features=auto, max_depth=1, criterion=entropy, total=   0.0s\n",
      "[CV] n_estimators=1, min_samples_split=7, min_samples_leaf=2, max_features=auto, max_depth=1, criterion=entropy \n",
      "[CV]  n_estimators=1, min_samples_split=7, min_samples_leaf=2, max_features=auto, max_depth=1, criterion=entropy, total=   0.0s\n",
      "[CV] n_estimators=1, min_samples_split=3, min_samples_leaf=10, max_features=sqrt, max_depth=6, criterion=entropy \n",
      "[CV]  n_estimators=1, min_samples_split=3, min_samples_leaf=10, max_features=sqrt, max_depth=6, criterion=entropy, total=   0.0s\n",
      "[CV] n_estimators=1, min_samples_split=3, min_samples_leaf=10, max_features=sqrt, max_depth=6, criterion=entropy \n",
      "[CV]  n_estimators=1, min_samples_split=3, min_samples_leaf=10, max_features=sqrt, max_depth=6, criterion=entropy, total=   0.0s\n",
      "[CV] n_estimators=1, min_samples_split=3, min_samples_leaf=10, max_features=sqrt, max_depth=6, criterion=entropy \n"
     ]
    },
    {
     "name": "stdout",
     "output_type": "stream",
     "text": [
      "[CV]  n_estimators=1, min_samples_split=3, min_samples_leaf=10, max_features=sqrt, max_depth=6, criterion=entropy, total=   0.0s\n",
      "[CV] n_estimators=1, min_samples_split=7, min_samples_leaf=5, max_features=auto, max_depth=3, criterion=entropy \n",
      "[CV]  n_estimators=1, min_samples_split=7, min_samples_leaf=5, max_features=auto, max_depth=3, criterion=entropy, total=   0.0s\n",
      "[CV] n_estimators=1, min_samples_split=7, min_samples_leaf=5, max_features=auto, max_depth=3, criterion=entropy \n",
      "[CV]  n_estimators=1, min_samples_split=7, min_samples_leaf=5, max_features=auto, max_depth=3, criterion=entropy, total=   0.0s\n",
      "[CV] n_estimators=1, min_samples_split=7, min_samples_leaf=5, max_features=auto, max_depth=3, criterion=entropy \n",
      "[CV]  n_estimators=1, min_samples_split=7, min_samples_leaf=5, max_features=auto, max_depth=3, criterion=entropy, total=   0.0s\n",
      "[CV] n_estimators=1, min_samples_split=3, min_samples_leaf=10, max_features=sqrt, max_depth=2, criterion=gini \n",
      "[CV]  n_estimators=1, min_samples_split=3, min_samples_leaf=10, max_features=sqrt, max_depth=2, criterion=gini, total=   0.0s\n",
      "[CV] n_estimators=1, min_samples_split=3, min_samples_leaf=10, max_features=sqrt, max_depth=2, criterion=gini \n",
      "[CV]  n_estimators=1, min_samples_split=3, min_samples_leaf=10, max_features=sqrt, max_depth=2, criterion=gini, total=   0.0s\n",
      "[CV] n_estimators=1, min_samples_split=3, min_samples_leaf=10, max_features=sqrt, max_depth=2, criterion=gini \n",
      "[CV]  n_estimators=1, min_samples_split=3, min_samples_leaf=10, max_features=sqrt, max_depth=2, criterion=gini, total=   0.0s\n",
      "[CV] n_estimators=1, min_samples_split=4, min_samples_leaf=1, max_features=sqrt, max_depth=5, criterion=entropy \n",
      "[CV]  n_estimators=1, min_samples_split=4, min_samples_leaf=1, max_features=sqrt, max_depth=5, criterion=entropy, total=   0.0s\n",
      "[CV] n_estimators=1, min_samples_split=4, min_samples_leaf=1, max_features=sqrt, max_depth=5, criterion=entropy \n",
      "[CV]  n_estimators=1, min_samples_split=4, min_samples_leaf=1, max_features=sqrt, max_depth=5, criterion=entropy, total=   0.0s\n",
      "[CV] n_estimators=1, min_samples_split=4, min_samples_leaf=1, max_features=sqrt, max_depth=5, criterion=entropy \n",
      "[CV]  n_estimators=1, min_samples_split=4, min_samples_leaf=1, max_features=sqrt, max_depth=5, criterion=entropy, total=   0.0s\n",
      "[CV] n_estimators=1, min_samples_split=3, min_samples_leaf=10, max_features=auto, max_depth=1, criterion=gini \n",
      "[CV]  n_estimators=1, min_samples_split=3, min_samples_leaf=10, max_features=auto, max_depth=1, criterion=gini, total=   0.0s\n",
      "[CV] n_estimators=1, min_samples_split=3, min_samples_leaf=10, max_features=auto, max_depth=1, criterion=gini \n",
      "[CV]  n_estimators=1, min_samples_split=3, min_samples_leaf=10, max_features=auto, max_depth=1, criterion=gini, total=   0.0s\n",
      "[CV] n_estimators=1, min_samples_split=3, min_samples_leaf=10, max_features=auto, max_depth=1, criterion=gini \n",
      "[CV]  n_estimators=1, min_samples_split=3, min_samples_leaf=10, max_features=auto, max_depth=1, criterion=gini, total=   0.0s\n",
      "[CV] n_estimators=1, min_samples_split=6, min_samples_leaf=5, max_features=sqrt, max_depth=4, criterion=gini \n",
      "[CV]  n_estimators=1, min_samples_split=6, min_samples_leaf=5, max_features=sqrt, max_depth=4, criterion=gini, total=   0.0s\n",
      "[CV] n_estimators=1, min_samples_split=6, min_samples_leaf=5, max_features=sqrt, max_depth=4, criterion=gini \n",
      "[CV]  n_estimators=1, min_samples_split=6, min_samples_leaf=5, max_features=sqrt, max_depth=4, criterion=gini, total=   0.0s\n",
      "[CV] n_estimators=1, min_samples_split=6, min_samples_leaf=5, max_features=sqrt, max_depth=4, criterion=gini \n",
      "[CV]  n_estimators=1, min_samples_split=6, min_samples_leaf=5, max_features=sqrt, max_depth=4, criterion=gini, total=   0.0s\n",
      "[CV] n_estimators=1, min_samples_split=7, min_samples_leaf=1, max_features=sqrt, max_depth=6, criterion=entropy \n",
      "[CV]  n_estimators=1, min_samples_split=7, min_samples_leaf=1, max_features=sqrt, max_depth=6, criterion=entropy, total=   0.0s\n",
      "[CV] n_estimators=1, min_samples_split=7, min_samples_leaf=1, max_features=sqrt, max_depth=6, criterion=entropy \n",
      "[CV]  n_estimators=1, min_samples_split=7, min_samples_leaf=1, max_features=sqrt, max_depth=6, criterion=entropy, total=   0.0s\n",
      "[CV] n_estimators=1, min_samples_split=7, min_samples_leaf=1, max_features=sqrt, max_depth=6, criterion=entropy \n",
      "[CV]  n_estimators=1, min_samples_split=7, min_samples_leaf=1, max_features=sqrt, max_depth=6, criterion=entropy, total=   0.0s\n",
      "[CV] n_estimators=1, min_samples_split=7, min_samples_leaf=10, max_features=auto, max_depth=1, criterion=gini \n",
      "[CV]  n_estimators=1, min_samples_split=7, min_samples_leaf=10, max_features=auto, max_depth=1, criterion=gini, total=   0.0s\n",
      "[CV] n_estimators=1, min_samples_split=7, min_samples_leaf=10, max_features=auto, max_depth=1, criterion=gini \n",
      "[CV]  n_estimators=1, min_samples_split=7, min_samples_leaf=10, max_features=auto, max_depth=1, criterion=gini, total=   0.0s\n",
      "[CV] n_estimators=1, min_samples_split=7, min_samples_leaf=10, max_features=auto, max_depth=1, criterion=gini \n",
      "[CV]  n_estimators=1, min_samples_split=7, min_samples_leaf=10, max_features=auto, max_depth=1, criterion=gini, total=   0.0s\n",
      "[CV] n_estimators=1, min_samples_split=4, min_samples_leaf=5, max_features=sqrt, max_depth=2, criterion=entropy \n",
      "[CV]  n_estimators=1, min_samples_split=4, min_samples_leaf=5, max_features=sqrt, max_depth=2, criterion=entropy, total=   0.0s\n",
      "[CV] n_estimators=1, min_samples_split=4, min_samples_leaf=5, max_features=sqrt, max_depth=2, criterion=entropy \n",
      "[CV]  n_estimators=1, min_samples_split=4, min_samples_leaf=5, max_features=sqrt, max_depth=2, criterion=entropy, total=   0.0s\n",
      "[CV] n_estimators=1, min_samples_split=4, min_samples_leaf=5, max_features=sqrt, max_depth=2, criterion=entropy \n",
      "[CV]  n_estimators=1, min_samples_split=4, min_samples_leaf=5, max_features=sqrt, max_depth=2, criterion=entropy, total=   0.0s\n",
      "[CV] n_estimators=1, min_samples_split=3, min_samples_leaf=1, max_features=auto, max_depth=3, criterion=entropy \n",
      "[CV]  n_estimators=1, min_samples_split=3, min_samples_leaf=1, max_features=auto, max_depth=3, criterion=entropy, total=   0.0s\n",
      "[CV] n_estimators=1, min_samples_split=3, min_samples_leaf=1, max_features=auto, max_depth=3, criterion=entropy \n",
      "[CV]  n_estimators=1, min_samples_split=3, min_samples_leaf=1, max_features=auto, max_depth=3, criterion=entropy, total=   0.0s\n",
      "[CV] n_estimators=1, min_samples_split=3, min_samples_leaf=1, max_features=auto, max_depth=3, criterion=entropy \n",
      "[CV]  n_estimators=1, min_samples_split=3, min_samples_leaf=1, max_features=auto, max_depth=3, criterion=entropy, total=   0.0s\n",
      "[CV] n_estimators=1, min_samples_split=4, min_samples_leaf=10, max_features=auto, max_depth=2, criterion=gini \n",
      "[CV]  n_estimators=1, min_samples_split=4, min_samples_leaf=10, max_features=auto, max_depth=2, criterion=gini, total=   0.0s\n",
      "[CV] n_estimators=1, min_samples_split=4, min_samples_leaf=10, max_features=auto, max_depth=2, criterion=gini \n",
      "[CV]  n_estimators=1, min_samples_split=4, min_samples_leaf=10, max_features=auto, max_depth=2, criterion=gini, total=   0.0s\n",
      "[CV] n_estimators=1, min_samples_split=4, min_samples_leaf=10, max_features=auto, max_depth=2, criterion=gini \n",
      "[CV]  n_estimators=1, min_samples_split=4, min_samples_leaf=10, max_features=auto, max_depth=2, criterion=gini, total=   0.0s\n",
      "[CV] n_estimators=1, min_samples_split=7, min_samples_leaf=2, max_features=sqrt, max_depth=3, criterion=entropy \n",
      "[CV]  n_estimators=1, min_samples_split=7, min_samples_leaf=2, max_features=sqrt, max_depth=3, criterion=entropy, total=   0.0s\n",
      "[CV] n_estimators=1, min_samples_split=7, min_samples_leaf=2, max_features=sqrt, max_depth=3, criterion=entropy \n",
      "[CV]  n_estimators=1, min_samples_split=7, min_samples_leaf=2, max_features=sqrt, max_depth=3, criterion=entropy, total=   0.0s\n",
      "[CV] n_estimators=1, min_samples_split=7, min_samples_leaf=2, max_features=sqrt, max_depth=3, criterion=entropy \n",
      "[CV]  n_estimators=1, min_samples_split=7, min_samples_leaf=2, max_features=sqrt, max_depth=3, criterion=entropy, total=   0.0s\n",
      "[CV] n_estimators=1, min_samples_split=4, min_samples_leaf=5, max_features=auto, max_depth=6, criterion=gini \n",
      "[CV]  n_estimators=1, min_samples_split=4, min_samples_leaf=5, max_features=auto, max_depth=6, criterion=gini, total=   0.0s\n",
      "[CV] n_estimators=1, min_samples_split=4, min_samples_leaf=5, max_features=auto, max_depth=6, criterion=gini \n",
      "[CV]  n_estimators=1, min_samples_split=4, min_samples_leaf=5, max_features=auto, max_depth=6, criterion=gini, total=   0.0s\n",
      "[CV] n_estimators=1, min_samples_split=4, min_samples_leaf=5, max_features=auto, max_depth=6, criterion=gini \n",
      "[CV]  n_estimators=1, min_samples_split=4, min_samples_leaf=5, max_features=auto, max_depth=6, criterion=gini, total=   0.0s\n",
      "[CV] n_estimators=1, min_samples_split=5, min_samples_leaf=5, max_features=sqrt, max_depth=5, criterion=entropy \n"
     ]
    },
    {
     "name": "stdout",
     "output_type": "stream",
     "text": [
      "[CV]  n_estimators=1, min_samples_split=5, min_samples_leaf=5, max_features=sqrt, max_depth=5, criterion=entropy, total=   0.0s\n",
      "[CV] n_estimators=1, min_samples_split=5, min_samples_leaf=5, max_features=sqrt, max_depth=5, criterion=entropy \n",
      "[CV]  n_estimators=1, min_samples_split=5, min_samples_leaf=5, max_features=sqrt, max_depth=5, criterion=entropy, total=   0.1s\n",
      "[CV] n_estimators=1, min_samples_split=5, min_samples_leaf=5, max_features=sqrt, max_depth=5, criterion=entropy \n",
      "[CV]  n_estimators=1, min_samples_split=5, min_samples_leaf=5, max_features=sqrt, max_depth=5, criterion=entropy, total=   0.0s\n",
      "[CV] n_estimators=1, min_samples_split=5, min_samples_leaf=1, max_features=sqrt, max_depth=6, criterion=gini \n",
      "[CV]  n_estimators=1, min_samples_split=5, min_samples_leaf=1, max_features=sqrt, max_depth=6, criterion=gini, total=   0.0s\n",
      "[CV] n_estimators=1, min_samples_split=5, min_samples_leaf=1, max_features=sqrt, max_depth=6, criterion=gini \n",
      "[CV]  n_estimators=1, min_samples_split=5, min_samples_leaf=1, max_features=sqrt, max_depth=6, criterion=gini, total=   0.0s\n",
      "[CV] n_estimators=1, min_samples_split=5, min_samples_leaf=1, max_features=sqrt, max_depth=6, criterion=gini \n",
      "[CV]  n_estimators=1, min_samples_split=5, min_samples_leaf=1, max_features=sqrt, max_depth=6, criterion=gini, total=   0.0s\n",
      "[CV] n_estimators=1, min_samples_split=5, min_samples_leaf=10, max_features=sqrt, max_depth=6, criterion=gini \n",
      "[CV]  n_estimators=1, min_samples_split=5, min_samples_leaf=10, max_features=sqrt, max_depth=6, criterion=gini, total=   0.0s\n",
      "[CV] n_estimators=1, min_samples_split=5, min_samples_leaf=10, max_features=sqrt, max_depth=6, criterion=gini \n",
      "[CV]  n_estimators=1, min_samples_split=5, min_samples_leaf=10, max_features=sqrt, max_depth=6, criterion=gini, total=   0.0s\n",
      "[CV] n_estimators=1, min_samples_split=5, min_samples_leaf=10, max_features=sqrt, max_depth=6, criterion=gini \n",
      "[CV]  n_estimators=1, min_samples_split=5, min_samples_leaf=10, max_features=sqrt, max_depth=6, criterion=gini, total=   0.0s\n",
      "[CV] n_estimators=1, min_samples_split=6, min_samples_leaf=2, max_features=auto, max_depth=5, criterion=entropy \n",
      "[CV]  n_estimators=1, min_samples_split=6, min_samples_leaf=2, max_features=auto, max_depth=5, criterion=entropy, total=   0.0s\n",
      "[CV] n_estimators=1, min_samples_split=6, min_samples_leaf=2, max_features=auto, max_depth=5, criterion=entropy \n",
      "[CV]  n_estimators=1, min_samples_split=6, min_samples_leaf=2, max_features=auto, max_depth=5, criterion=entropy, total=   0.0s\n",
      "[CV] n_estimators=1, min_samples_split=6, min_samples_leaf=2, max_features=auto, max_depth=5, criterion=entropy \n",
      "[CV]  n_estimators=1, min_samples_split=6, min_samples_leaf=2, max_features=auto, max_depth=5, criterion=entropy, total=   0.0s\n",
      "[CV] n_estimators=1, min_samples_split=3, min_samples_leaf=2, max_features=sqrt, max_depth=1, criterion=gini \n",
      "[CV]  n_estimators=1, min_samples_split=3, min_samples_leaf=2, max_features=sqrt, max_depth=1, criterion=gini, total=   0.0s\n",
      "[CV] n_estimators=1, min_samples_split=3, min_samples_leaf=2, max_features=sqrt, max_depth=1, criterion=gini \n",
      "[CV]  n_estimators=1, min_samples_split=3, min_samples_leaf=2, max_features=sqrt, max_depth=1, criterion=gini, total=   0.0s\n",
      "[CV] n_estimators=1, min_samples_split=3, min_samples_leaf=2, max_features=sqrt, max_depth=1, criterion=gini \n",
      "[CV]  n_estimators=1, min_samples_split=3, min_samples_leaf=2, max_features=sqrt, max_depth=1, criterion=gini, total=   0.0s\n",
      "[CV] n_estimators=1, min_samples_split=7, min_samples_leaf=10, max_features=auto, max_depth=5, criterion=entropy \n",
      "[CV]  n_estimators=1, min_samples_split=7, min_samples_leaf=10, max_features=auto, max_depth=5, criterion=entropy, total=   0.0s\n",
      "[CV] n_estimators=1, min_samples_split=7, min_samples_leaf=10, max_features=auto, max_depth=5, criterion=entropy \n",
      "[CV]  n_estimators=1, min_samples_split=7, min_samples_leaf=10, max_features=auto, max_depth=5, criterion=entropy, total=   0.0s\n",
      "[CV] n_estimators=1, min_samples_split=7, min_samples_leaf=10, max_features=auto, max_depth=5, criterion=entropy \n",
      "[CV]  n_estimators=1, min_samples_split=7, min_samples_leaf=10, max_features=auto, max_depth=5, criterion=entropy, total=   0.0s\n",
      "[CV] n_estimators=1, min_samples_split=5, min_samples_leaf=5, max_features=auto, max_depth=4, criterion=gini \n",
      "[CV]  n_estimators=1, min_samples_split=5, min_samples_leaf=5, max_features=auto, max_depth=4, criterion=gini, total=   0.0s\n",
      "[CV] n_estimators=1, min_samples_split=5, min_samples_leaf=5, max_features=auto, max_depth=4, criterion=gini \n",
      "[CV]  n_estimators=1, min_samples_split=5, min_samples_leaf=5, max_features=auto, max_depth=4, criterion=gini, total=   0.0s\n",
      "[CV] n_estimators=1, min_samples_split=5, min_samples_leaf=5, max_features=auto, max_depth=4, criterion=gini \n",
      "[CV]  n_estimators=1, min_samples_split=5, min_samples_leaf=5, max_features=auto, max_depth=4, criterion=gini, total=   0.0s\n",
      "[CV] n_estimators=1, min_samples_split=6, min_samples_leaf=2, max_features=sqrt, max_depth=6, criterion=gini \n",
      "[CV]  n_estimators=1, min_samples_split=6, min_samples_leaf=2, max_features=sqrt, max_depth=6, criterion=gini, total=   0.0s\n",
      "[CV] n_estimators=1, min_samples_split=6, min_samples_leaf=2, max_features=sqrt, max_depth=6, criterion=gini \n",
      "[CV]  n_estimators=1, min_samples_split=6, min_samples_leaf=2, max_features=sqrt, max_depth=6, criterion=gini, total=   0.0s\n",
      "[CV] n_estimators=1, min_samples_split=6, min_samples_leaf=2, max_features=sqrt, max_depth=6, criterion=gini \n",
      "[CV]  n_estimators=1, min_samples_split=6, min_samples_leaf=2, max_features=sqrt, max_depth=6, criterion=gini, total=   0.0s\n",
      "[CV] n_estimators=1, min_samples_split=6, min_samples_leaf=5, max_features=sqrt, max_depth=6, criterion=entropy \n",
      "[CV]  n_estimators=1, min_samples_split=6, min_samples_leaf=5, max_features=sqrt, max_depth=6, criterion=entropy, total=   0.0s\n",
      "[CV] n_estimators=1, min_samples_split=6, min_samples_leaf=5, max_features=sqrt, max_depth=6, criterion=entropy \n",
      "[CV]  n_estimators=1, min_samples_split=6, min_samples_leaf=5, max_features=sqrt, max_depth=6, criterion=entropy, total=   0.0s\n",
      "[CV] n_estimators=1, min_samples_split=6, min_samples_leaf=5, max_features=sqrt, max_depth=6, criterion=entropy \n",
      "[CV]  n_estimators=1, min_samples_split=6, min_samples_leaf=5, max_features=sqrt, max_depth=6, criterion=entropy, total=   0.0s\n",
      "[CV] n_estimators=1, min_samples_split=5, min_samples_leaf=1, max_features=auto, max_depth=2, criterion=gini \n",
      "[CV]  n_estimators=1, min_samples_split=5, min_samples_leaf=1, max_features=auto, max_depth=2, criterion=gini, total=   0.0s\n",
      "[CV] n_estimators=1, min_samples_split=5, min_samples_leaf=1, max_features=auto, max_depth=2, criterion=gini \n",
      "[CV]  n_estimators=1, min_samples_split=5, min_samples_leaf=1, max_features=auto, max_depth=2, criterion=gini, total=   0.0s\n",
      "[CV] n_estimators=1, min_samples_split=5, min_samples_leaf=1, max_features=auto, max_depth=2, criterion=gini \n",
      "[CV]  n_estimators=1, min_samples_split=5, min_samples_leaf=1, max_features=auto, max_depth=2, criterion=gini, total=   0.0s\n"
     ]
    },
    {
     "name": "stderr",
     "output_type": "stream",
     "text": [
      "[Parallel(n_jobs=1)]: Done 300 out of 300 | elapsed:   10.2s finished\n"
     ]
    },
    {
     "data": {
      "text/plain": [
       "RandomizedSearchCV(cv=3, error_score=nan,\n",
       "                   estimator=RandomForestClassifier(bootstrap=True,\n",
       "                                                    ccp_alpha=0.0,\n",
       "                                                    class_weight=None,\n",
       "                                                    criterion='gini',\n",
       "                                                    max_depth=None,\n",
       "                                                    max_features='auto',\n",
       "                                                    max_leaf_nodes=None,\n",
       "                                                    max_samples=None,\n",
       "                                                    min_impurity_decrease=0.0,\n",
       "                                                    min_impurity_split=None,\n",
       "                                                    min_samples_leaf=1,\n",
       "                                                    min_samples_split=2,\n",
       "                                                    min_weight_fraction_leaf=0.0,\n",
       "                                                    n_estimators=100,\n",
       "                                                    n_jobs...\n",
       "                                                    verbose=0,\n",
       "                                                    warm_start=False),\n",
       "                   iid='deprecated', n_iter=100, n_jobs=1,\n",
       "                   param_distributions={'criterion': ['gini', 'entropy'],\n",
       "                                        'max_depth': [1, 2, 3, 4, 5, 6],\n",
       "                                        'max_features': ['auto', 'sqrt'],\n",
       "                                        'min_samples_leaf': [1, 2, 5, 10],\n",
       "                                        'min_samples_split': [3, 4, 5, 6, 7],\n",
       "                                        'n_estimators': [1]},\n",
       "                   pre_dispatch='2*n_jobs', random_state=42, refit=True,\n",
       "                   return_train_score=False, scoring=None, verbose=2)"
      ]
     },
     "execution_count": 39,
     "metadata": {},
     "output_type": "execute_result"
    }
   ],
   "source": [
    "from sklearn.model_selection import RandomizedSearchCV\n",
    "\n",
    "n_estimators = [int(x) for x in np.linspace(start = 1, stop = 12, num = 1)]\n",
    "max_features = ['auto', 'sqrt']\n",
    "max_depth = [1,2,3,4,5,6]\n",
    "min_samples_split = [3,4,5,6,7]\n",
    "min_samples_leaf = [1, 2, 5, 10]\n",
    "criterion = ['gini','entropy']\n",
    "\n",
    "random_grid = {'n_estimators': n_estimators,\n",
    "               'max_features': max_features,\n",
    "               'max_depth': max_depth,\n",
    "               'min_samples_split': min_samples_split,\n",
    "               'min_samples_leaf': min_samples_leaf,\n",
    "               'criterion': criterion}\n",
    "\n",
    "rf_random = RandomizedSearchCV(estimator = rf, param_distributions = random_grid, n_iter = 100, cv = 3, verbose=2,\n",
    "                               random_state=42, n_jobs = 1)\n",
    "rf_random.fit(x_train, y_train)"
   ]
  },
  {
   "cell_type": "code",
   "execution_count": 40,
   "metadata": {},
   "outputs": [
    {
     "data": {
      "text/plain": [
       "RandomForestClassifier(bootstrap=True, ccp_alpha=0.0, class_weight=None,\n",
       "                       criterion='entropy', max_depth=3, max_features='auto',\n",
       "                       max_leaf_nodes=None, max_samples=None,\n",
       "                       min_impurity_decrease=0.0, min_impurity_split=None,\n",
       "                       min_samples_leaf=1, min_samples_split=3,\n",
       "                       min_weight_fraction_leaf=0.0, n_estimators=1,\n",
       "                       n_jobs=None, oob_score=False, random_state=None,\n",
       "                       verbose=0, warm_start=False)"
      ]
     },
     "execution_count": 40,
     "metadata": {},
     "output_type": "execute_result"
    }
   ],
   "source": [
    "rf_random.best_estimator_"
   ]
  },
  {
   "cell_type": "code",
   "execution_count": 41,
   "metadata": {},
   "outputs": [
    {
     "data": {
      "text/plain": [
       "0.7612578316521983"
      ]
     },
     "execution_count": 41,
     "metadata": {},
     "output_type": "execute_result"
    }
   ],
   "source": [
    "rf_random.best_score_"
   ]
  },
  {
   "cell_type": "code",
   "execution_count": 42,
   "metadata": {},
   "outputs": [
    {
     "name": "stdout",
     "output_type": "stream",
     "text": [
      "0.7554289083226884\n"
     ]
    }
   ],
   "source": [
    "rf = RandomForestClassifier(bootstrap=True, ccp_alpha=0.0, class_weight=None,\n",
    "                       criterion='entropy', max_depth=3, max_features='auto',\n",
    "                       max_leaf_nodes=None, max_samples=None,\n",
    "                       min_impurity_decrease=0.0, min_impurity_split=None,\n",
    "                       min_samples_leaf=1, min_samples_split=3,\n",
    "                       min_weight_fraction_leaf=0.0, n_estimators=1,\n",
    "                       n_jobs=None, oob_score=False, random_state=None,\n",
    "                       verbose=0, warm_start=False)\n",
    "y_pred = rf.fit(x_train, y_train).predict(x_test)\n",
    "print(accuracy_score(y_test, y_pred))"
   ]
  },
  {
   "cell_type": "code",
   "execution_count": 79,
   "metadata": {},
   "outputs": [],
   "source": [
    "x_train = newtrain.drop('Response', axis = 1)\n",
    "y_train = newtrain['Response']\n",
    "x_test = newtest"
   ]
  },
  {
   "cell_type": "code",
   "execution_count": null,
   "metadata": {},
   "outputs": [],
   "source": [
    "from sklearn.ensemble import RandomForestClassifier\n",
    "rf = RandomForestClassifier()\n",
    "y_pred = rf.fit(x_train, y_train).predict(x_test)\n",
    "solution = pd.DataFrame({'ID' : test.ID, 'Response' : y_pred})\n",
    "solution.to_csv('Solution.csv', index = False)"
   ]
  },
  {
   "cell_type": "code",
   "execution_count": null,
   "metadata": {},
   "outputs": [],
   "source": []
  },
  {
   "cell_type": "code",
   "execution_count": 80,
   "metadata": {
    "scrolled": true
   },
   "outputs": [
    {
     "name": "stderr",
     "output_type": "stream",
     "text": [
      "C:\\Users\\Akshay\\AppData\\Roaming\\Python\\Python37\\site-packages\\sklearn\\linear_model\\_logistic.py:940: ConvergenceWarning: lbfgs failed to converge (status=1):\n",
      "STOP: TOTAL NO. of ITERATIONS REACHED LIMIT.\n",
      "\n",
      "Increase the number of iterations (max_iter) or scale the data as shown in:\n",
      "    https://scikit-learn.org/stable/modules/preprocessing.html\n",
      "Please also refer to the documentation for alternative solver options:\n",
      "    https://scikit-learn.org/stable/modules/linear_model.html#logistic-regression\n",
      "  extra_warning_msg=_LOGISTIC_SOLVER_CONVERGENCE_MSG)\n"
     ]
    }
   ],
   "source": [
    "from sklearn.linear_model import LogisticRegression\n",
    "lr = LogisticRegression()\n",
    "y_pred = lr.fit(x_train, y_train).predict(x_test)\n",
    "solution = pd.DataFrame({'ID' : test.ID, 'Response' : y_pred})\n",
    "solution.to_csv('LOR.csv', index = False)"
   ]
  },
  {
   "cell_type": "code",
   "execution_count": null,
   "metadata": {},
   "outputs": [],
   "source": []
  }
 ],
 "metadata": {
  "kernelspec": {
   "display_name": "Python 3",
   "language": "python",
   "name": "python3"
  },
  "language_info": {
   "codemirror_mode": {
    "name": "ipython",
    "version": 3
   },
   "file_extension": ".py",
   "mimetype": "text/x-python",
   "name": "python",
   "nbconvert_exporter": "python",
   "pygments_lexer": "ipython3",
   "version": "3.7.3"
  }
 },
 "nbformat": 4,
 "nbformat_minor": 2
}
