{
 "cells": [
  {
   "cell_type": "code",
   "execution_count": 112,
   "id": "767fbd7b",
   "metadata": {},
   "outputs": [],
   "source": [
    "import numpy as np\n",
    "import pandas as pd\n",
    "import matplotlib.pyplot as plt\n",
    "import seaborn as sns"
   ]
  },
  {
   "cell_type": "code",
   "execution_count": 113,
   "id": "d8f6cb57",
   "metadata": {},
   "outputs": [
    {
     "data": {
      "text/html": [
       "<div>\n",
       "<style scoped>\n",
       "    .dataframe tbody tr th:only-of-type {\n",
       "        vertical-align: middle;\n",
       "    }\n",
       "\n",
       "    .dataframe tbody tr th {\n",
       "        vertical-align: top;\n",
       "    }\n",
       "\n",
       "    .dataframe thead th {\n",
       "        text-align: right;\n",
       "    }\n",
       "</style>\n",
       "<table border=\"1\" class=\"dataframe\">\n",
       "  <thead>\n",
       "    <tr style=\"text-align: right;\">\n",
       "      <th></th>\n",
       "      <th>Customer_ID</th>\n",
       "      <th>Gender</th>\n",
       "      <th>Age</th>\n",
       "      <th>Vintage</th>\n",
       "      <th>Is_Active</th>\n",
       "      <th>City_Category</th>\n",
       "      <th>Customer_Category</th>\n",
       "      <th>Product_Holding_B1</th>\n",
       "      <th>Product_Holding_B2</th>\n",
       "    </tr>\n",
       "  </thead>\n",
       "  <tbody>\n",
       "    <tr>\n",
       "      <th>0</th>\n",
       "      <td>CC264719</td>\n",
       "      <td>Male</td>\n",
       "      <td>41</td>\n",
       "      <td>14</td>\n",
       "      <td>0</td>\n",
       "      <td>C1</td>\n",
       "      <td>S3</td>\n",
       "      <td>['P16']</td>\n",
       "      <td>['P8']</td>\n",
       "    </tr>\n",
       "    <tr>\n",
       "      <th>1</th>\n",
       "      <td>CC209679</td>\n",
       "      <td>Female</td>\n",
       "      <td>47</td>\n",
       "      <td>14</td>\n",
       "      <td>1</td>\n",
       "      <td>C1</td>\n",
       "      <td>S2</td>\n",
       "      <td>['P13', 'P20']</td>\n",
       "      <td>['P3']</td>\n",
       "    </tr>\n",
       "    <tr>\n",
       "      <th>2</th>\n",
       "      <td>CC319633</td>\n",
       "      <td>Female</td>\n",
       "      <td>59</td>\n",
       "      <td>14</td>\n",
       "      <td>0</td>\n",
       "      <td>C2</td>\n",
       "      <td>S2</td>\n",
       "      <td>['P11']</td>\n",
       "      <td>['P00']</td>\n",
       "    </tr>\n",
       "    <tr>\n",
       "      <th>3</th>\n",
       "      <td>CC231413</td>\n",
       "      <td>Female</td>\n",
       "      <td>32</td>\n",
       "      <td>16</td>\n",
       "      <td>0</td>\n",
       "      <td>C1</td>\n",
       "      <td>S2</td>\n",
       "      <td>['P8', 'P13']</td>\n",
       "      <td>['P6']</td>\n",
       "    </tr>\n",
       "    <tr>\n",
       "      <th>4</th>\n",
       "      <td>CC259633</td>\n",
       "      <td>Male</td>\n",
       "      <td>30</td>\n",
       "      <td>15</td>\n",
       "      <td>0</td>\n",
       "      <td>C2</td>\n",
       "      <td>S3</td>\n",
       "      <td>['P16', 'P17', 'P21']</td>\n",
       "      <td>['P8', 'P12']</td>\n",
       "    </tr>\n",
       "  </tbody>\n",
       "</table>\n",
       "</div>"
      ],
      "text/plain": [
       "  Customer_ID  Gender  Age  Vintage  Is_Active City_Category  \\\n",
       "0    CC264719    Male   41       14          0            C1   \n",
       "1    CC209679  Female   47       14          1            C1   \n",
       "2    CC319633  Female   59       14          0            C2   \n",
       "3    CC231413  Female   32       16          0            C1   \n",
       "4    CC259633    Male   30       15          0            C2   \n",
       "\n",
       "  Customer_Category     Product_Holding_B1 Product_Holding_B2  \n",
       "0                S3                ['P16']             ['P8']  \n",
       "1                S2         ['P13', 'P20']             ['P3']  \n",
       "2                S2                ['P11']            ['P00']  \n",
       "3                S2          ['P8', 'P13']             ['P6']  \n",
       "4                S3  ['P16', 'P17', 'P21']      ['P8', 'P12']  "
      ]
     },
     "execution_count": 113,
     "metadata": {},
     "output_type": "execute_result"
    }
   ],
   "source": [
    "train = pd.read_csv('train_go05W65.csv')\n",
    "train.head()"
   ]
  },
  {
   "cell_type": "code",
   "execution_count": 114,
   "id": "0b9e3f2c",
   "metadata": {},
   "outputs": [
    {
     "data": {
      "text/plain": [
       "(37748, 9)"
      ]
     },
     "execution_count": 114,
     "metadata": {},
     "output_type": "execute_result"
    }
   ],
   "source": [
    "train.shape"
   ]
  },
  {
   "cell_type": "code",
   "execution_count": 115,
   "id": "53d3dc30",
   "metadata": {},
   "outputs": [
    {
     "data": {
      "text/plain": [
       "0"
      ]
     },
     "execution_count": 115,
     "metadata": {},
     "output_type": "execute_result"
    }
   ],
   "source": [
    "train.duplicated().sum()"
   ]
  },
  {
   "cell_type": "code",
   "execution_count": 116,
   "id": "d8b98309",
   "metadata": {},
   "outputs": [
    {
     "data": {
      "text/plain": [
       "Customer_ID           0\n",
       "Gender                0\n",
       "Age                   0\n",
       "Vintage               0\n",
       "Is_Active             0\n",
       "City_Category         0\n",
       "Customer_Category     0\n",
       "Product_Holding_B1    0\n",
       "Product_Holding_B2    0\n",
       "dtype: int64"
      ]
     },
     "execution_count": 116,
     "metadata": {},
     "output_type": "execute_result"
    }
   ],
   "source": [
    "train.isnull().sum()"
   ]
  },
  {
   "cell_type": "code",
   "execution_count": 117,
   "id": "31a89392",
   "metadata": {},
   "outputs": [
    {
     "data": {
      "text/html": [
       "<div>\n",
       "<style scoped>\n",
       "    .dataframe tbody tr th:only-of-type {\n",
       "        vertical-align: middle;\n",
       "    }\n",
       "\n",
       "    .dataframe tbody tr th {\n",
       "        vertical-align: top;\n",
       "    }\n",
       "\n",
       "    .dataframe thead th {\n",
       "        text-align: right;\n",
       "    }\n",
       "</style>\n",
       "<table border=\"1\" class=\"dataframe\">\n",
       "  <thead>\n",
       "    <tr style=\"text-align: right;\">\n",
       "      <th></th>\n",
       "      <th>Customer_ID</th>\n",
       "      <th>Gender</th>\n",
       "      <th>Age</th>\n",
       "      <th>Vintage</th>\n",
       "      <th>Is_Active</th>\n",
       "      <th>City_Category</th>\n",
       "      <th>Customer_Category</th>\n",
       "      <th>Product_Holding_B1</th>\n",
       "    </tr>\n",
       "  </thead>\n",
       "  <tbody>\n",
       "    <tr>\n",
       "      <th>0</th>\n",
       "      <td>CC372708</td>\n",
       "      <td>Female</td>\n",
       "      <td>31</td>\n",
       "      <td>31</td>\n",
       "      <td>0</td>\n",
       "      <td>C2</td>\n",
       "      <td>S3</td>\n",
       "      <td>['P12', 'P13']</td>\n",
       "    </tr>\n",
       "    <tr>\n",
       "      <th>1</th>\n",
       "      <td>CC216072</td>\n",
       "      <td>Male</td>\n",
       "      <td>28</td>\n",
       "      <td>37</td>\n",
       "      <td>1</td>\n",
       "      <td>C1</td>\n",
       "      <td>S2</td>\n",
       "      <td>['P12', 'P13']</td>\n",
       "    </tr>\n",
       "    <tr>\n",
       "      <th>2</th>\n",
       "      <td>CC387629</td>\n",
       "      <td>Male</td>\n",
       "      <td>31</td>\n",
       "      <td>12</td>\n",
       "      <td>0</td>\n",
       "      <td>C2</td>\n",
       "      <td>S3</td>\n",
       "      <td>['P20']</td>\n",
       "    </tr>\n",
       "    <tr>\n",
       "      <th>3</th>\n",
       "      <td>CC389228</td>\n",
       "      <td>Female</td>\n",
       "      <td>55</td>\n",
       "      <td>11</td>\n",
       "      <td>0</td>\n",
       "      <td>C2</td>\n",
       "      <td>S2</td>\n",
       "      <td>['P13', 'P21']</td>\n",
       "    </tr>\n",
       "    <tr>\n",
       "      <th>4</th>\n",
       "      <td>CC394445</td>\n",
       "      <td>Male</td>\n",
       "      <td>51</td>\n",
       "      <td>49</td>\n",
       "      <td>1</td>\n",
       "      <td>C2</td>\n",
       "      <td>S1</td>\n",
       "      <td>['P13']</td>\n",
       "    </tr>\n",
       "  </tbody>\n",
       "</table>\n",
       "</div>"
      ],
      "text/plain": [
       "  Customer_ID  Gender  Age  Vintage  Is_Active City_Category  \\\n",
       "0    CC372708  Female   31       31          0            C2   \n",
       "1    CC216072    Male   28       37          1            C1   \n",
       "2    CC387629    Male   31       12          0            C2   \n",
       "3    CC389228  Female   55       11          0            C2   \n",
       "4    CC394445    Male   51       49          1            C2   \n",
       "\n",
       "  Customer_Category Product_Holding_B1  \n",
       "0                S3     ['P12', 'P13']  \n",
       "1                S2     ['P12', 'P13']  \n",
       "2                S3            ['P20']  \n",
       "3                S2     ['P13', 'P21']  \n",
       "4                S1            ['P13']  "
      ]
     },
     "execution_count": 117,
     "metadata": {},
     "output_type": "execute_result"
    }
   ],
   "source": [
    "test = pd.read_csv('test_VkM91FT.csv')\n",
    "test.head()"
   ]
  },
  {
   "cell_type": "code",
   "execution_count": 118,
   "id": "5d9e0867",
   "metadata": {},
   "outputs": [
    {
     "data": {
      "text/plain": [
       "(20327, 8)"
      ]
     },
     "execution_count": 118,
     "metadata": {},
     "output_type": "execute_result"
    }
   ],
   "source": [
    "test.shape"
   ]
  },
  {
   "cell_type": "code",
   "execution_count": 119,
   "id": "306faae2",
   "metadata": {},
   "outputs": [
    {
     "data": {
      "text/plain": [
       "Customer_ID           0\n",
       "Gender                0\n",
       "Age                   0\n",
       "Vintage               0\n",
       "Is_Active             0\n",
       "City_Category         0\n",
       "Customer_Category     0\n",
       "Product_Holding_B1    0\n",
       "dtype: int64"
      ]
     },
     "execution_count": 119,
     "metadata": {},
     "output_type": "execute_result"
    }
   ],
   "source": [
    "test.isnull().sum()"
   ]
  },
  {
   "cell_type": "code",
   "execution_count": 120,
   "id": "731d7848",
   "metadata": {},
   "outputs": [
    {
     "name": "stdout",
     "output_type": "stream",
     "text": [
      "<class 'pandas.core.frame.DataFrame'>\n",
      "RangeIndex: 37748 entries, 0 to 37747\n",
      "Data columns (total 9 columns):\n",
      " #   Column              Non-Null Count  Dtype \n",
      "---  ------              --------------  ----- \n",
      " 0   Customer_ID         37748 non-null  object\n",
      " 1   Gender              37748 non-null  object\n",
      " 2   Age                 37748 non-null  int64 \n",
      " 3   Vintage             37748 non-null  int64 \n",
      " 4   Is_Active           37748 non-null  int64 \n",
      " 5   City_Category       37748 non-null  object\n",
      " 6   Customer_Category   37748 non-null  object\n",
      " 7   Product_Holding_B1  37748 non-null  object\n",
      " 8   Product_Holding_B2  37748 non-null  object\n",
      "dtypes: int64(3), object(6)\n",
      "memory usage: 2.6+ MB\n"
     ]
    }
   ],
   "source": [
    "train.info()"
   ]
  },
  {
   "cell_type": "code",
   "execution_count": 121,
   "id": "164325db",
   "metadata": {},
   "outputs": [
    {
     "data": {
      "text/plain": [
       "617"
      ]
     },
     "execution_count": 121,
     "metadata": {},
     "output_type": "execute_result"
    }
   ],
   "source": [
    "train['Product_Holding_B1'].nunique()"
   ]
  },
  {
   "cell_type": "code",
   "execution_count": 122,
   "id": "adc5cafd",
   "metadata": {},
   "outputs": [
    {
     "data": {
      "text/plain": [
       "510"
      ]
     },
     "execution_count": 122,
     "metadata": {},
     "output_type": "execute_result"
    }
   ],
   "source": [
    "test['Product_Holding_B1'].nunique()"
   ]
  },
  {
   "cell_type": "code",
   "execution_count": 123,
   "id": "9a16b84b",
   "metadata": {},
   "outputs": [
    {
     "data": {
      "text/plain": [
       "['P00']                             5908\n",
       "['P8']                              5360\n",
       "['P12']                             3844\n",
       "['P16']                             3263\n",
       "['P6']                              2170\n",
       "                                    ... \n",
       "['P8', 'P9', 'P16']                    1\n",
       "['P3', 'P7', 'P12']                    1\n",
       "['P4', 'P6', 'P12']                    1\n",
       "['P3', 'P6', 'P8', 'P10', 'P12']       1\n",
       "['P1', 'P5', 'P6', 'P8', 'P9']         1\n",
       "Name: Product_Holding_B2, Length: 495, dtype: int64"
      ]
     },
     "execution_count": 123,
     "metadata": {},
     "output_type": "execute_result"
    }
   ],
   "source": [
    "train['Product_Holding_B2'].value_counts()"
   ]
  },
  {
   "cell_type": "code",
   "execution_count": 124,
   "id": "0278688c",
   "metadata": {},
   "outputs": [
    {
     "data": {
      "text/plain": [
       "Male      25890\n",
       "Female    11858\n",
       "Name: Gender, dtype: int64"
      ]
     },
     "execution_count": 124,
     "metadata": {},
     "output_type": "execute_result"
    }
   ],
   "source": [
    "train['Gender'].value_counts()"
   ]
  },
  {
   "cell_type": "code",
   "execution_count": 125,
   "id": "c0a2c0cb",
   "metadata": {},
   "outputs": [
    {
     "data": {
      "text/plain": [
       "C1    18941\n",
       "C2    18807\n",
       "Name: City_Category, dtype: int64"
      ]
     },
     "execution_count": 125,
     "metadata": {},
     "output_type": "execute_result"
    }
   ],
   "source": [
    "train['City_Category'].value_counts()"
   ]
  },
  {
   "cell_type": "code",
   "execution_count": 126,
   "id": "2ed68643",
   "metadata": {},
   "outputs": [
    {
     "data": {
      "text/plain": [
       "S3    17865\n",
       "S2    13265\n",
       "S1     6618\n",
       "Name: Customer_Category, dtype: int64"
      ]
     },
     "execution_count": 126,
     "metadata": {},
     "output_type": "execute_result"
    }
   ],
   "source": [
    "train['Customer_Category'].value_counts()"
   ]
  },
  {
   "cell_type": "code",
   "execution_count": 127,
   "id": "8c158e2c",
   "metadata": {},
   "outputs": [],
   "source": [
    "train['Gender'] = train['Gender'].replace({'Male': 1, 'Female': 0})\n",
    "test['Gender'] = test['Gender'].replace({'Male': 1, 'Female': 0})"
   ]
  },
  {
   "cell_type": "code",
   "execution_count": 128,
   "id": "ecfcc608",
   "metadata": {},
   "outputs": [],
   "source": [
    "train['City_Category'] = train['City_Category'].replace({'C1': 1, 'C2': 2})\n",
    "test['City_Category'] = test['City_Category'].replace({'C1': 1, 'C2': 2})"
   ]
  },
  {
   "cell_type": "code",
   "execution_count": 129,
   "id": "9820ecc0",
   "metadata": {},
   "outputs": [],
   "source": [
    "train['Customer_Category'] = train['Customer_Category'].replace({'S1': 1, 'S2':2, 'S3':3})\n",
    "test['Customer_Category'] = test['Customer_Category'].replace({'S1': 1, 'S2':2, 'S3':3})"
   ]
  },
  {
   "cell_type": "code",
   "execution_count": 130,
   "id": "da7adb5d",
   "metadata": {},
   "outputs": [],
   "source": [
    "train['Gender'] = train['Gender'].astype(int)\n",
    "test['Gender'] = test['Gender'].astype(int)"
   ]
  },
  {
   "cell_type": "code",
   "execution_count": 131,
   "id": "62cc6321",
   "metadata": {},
   "outputs": [],
   "source": [
    "train['City_Category'] = train['City_Category'].astype(int)\n",
    "test['City_Category'] = test['City_Category'].astype(int)"
   ]
  },
  {
   "cell_type": "code",
   "execution_count": 132,
   "id": "a7aeb78a",
   "metadata": {},
   "outputs": [],
   "source": [
    "train['Customer_Category'] = train['Customer_Category'].astype(int)\n",
    "test['Customer_Category'] = test['Customer_Category'].astype(int)"
   ]
  },
  {
   "cell_type": "code",
   "execution_count": 133,
   "id": "bcaa8f60",
   "metadata": {},
   "outputs": [
    {
     "name": "stdout",
     "output_type": "stream",
     "text": [
      "<class 'pandas.core.frame.DataFrame'>\n",
      "RangeIndex: 37748 entries, 0 to 37747\n",
      "Data columns (total 9 columns):\n",
      " #   Column              Non-Null Count  Dtype \n",
      "---  ------              --------------  ----- \n",
      " 0   Customer_ID         37748 non-null  object\n",
      " 1   Gender              37748 non-null  int32 \n",
      " 2   Age                 37748 non-null  int64 \n",
      " 3   Vintage             37748 non-null  int64 \n",
      " 4   Is_Active           37748 non-null  int64 \n",
      " 5   City_Category       37748 non-null  int32 \n",
      " 6   Customer_Category   37748 non-null  int32 \n",
      " 7   Product_Holding_B1  37748 non-null  object\n",
      " 8   Product_Holding_B2  37748 non-null  object\n",
      "dtypes: int32(3), int64(3), object(3)\n",
      "memory usage: 2.2+ MB\n"
     ]
    }
   ],
   "source": [
    "train.info()"
   ]
  },
  {
   "cell_type": "raw",
   "id": "fca92537",
   "metadata": {},
   "source": [
    "train['P1'] = train['Product_Holding_B1'].apply(lambda x:x.split(',')[0])"
   ]
  },
  {
   "cell_type": "raw",
   "id": "9641c177",
   "metadata": {},
   "source": [
    "train['P1'] = train['P1'].str.replace('[^\\dA-Za-z]', '')\n",
    "train['P1']"
   ]
  },
  {
   "cell_type": "code",
   "execution_count": 134,
   "id": "60ea29a4",
   "metadata": {},
   "outputs": [
    {
     "name": "stderr",
     "output_type": "stream",
     "text": [
      "<ipython-input-134-06ce785aea69>:1: FutureWarning: The default value of regex will change from True to False in a future version.\n",
      "  train['Product_Holding_B1'] = train['Product_Holding_B1'].str.replace('[^\\dA-Za-z,]', '')\n"
     ]
    },
    {
     "data": {
      "text/plain": [
       "0                P16\n",
       "1            P13,P20\n",
       "2                P11\n",
       "3             P8,P13\n",
       "4        P16,P17,P21\n",
       "            ...     \n",
       "37743            P16\n",
       "37744    P16,P17,P21\n",
       "37745            P14\n",
       "37746        P12,P13\n",
       "37747        P16,P17\n",
       "Name: Product_Holding_B1, Length: 37748, dtype: object"
      ]
     },
     "execution_count": 134,
     "metadata": {},
     "output_type": "execute_result"
    }
   ],
   "source": [
    "train['Product_Holding_B1'] = train['Product_Holding_B1'].str.replace('[^\\dA-Za-z,]', '')\n",
    "train['Product_Holding_B1']"
   ]
  },
  {
   "cell_type": "code",
   "execution_count": 136,
   "id": "49e36bf3",
   "metadata": {},
   "outputs": [],
   "source": [
    "train = pd.concat([train, train['Product_Holding_B1'].str.split(',', expand=True)], axis = 1)"
   ]
  },
  {
   "cell_type": "code",
   "execution_count": 137,
   "id": "de1fc30c",
   "metadata": {},
   "outputs": [
    {
     "data": {
      "text/html": [
       "<div>\n",
       "<style scoped>\n",
       "    .dataframe tbody tr th:only-of-type {\n",
       "        vertical-align: middle;\n",
       "    }\n",
       "\n",
       "    .dataframe tbody tr th {\n",
       "        vertical-align: top;\n",
       "    }\n",
       "\n",
       "    .dataframe thead th {\n",
       "        text-align: right;\n",
       "    }\n",
       "</style>\n",
       "<table border=\"1\" class=\"dataframe\">\n",
       "  <thead>\n",
       "    <tr style=\"text-align: right;\">\n",
       "      <th></th>\n",
       "      <th>Customer_ID</th>\n",
       "      <th>Gender</th>\n",
       "      <th>Age</th>\n",
       "      <th>Vintage</th>\n",
       "      <th>Is_Active</th>\n",
       "      <th>City_Category</th>\n",
       "      <th>Customer_Category</th>\n",
       "      <th>Product_Holding_B1</th>\n",
       "      <th>Product_Holding_B2</th>\n",
       "      <th>0</th>\n",
       "      <th>1</th>\n",
       "      <th>2</th>\n",
       "      <th>3</th>\n",
       "      <th>4</th>\n",
       "      <th>5</th>\n",
       "      <th>6</th>\n",
       "      <th>7</th>\n",
       "    </tr>\n",
       "  </thead>\n",
       "  <tbody>\n",
       "    <tr>\n",
       "      <th>0</th>\n",
       "      <td>CC264719</td>\n",
       "      <td>1</td>\n",
       "      <td>41</td>\n",
       "      <td>14</td>\n",
       "      <td>0</td>\n",
       "      <td>1</td>\n",
       "      <td>3</td>\n",
       "      <td>P16</td>\n",
       "      <td>['P8']</td>\n",
       "      <td>P16</td>\n",
       "      <td>None</td>\n",
       "      <td>None</td>\n",
       "      <td>None</td>\n",
       "      <td>None</td>\n",
       "      <td>None</td>\n",
       "      <td>None</td>\n",
       "      <td>None</td>\n",
       "    </tr>\n",
       "    <tr>\n",
       "      <th>1</th>\n",
       "      <td>CC209679</td>\n",
       "      <td>0</td>\n",
       "      <td>47</td>\n",
       "      <td>14</td>\n",
       "      <td>1</td>\n",
       "      <td>1</td>\n",
       "      <td>2</td>\n",
       "      <td>P13,P20</td>\n",
       "      <td>['P3']</td>\n",
       "      <td>P13</td>\n",
       "      <td>P20</td>\n",
       "      <td>None</td>\n",
       "      <td>None</td>\n",
       "      <td>None</td>\n",
       "      <td>None</td>\n",
       "      <td>None</td>\n",
       "      <td>None</td>\n",
       "    </tr>\n",
       "    <tr>\n",
       "      <th>2</th>\n",
       "      <td>CC319633</td>\n",
       "      <td>0</td>\n",
       "      <td>59</td>\n",
       "      <td>14</td>\n",
       "      <td>0</td>\n",
       "      <td>2</td>\n",
       "      <td>2</td>\n",
       "      <td>P11</td>\n",
       "      <td>['P00']</td>\n",
       "      <td>P11</td>\n",
       "      <td>None</td>\n",
       "      <td>None</td>\n",
       "      <td>None</td>\n",
       "      <td>None</td>\n",
       "      <td>None</td>\n",
       "      <td>None</td>\n",
       "      <td>None</td>\n",
       "    </tr>\n",
       "    <tr>\n",
       "      <th>3</th>\n",
       "      <td>CC231413</td>\n",
       "      <td>0</td>\n",
       "      <td>32</td>\n",
       "      <td>16</td>\n",
       "      <td>0</td>\n",
       "      <td>1</td>\n",
       "      <td>2</td>\n",
       "      <td>P8,P13</td>\n",
       "      <td>['P6']</td>\n",
       "      <td>P8</td>\n",
       "      <td>P13</td>\n",
       "      <td>None</td>\n",
       "      <td>None</td>\n",
       "      <td>None</td>\n",
       "      <td>None</td>\n",
       "      <td>None</td>\n",
       "      <td>None</td>\n",
       "    </tr>\n",
       "    <tr>\n",
       "      <th>4</th>\n",
       "      <td>CC259633</td>\n",
       "      <td>1</td>\n",
       "      <td>30</td>\n",
       "      <td>15</td>\n",
       "      <td>0</td>\n",
       "      <td>2</td>\n",
       "      <td>3</td>\n",
       "      <td>P16,P17,P21</td>\n",
       "      <td>['P8', 'P12']</td>\n",
       "      <td>P16</td>\n",
       "      <td>P17</td>\n",
       "      <td>P21</td>\n",
       "      <td>None</td>\n",
       "      <td>None</td>\n",
       "      <td>None</td>\n",
       "      <td>None</td>\n",
       "      <td>None</td>\n",
       "    </tr>\n",
       "  </tbody>\n",
       "</table>\n",
       "</div>"
      ],
      "text/plain": [
       "  Customer_ID  Gender  Age  Vintage  Is_Active  City_Category  \\\n",
       "0    CC264719       1   41       14          0              1   \n",
       "1    CC209679       0   47       14          1              1   \n",
       "2    CC319633       0   59       14          0              2   \n",
       "3    CC231413       0   32       16          0              1   \n",
       "4    CC259633       1   30       15          0              2   \n",
       "\n",
       "   Customer_Category Product_Holding_B1 Product_Holding_B2    0     1     2  \\\n",
       "0                  3                P16             ['P8']  P16  None  None   \n",
       "1                  2            P13,P20             ['P3']  P13   P20  None   \n",
       "2                  2                P11            ['P00']  P11  None  None   \n",
       "3                  2             P8,P13             ['P6']   P8   P13  None   \n",
       "4                  3        P16,P17,P21      ['P8', 'P12']  P16   P17   P21   \n",
       "\n",
       "      3     4     5     6     7  \n",
       "0  None  None  None  None  None  \n",
       "1  None  None  None  None  None  \n",
       "2  None  None  None  None  None  \n",
       "3  None  None  None  None  None  \n",
       "4  None  None  None  None  None  "
      ]
     },
     "execution_count": 137,
     "metadata": {},
     "output_type": "execute_result"
    }
   ],
   "source": [
    "train.head()"
   ]
  },
  {
   "cell_type": "code",
   "execution_count": 138,
   "id": "fa272742",
   "metadata": {},
   "outputs": [
    {
     "name": "stderr",
     "output_type": "stream",
     "text": [
      "<ipython-input-138-8bb858ccf83e>:1: FutureWarning: The default value of regex will change from True to False in a future version.\n",
      "  test['Product_Holding_B1'] = test['Product_Holding_B1'].str.replace('[^\\dA-Za-z,]', '')\n"
     ]
    },
    {
     "data": {
      "text/plain": [
       "0            P12,P13\n",
       "1            P12,P13\n",
       "2                P20\n",
       "3            P13,P21\n",
       "4                P13\n",
       "            ...     \n",
       "20322            P16\n",
       "20323            P16\n",
       "20324            P13\n",
       "20325      P8,P9,P16\n",
       "20326    P12,P13,P17\n",
       "Name: Product_Holding_B1, Length: 20327, dtype: object"
      ]
     },
     "execution_count": 138,
     "metadata": {},
     "output_type": "execute_result"
    }
   ],
   "source": [
    "test['Product_Holding_B1'] = test['Product_Holding_B1'].str.replace('[^\\dA-Za-z,]', '')\n",
    "test['Product_Holding_B1']"
   ]
  },
  {
   "cell_type": "code",
   "execution_count": 139,
   "id": "1e9b94f0",
   "metadata": {},
   "outputs": [],
   "source": [
    "test = pd.concat([test, test['Product_Holding_B1'].str.split(',', expand=True)], axis = 1)"
   ]
  },
  {
   "cell_type": "code",
   "execution_count": 140,
   "id": "9dfdb7b8",
   "metadata": {},
   "outputs": [
    {
     "data": {
      "text/html": [
       "<div>\n",
       "<style scoped>\n",
       "    .dataframe tbody tr th:only-of-type {\n",
       "        vertical-align: middle;\n",
       "    }\n",
       "\n",
       "    .dataframe tbody tr th {\n",
       "        vertical-align: top;\n",
       "    }\n",
       "\n",
       "    .dataframe thead th {\n",
       "        text-align: right;\n",
       "    }\n",
       "</style>\n",
       "<table border=\"1\" class=\"dataframe\">\n",
       "  <thead>\n",
       "    <tr style=\"text-align: right;\">\n",
       "      <th></th>\n",
       "      <th>Customer_ID</th>\n",
       "      <th>Gender</th>\n",
       "      <th>Age</th>\n",
       "      <th>Vintage</th>\n",
       "      <th>Is_Active</th>\n",
       "      <th>City_Category</th>\n",
       "      <th>Customer_Category</th>\n",
       "      <th>Product_Holding_B1</th>\n",
       "      <th>0</th>\n",
       "      <th>1</th>\n",
       "      <th>2</th>\n",
       "      <th>3</th>\n",
       "      <th>4</th>\n",
       "      <th>5</th>\n",
       "      <th>6</th>\n",
       "      <th>7</th>\n",
       "    </tr>\n",
       "  </thead>\n",
       "  <tbody>\n",
       "    <tr>\n",
       "      <th>0</th>\n",
       "      <td>CC372708</td>\n",
       "      <td>0</td>\n",
       "      <td>31</td>\n",
       "      <td>31</td>\n",
       "      <td>0</td>\n",
       "      <td>2</td>\n",
       "      <td>3</td>\n",
       "      <td>P12,P13</td>\n",
       "      <td>P12</td>\n",
       "      <td>P13</td>\n",
       "      <td>None</td>\n",
       "      <td>None</td>\n",
       "      <td>None</td>\n",
       "      <td>None</td>\n",
       "      <td>None</td>\n",
       "      <td>None</td>\n",
       "    </tr>\n",
       "    <tr>\n",
       "      <th>1</th>\n",
       "      <td>CC216072</td>\n",
       "      <td>1</td>\n",
       "      <td>28</td>\n",
       "      <td>37</td>\n",
       "      <td>1</td>\n",
       "      <td>1</td>\n",
       "      <td>2</td>\n",
       "      <td>P12,P13</td>\n",
       "      <td>P12</td>\n",
       "      <td>P13</td>\n",
       "      <td>None</td>\n",
       "      <td>None</td>\n",
       "      <td>None</td>\n",
       "      <td>None</td>\n",
       "      <td>None</td>\n",
       "      <td>None</td>\n",
       "    </tr>\n",
       "    <tr>\n",
       "      <th>2</th>\n",
       "      <td>CC387629</td>\n",
       "      <td>1</td>\n",
       "      <td>31</td>\n",
       "      <td>12</td>\n",
       "      <td>0</td>\n",
       "      <td>2</td>\n",
       "      <td>3</td>\n",
       "      <td>P20</td>\n",
       "      <td>P20</td>\n",
       "      <td>None</td>\n",
       "      <td>None</td>\n",
       "      <td>None</td>\n",
       "      <td>None</td>\n",
       "      <td>None</td>\n",
       "      <td>None</td>\n",
       "      <td>None</td>\n",
       "    </tr>\n",
       "    <tr>\n",
       "      <th>3</th>\n",
       "      <td>CC389228</td>\n",
       "      <td>0</td>\n",
       "      <td>55</td>\n",
       "      <td>11</td>\n",
       "      <td>0</td>\n",
       "      <td>2</td>\n",
       "      <td>2</td>\n",
       "      <td>P13,P21</td>\n",
       "      <td>P13</td>\n",
       "      <td>P21</td>\n",
       "      <td>None</td>\n",
       "      <td>None</td>\n",
       "      <td>None</td>\n",
       "      <td>None</td>\n",
       "      <td>None</td>\n",
       "      <td>None</td>\n",
       "    </tr>\n",
       "    <tr>\n",
       "      <th>4</th>\n",
       "      <td>CC394445</td>\n",
       "      <td>1</td>\n",
       "      <td>51</td>\n",
       "      <td>49</td>\n",
       "      <td>1</td>\n",
       "      <td>2</td>\n",
       "      <td>1</td>\n",
       "      <td>P13</td>\n",
       "      <td>P13</td>\n",
       "      <td>None</td>\n",
       "      <td>None</td>\n",
       "      <td>None</td>\n",
       "      <td>None</td>\n",
       "      <td>None</td>\n",
       "      <td>None</td>\n",
       "      <td>None</td>\n",
       "    </tr>\n",
       "  </tbody>\n",
       "</table>\n",
       "</div>"
      ],
      "text/plain": [
       "  Customer_ID  Gender  Age  Vintage  Is_Active  City_Category  \\\n",
       "0    CC372708       0   31       31          0              2   \n",
       "1    CC216072       1   28       37          1              1   \n",
       "2    CC387629       1   31       12          0              2   \n",
       "3    CC389228       0   55       11          0              2   \n",
       "4    CC394445       1   51       49          1              2   \n",
       "\n",
       "   Customer_Category Product_Holding_B1    0     1     2     3     4     5  \\\n",
       "0                  3            P12,P13  P12   P13  None  None  None  None   \n",
       "1                  2            P12,P13  P12   P13  None  None  None  None   \n",
       "2                  3                P20  P20  None  None  None  None  None   \n",
       "3                  2            P13,P21  P13   P21  None  None  None  None   \n",
       "4                  1                P13  P13  None  None  None  None  None   \n",
       "\n",
       "      6     7  \n",
       "0  None  None  \n",
       "1  None  None  \n",
       "2  None  None  \n",
       "3  None  None  \n",
       "4  None  None  "
      ]
     },
     "execution_count": 140,
     "metadata": {},
     "output_type": "execute_result"
    }
   ],
   "source": [
    "test.head()"
   ]
  },
  {
   "cell_type": "code",
   "execution_count": 141,
   "id": "611b28ae",
   "metadata": {},
   "outputs": [],
   "source": [
    "train = train.drop('Product_Holding_B1', axis = 1)\n",
    "test = test.drop('Product_Holding_B1', axis = 1)"
   ]
  },
  {
   "cell_type": "code",
   "execution_count": 142,
   "id": "e5be8711",
   "metadata": {},
   "outputs": [
    {
     "data": {
      "text/plain": [
       "(37748, 16)"
      ]
     },
     "execution_count": 142,
     "metadata": {},
     "output_type": "execute_result"
    }
   ],
   "source": [
    "train.shape"
   ]
  },
  {
   "cell_type": "code",
   "execution_count": 143,
   "id": "ac7362b5",
   "metadata": {},
   "outputs": [
    {
     "data": {
      "text/plain": [
       "(20327, 15)"
      ]
     },
     "execution_count": 143,
     "metadata": {},
     "output_type": "execute_result"
    }
   ],
   "source": [
    "test.shape"
   ]
  },
  {
   "cell_type": "code",
   "execution_count": 144,
   "id": "c1057617",
   "metadata": {},
   "outputs": [],
   "source": [
    "train = train.fillna('No Values')"
   ]
  },
  {
   "cell_type": "code",
   "execution_count": 145,
   "id": "4ef7da8e",
   "metadata": {},
   "outputs": [],
   "source": [
    "test = test.fillna('No Values')"
   ]
  },
  {
   "cell_type": "code",
   "execution_count": 146,
   "id": "d56205b3",
   "metadata": {},
   "outputs": [
    {
     "name": "stdout",
     "output_type": "stream",
     "text": [
      "<class 'pandas.core.frame.DataFrame'>\n",
      "RangeIndex: 37748 entries, 0 to 37747\n",
      "Data columns (total 16 columns):\n",
      " #   Column              Non-Null Count  Dtype \n",
      "---  ------              --------------  ----- \n",
      " 0   Customer_ID         37748 non-null  object\n",
      " 1   Gender              37748 non-null  int32 \n",
      " 2   Age                 37748 non-null  int64 \n",
      " 3   Vintage             37748 non-null  int64 \n",
      " 4   Is_Active           37748 non-null  int64 \n",
      " 5   City_Category       37748 non-null  int32 \n",
      " 6   Customer_Category   37748 non-null  int32 \n",
      " 7   Product_Holding_B2  37748 non-null  object\n",
      " 8   0                   37748 non-null  object\n",
      " 9   1                   37748 non-null  object\n",
      " 10  2                   37748 non-null  object\n",
      " 11  3                   37748 non-null  object\n",
      " 12  4                   37748 non-null  object\n",
      " 13  5                   37748 non-null  object\n",
      " 14  6                   37748 non-null  object\n",
      " 15  7                   37748 non-null  object\n",
      "dtypes: int32(3), int64(3), object(10)\n",
      "memory usage: 4.2+ MB\n"
     ]
    }
   ],
   "source": [
    "train.info()"
   ]
  },
  {
   "cell_type": "code",
   "execution_count": 147,
   "id": "d8f4c6e7",
   "metadata": {},
   "outputs": [
    {
     "name": "stdout",
     "output_type": "stream",
     "text": [
      "<class 'pandas.core.frame.DataFrame'>\n",
      "RangeIndex: 20327 entries, 0 to 20326\n",
      "Data columns (total 15 columns):\n",
      " #   Column             Non-Null Count  Dtype \n",
      "---  ------             --------------  ----- \n",
      " 0   Customer_ID        20327 non-null  object\n",
      " 1   Gender             20327 non-null  int32 \n",
      " 2   Age                20327 non-null  int64 \n",
      " 3   Vintage            20327 non-null  int64 \n",
      " 4   Is_Active          20327 non-null  int64 \n",
      " 5   City_Category      20327 non-null  int32 \n",
      " 6   Customer_Category  20327 non-null  int32 \n",
      " 7   0                  20327 non-null  object\n",
      " 8   1                  20327 non-null  object\n",
      " 9   2                  20327 non-null  object\n",
      " 10  3                  20327 non-null  object\n",
      " 11  4                  20327 non-null  object\n",
      " 12  5                  20327 non-null  object\n",
      " 13  6                  20327 non-null  object\n",
      " 14  7                  20327 non-null  object\n",
      "dtypes: int32(3), int64(3), object(9)\n",
      "memory usage: 2.1+ MB\n"
     ]
    }
   ],
   "source": [
    "test.info()"
   ]
  },
  {
   "cell_type": "code",
   "execution_count": 148,
   "id": "ae249050",
   "metadata": {},
   "outputs": [],
   "source": [
    "newtrain = train.copy()\n",
    "newtest = test.copy()"
   ]
  },
  {
   "cell_type": "code",
   "execution_count": 149,
   "id": "176f00f4",
   "metadata": {},
   "outputs": [],
   "source": [
    "from sklearn.preprocessing import LabelEncoder\n",
    "le = LabelEncoder()"
   ]
  },
  {
   "cell_type": "code",
   "execution_count": 150,
   "id": "cd9731e3",
   "metadata": {},
   "outputs": [],
   "source": [
    "x = ['Customer_ID', 0, 1, 2, 3, 4, 5, 6, 7]\n",
    "for i in x:\n",
    "    newtrain[i] = le.fit_transform(newtrain[i])\n",
    "    newtest[i] = le.fit_transform(newtest[i])"
   ]
  },
  {
   "cell_type": "code",
   "execution_count": 151,
   "id": "0c06a76a",
   "metadata": {},
   "outputs": [
    {
     "data": {
      "text/html": [
       "<div>\n",
       "<style scoped>\n",
       "    .dataframe tbody tr th:only-of-type {\n",
       "        vertical-align: middle;\n",
       "    }\n",
       "\n",
       "    .dataframe tbody tr th {\n",
       "        vertical-align: top;\n",
       "    }\n",
       "\n",
       "    .dataframe thead th {\n",
       "        text-align: right;\n",
       "    }\n",
       "</style>\n",
       "<table border=\"1\" class=\"dataframe\">\n",
       "  <thead>\n",
       "    <tr style=\"text-align: right;\">\n",
       "      <th></th>\n",
       "      <th>Customer_ID</th>\n",
       "      <th>Gender</th>\n",
       "      <th>Age</th>\n",
       "      <th>Vintage</th>\n",
       "      <th>Is_Active</th>\n",
       "      <th>City_Category</th>\n",
       "      <th>Customer_Category</th>\n",
       "      <th>Product_Holding_B2</th>\n",
       "      <th>0</th>\n",
       "      <th>1</th>\n",
       "      <th>2</th>\n",
       "      <th>3</th>\n",
       "      <th>4</th>\n",
       "      <th>5</th>\n",
       "      <th>6</th>\n",
       "      <th>7</th>\n",
       "    </tr>\n",
       "  </thead>\n",
       "  <tbody>\n",
       "    <tr>\n",
       "      <th>0</th>\n",
       "      <td>10729</td>\n",
       "      <td>1</td>\n",
       "      <td>41</td>\n",
       "      <td>14</td>\n",
       "      <td>0</td>\n",
       "      <td>1</td>\n",
       "      <td>3</td>\n",
       "      <td>['P8']</td>\n",
       "      <td>8</td>\n",
       "      <td>0</td>\n",
       "      <td>0</td>\n",
       "      <td>0</td>\n",
       "      <td>0</td>\n",
       "      <td>0</td>\n",
       "      <td>0</td>\n",
       "      <td>0</td>\n",
       "    </tr>\n",
       "    <tr>\n",
       "      <th>1</th>\n",
       "      <td>2107</td>\n",
       "      <td>0</td>\n",
       "      <td>47</td>\n",
       "      <td>14</td>\n",
       "      <td>1</td>\n",
       "      <td>1</td>\n",
       "      <td>2</td>\n",
       "      <td>['P3']</td>\n",
       "      <td>5</td>\n",
       "      <td>11</td>\n",
       "      <td>0</td>\n",
       "      <td>0</td>\n",
       "      <td>0</td>\n",
       "      <td>0</td>\n",
       "      <td>0</td>\n",
       "      <td>0</td>\n",
       "    </tr>\n",
       "    <tr>\n",
       "      <th>2</th>\n",
       "      <td>19152</td>\n",
       "      <td>0</td>\n",
       "      <td>59</td>\n",
       "      <td>14</td>\n",
       "      <td>0</td>\n",
       "      <td>2</td>\n",
       "      <td>2</td>\n",
       "      <td>['P00']</td>\n",
       "      <td>3</td>\n",
       "      <td>0</td>\n",
       "      <td>0</td>\n",
       "      <td>0</td>\n",
       "      <td>0</td>\n",
       "      <td>0</td>\n",
       "      <td>0</td>\n",
       "      <td>0</td>\n",
       "    </tr>\n",
       "    <tr>\n",
       "      <th>3</th>\n",
       "      <td>5261</td>\n",
       "      <td>0</td>\n",
       "      <td>32</td>\n",
       "      <td>16</td>\n",
       "      <td>0</td>\n",
       "      <td>1</td>\n",
       "      <td>2</td>\n",
       "      <td>['P6']</td>\n",
       "      <td>20</td>\n",
       "      <td>4</td>\n",
       "      <td>0</td>\n",
       "      <td>0</td>\n",
       "      <td>0</td>\n",
       "      <td>0</td>\n",
       "      <td>0</td>\n",
       "      <td>0</td>\n",
       "    </tr>\n",
       "    <tr>\n",
       "      <th>4</th>\n",
       "      <td>9875</td>\n",
       "      <td>1</td>\n",
       "      <td>30</td>\n",
       "      <td>15</td>\n",
       "      <td>0</td>\n",
       "      <td>2</td>\n",
       "      <td>3</td>\n",
       "      <td>['P8', 'P12']</td>\n",
       "      <td>8</td>\n",
       "      <td>8</td>\n",
       "      <td>12</td>\n",
       "      <td>0</td>\n",
       "      <td>0</td>\n",
       "      <td>0</td>\n",
       "      <td>0</td>\n",
       "      <td>0</td>\n",
       "    </tr>\n",
       "  </tbody>\n",
       "</table>\n",
       "</div>"
      ],
      "text/plain": [
       "   Customer_ID  Gender  Age  Vintage  Is_Active  City_Category  \\\n",
       "0        10729       1   41       14          0              1   \n",
       "1         2107       0   47       14          1              1   \n",
       "2        19152       0   59       14          0              2   \n",
       "3         5261       0   32       16          0              1   \n",
       "4         9875       1   30       15          0              2   \n",
       "\n",
       "   Customer_Category Product_Holding_B2   0   1   2  3  4  5  6  7  \n",
       "0                  3             ['P8']   8   0   0  0  0  0  0  0  \n",
       "1                  2             ['P3']   5  11   0  0  0  0  0  0  \n",
       "2                  2            ['P00']   3   0   0  0  0  0  0  0  \n",
       "3                  2             ['P6']  20   4   0  0  0  0  0  0  \n",
       "4                  3      ['P8', 'P12']   8   8  12  0  0  0  0  0  "
      ]
     },
     "execution_count": 151,
     "metadata": {},
     "output_type": "execute_result"
    }
   ],
   "source": [
    "newtrain.head()"
   ]
  },
  {
   "cell_type": "code",
   "execution_count": 152,
   "id": "923a4bc4",
   "metadata": {},
   "outputs": [
    {
     "data": {
      "text/html": [
       "<div>\n",
       "<style scoped>\n",
       "    .dataframe tbody tr th:only-of-type {\n",
       "        vertical-align: middle;\n",
       "    }\n",
       "\n",
       "    .dataframe tbody tr th {\n",
       "        vertical-align: top;\n",
       "    }\n",
       "\n",
       "    .dataframe thead th {\n",
       "        text-align: right;\n",
       "    }\n",
       "</style>\n",
       "<table border=\"1\" class=\"dataframe\">\n",
       "  <thead>\n",
       "    <tr style=\"text-align: right;\">\n",
       "      <th></th>\n",
       "      <th>Customer_ID</th>\n",
       "      <th>Gender</th>\n",
       "      <th>Age</th>\n",
       "      <th>Vintage</th>\n",
       "      <th>Is_Active</th>\n",
       "      <th>City_Category</th>\n",
       "      <th>Customer_Category</th>\n",
       "      <th>0</th>\n",
       "      <th>1</th>\n",
       "      <th>2</th>\n",
       "      <th>3</th>\n",
       "      <th>4</th>\n",
       "      <th>5</th>\n",
       "      <th>6</th>\n",
       "      <th>7</th>\n",
       "    </tr>\n",
       "  </thead>\n",
       "  <tbody>\n",
       "    <tr>\n",
       "      <th>0</th>\n",
       "      <td>13812</td>\n",
       "      <td>0</td>\n",
       "      <td>31</td>\n",
       "      <td>31</td>\n",
       "      <td>0</td>\n",
       "      <td>2</td>\n",
       "      <td>3</td>\n",
       "      <td>4</td>\n",
       "      <td>4</td>\n",
       "      <td>0</td>\n",
       "      <td>0</td>\n",
       "      <td>0</td>\n",
       "      <td>0</td>\n",
       "      <td>0</td>\n",
       "      <td>0</td>\n",
       "    </tr>\n",
       "    <tr>\n",
       "      <th>1</th>\n",
       "      <td>1741</td>\n",
       "      <td>1</td>\n",
       "      <td>28</td>\n",
       "      <td>37</td>\n",
       "      <td>1</td>\n",
       "      <td>1</td>\n",
       "      <td>2</td>\n",
       "      <td>4</td>\n",
       "      <td>4</td>\n",
       "      <td>0</td>\n",
       "      <td>0</td>\n",
       "      <td>0</td>\n",
       "      <td>0</td>\n",
       "      <td>0</td>\n",
       "      <td>0</td>\n",
       "    </tr>\n",
       "    <tr>\n",
       "      <th>2</th>\n",
       "      <td>17437</td>\n",
       "      <td>1</td>\n",
       "      <td>31</td>\n",
       "      <td>12</td>\n",
       "      <td>0</td>\n",
       "      <td>2</td>\n",
       "      <td>3</td>\n",
       "      <td>13</td>\n",
       "      <td>0</td>\n",
       "      <td>0</td>\n",
       "      <td>0</td>\n",
       "      <td>0</td>\n",
       "      <td>0</td>\n",
       "      <td>0</td>\n",
       "      <td>0</td>\n",
       "    </tr>\n",
       "    <tr>\n",
       "      <th>3</th>\n",
       "      <td>17791</td>\n",
       "      <td>0</td>\n",
       "      <td>55</td>\n",
       "      <td>11</td>\n",
       "      <td>0</td>\n",
       "      <td>2</td>\n",
       "      <td>2</td>\n",
       "      <td>5</td>\n",
       "      <td>12</td>\n",
       "      <td>0</td>\n",
       "      <td>0</td>\n",
       "      <td>0</td>\n",
       "      <td>0</td>\n",
       "      <td>0</td>\n",
       "      <td>0</td>\n",
       "    </tr>\n",
       "    <tr>\n",
       "      <th>4</th>\n",
       "      <td>19283</td>\n",
       "      <td>1</td>\n",
       "      <td>51</td>\n",
       "      <td>49</td>\n",
       "      <td>1</td>\n",
       "      <td>2</td>\n",
       "      <td>1</td>\n",
       "      <td>5</td>\n",
       "      <td>0</td>\n",
       "      <td>0</td>\n",
       "      <td>0</td>\n",
       "      <td>0</td>\n",
       "      <td>0</td>\n",
       "      <td>0</td>\n",
       "      <td>0</td>\n",
       "    </tr>\n",
       "  </tbody>\n",
       "</table>\n",
       "</div>"
      ],
      "text/plain": [
       "   Customer_ID  Gender  Age  Vintage  Is_Active  City_Category  \\\n",
       "0        13812       0   31       31          0              2   \n",
       "1         1741       1   28       37          1              1   \n",
       "2        17437       1   31       12          0              2   \n",
       "3        17791       0   55       11          0              2   \n",
       "4        19283       1   51       49          1              2   \n",
       "\n",
       "   Customer_Category   0   1  2  3  4  5  6  7  \n",
       "0                  3   4   4  0  0  0  0  0  0  \n",
       "1                  2   4   4  0  0  0  0  0  0  \n",
       "2                  3  13   0  0  0  0  0  0  0  \n",
       "3                  2   5  12  0  0  0  0  0  0  \n",
       "4                  1   5   0  0  0  0  0  0  0  "
      ]
     },
     "execution_count": 152,
     "metadata": {},
     "output_type": "execute_result"
    }
   ],
   "source": [
    "newtest.head()"
   ]
  },
  {
   "cell_type": "code",
   "execution_count": 153,
   "id": "509be3b6",
   "metadata": {},
   "outputs": [],
   "source": [
    "newtrain['Product_Holding_B2'] = le.fit_transform(newtrain['Product_Holding_B2'])"
   ]
  },
  {
   "cell_type": "code",
   "execution_count": 164,
   "id": "8622db84",
   "metadata": {},
   "outputs": [],
   "source": [
    "x = newtrain.drop('Product_Holding_B2', axis = 1)\n",
    "y = newtrain['Product_Holding_B2']"
   ]
  },
  {
   "cell_type": "code",
   "execution_count": 165,
   "id": "f930c040",
   "metadata": {},
   "outputs": [],
   "source": [
    "from sklearn.model_selection import train_test_split\n",
    "x_train, x_test, y_train, y_test = train_test_split(x, y, test_size = 0.2, random_state = 1)"
   ]
  },
  {
   "cell_type": "code",
   "execution_count": 156,
   "id": "4b449365",
   "metadata": {},
   "outputs": [],
   "source": [
    "from sklearn.metrics import average_precision_score, accuracy_score"
   ]
  },
  {
   "cell_type": "code",
   "execution_count": 158,
   "id": "d404098e",
   "metadata": {},
   "outputs": [
    {
     "name": "stdout",
     "output_type": "stream",
     "text": [
      "0.6217218543046358\n"
     ]
    }
   ],
   "source": [
    "from sklearn.ensemble import RandomForestClassifier\n",
    "rf = RandomForestClassifier()\n",
    "y_pred = rf.fit(x_train, y_train).predict(x_test)\n",
    "print(accuracy_score(y_test, y_pred))"
   ]
  },
  {
   "cell_type": "code",
   "execution_count": 162,
   "id": "332e6908",
   "metadata": {},
   "outputs": [],
   "source": [
    "x_train = newtrain.drop('Product_Holding_B2', axis = 1)\n",
    "y_train = newtrain['Product_Holding_B2']\n",
    "x_test = newtest"
   ]
  },
  {
   "cell_type": "code",
   "execution_count": 163,
   "id": "05fec7d6",
   "metadata": {},
   "outputs": [],
   "source": [
    "from sklearn.ensemble import RandomForestClassifier\n",
    "rf = RandomForestClassifier()\n",
    "y_pred = rf.fit(x_train, y_train).predict(x_test)\n",
    "solution = pd.DataFrame({'Customer_ID': test.Customer_ID, 'Product_Holding_B2': le.inverse_transform(y_pred)})\n",
    "solution.to_csv('Solution.csv', index = False)"
   ]
  },
  {
   "cell_type": "code",
   "execution_count": null,
   "id": "d55a53fb",
   "metadata": {},
   "outputs": [],
   "source": []
  }
 ],
 "metadata": {
  "kernelspec": {
   "display_name": "Python 3",
   "language": "python",
   "name": "python3"
  },
  "language_info": {
   "codemirror_mode": {
    "name": "ipython",
    "version": 3
   },
   "file_extension": ".py",
   "mimetype": "text/x-python",
   "name": "python",
   "nbconvert_exporter": "python",
   "pygments_lexer": "ipython3",
   "version": "3.8.8"
  }
 },
 "nbformat": 4,
 "nbformat_minor": 5
}
