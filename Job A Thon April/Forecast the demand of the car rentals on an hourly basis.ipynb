{
 "cells": [
  {
   "cell_type": "code",
   "execution_count": 101,
   "id": "d4bc4acb",
   "metadata": {},
   "outputs": [],
   "source": [
    "import numpy as np\n",
    "import pandas as pd\n",
    "import matplotlib.pyplot as plt\n",
    "import seaborn as sns"
   ]
  },
  {
   "cell_type": "code",
   "execution_count": 102,
   "id": "29df0f36",
   "metadata": {},
   "outputs": [
    {
     "data": {
      "text/html": [
       "<div>\n",
       "<style scoped>\n",
       "    .dataframe tbody tr th:only-of-type {\n",
       "        vertical-align: middle;\n",
       "    }\n",
       "\n",
       "    .dataframe tbody tr th {\n",
       "        vertical-align: top;\n",
       "    }\n",
       "\n",
       "    .dataframe thead th {\n",
       "        text-align: right;\n",
       "    }\n",
       "</style>\n",
       "<table border=\"1\" class=\"dataframe\">\n",
       "  <thead>\n",
       "    <tr style=\"text-align: right;\">\n",
       "      <th></th>\n",
       "      <th>date</th>\n",
       "      <th>hour</th>\n",
       "      <th>demand</th>\n",
       "    </tr>\n",
       "  </thead>\n",
       "  <tbody>\n",
       "    <tr>\n",
       "      <th>0</th>\n",
       "      <td>2018-08-18</td>\n",
       "      <td>9</td>\n",
       "      <td>91</td>\n",
       "    </tr>\n",
       "    <tr>\n",
       "      <th>1</th>\n",
       "      <td>2018-08-18</td>\n",
       "      <td>10</td>\n",
       "      <td>21</td>\n",
       "    </tr>\n",
       "    <tr>\n",
       "      <th>2</th>\n",
       "      <td>2018-08-18</td>\n",
       "      <td>13</td>\n",
       "      <td>23</td>\n",
       "    </tr>\n",
       "    <tr>\n",
       "      <th>3</th>\n",
       "      <td>2018-08-18</td>\n",
       "      <td>14</td>\n",
       "      <td>104</td>\n",
       "    </tr>\n",
       "    <tr>\n",
       "      <th>4</th>\n",
       "      <td>2018-08-18</td>\n",
       "      <td>15</td>\n",
       "      <td>81</td>\n",
       "    </tr>\n",
       "  </tbody>\n",
       "</table>\n",
       "</div>"
      ],
      "text/plain": [
       "         date  hour  demand\n",
       "0  2018-08-18     9      91\n",
       "1  2018-08-18    10      21\n",
       "2  2018-08-18    13      23\n",
       "3  2018-08-18    14     104\n",
       "4  2018-08-18    15      81"
      ]
     },
     "execution_count": 102,
     "metadata": {},
     "output_type": "execute_result"
    }
   ],
   "source": [
    "train = pd.read_csv('train_E1GspfA.csv')\n",
    "train.head()"
   ]
  },
  {
   "cell_type": "code",
   "execution_count": 103,
   "id": "f214c8bf",
   "metadata": {},
   "outputs": [
    {
     "data": {
      "text/plain": [
       "(18247, 3)"
      ]
     },
     "execution_count": 103,
     "metadata": {},
     "output_type": "execute_result"
    }
   ],
   "source": [
    "train.shape"
   ]
  },
  {
   "cell_type": "code",
   "execution_count": 104,
   "id": "43b22819",
   "metadata": {},
   "outputs": [
    {
     "data": {
      "text/plain": [
       "date      0\n",
       "hour      0\n",
       "demand    0\n",
       "dtype: int64"
      ]
     },
     "execution_count": 104,
     "metadata": {},
     "output_type": "execute_result"
    }
   ],
   "source": [
    "train.isnull().sum()"
   ]
  },
  {
   "cell_type": "code",
   "execution_count": 105,
   "id": "ae0c54ce",
   "metadata": {},
   "outputs": [
    {
     "data": {
      "text/html": [
       "<div>\n",
       "<style scoped>\n",
       "    .dataframe tbody tr th:only-of-type {\n",
       "        vertical-align: middle;\n",
       "    }\n",
       "\n",
       "    .dataframe tbody tr th {\n",
       "        vertical-align: top;\n",
       "    }\n",
       "\n",
       "    .dataframe thead th {\n",
       "        text-align: right;\n",
       "    }\n",
       "</style>\n",
       "<table border=\"1\" class=\"dataframe\">\n",
       "  <thead>\n",
       "    <tr style=\"text-align: right;\">\n",
       "      <th></th>\n",
       "      <th>date</th>\n",
       "      <th>hour</th>\n",
       "    </tr>\n",
       "  </thead>\n",
       "  <tbody>\n",
       "    <tr>\n",
       "      <th>0</th>\n",
       "      <td>2021-03-01</td>\n",
       "      <td>0</td>\n",
       "    </tr>\n",
       "    <tr>\n",
       "      <th>1</th>\n",
       "      <td>2021-03-01</td>\n",
       "      <td>1</td>\n",
       "    </tr>\n",
       "    <tr>\n",
       "      <th>2</th>\n",
       "      <td>2021-03-01</td>\n",
       "      <td>2</td>\n",
       "    </tr>\n",
       "    <tr>\n",
       "      <th>3</th>\n",
       "      <td>2021-03-01</td>\n",
       "      <td>3</td>\n",
       "    </tr>\n",
       "    <tr>\n",
       "      <th>4</th>\n",
       "      <td>2021-03-01</td>\n",
       "      <td>5</td>\n",
       "    </tr>\n",
       "  </tbody>\n",
       "</table>\n",
       "</div>"
      ],
      "text/plain": [
       "         date  hour\n",
       "0  2021-03-01     0\n",
       "1  2021-03-01     1\n",
       "2  2021-03-01     2\n",
       "3  2021-03-01     3\n",
       "4  2021-03-01     5"
      ]
     },
     "execution_count": 105,
     "metadata": {},
     "output_type": "execute_result"
    }
   ],
   "source": [
    "test = pd.read_csv('test_6QvDdzb.csv')\n",
    "test.head()"
   ]
  },
  {
   "cell_type": "code",
   "execution_count": 106,
   "id": "aaf1a4c3",
   "metadata": {},
   "outputs": [
    {
     "data": {
      "text/plain": [
       "(7650, 2)"
      ]
     },
     "execution_count": 106,
     "metadata": {},
     "output_type": "execute_result"
    }
   ],
   "source": [
    "test.shape"
   ]
  },
  {
   "cell_type": "code",
   "execution_count": 107,
   "id": "338c37af",
   "metadata": {},
   "outputs": [
    {
     "data": {
      "text/plain": [
       "<AxesSubplot:>"
      ]
     },
     "execution_count": 107,
     "metadata": {},
     "output_type": "execute_result"
    },
    {
     "data": {
      "image/png": "[encoded data removed]",
      "text/plain": [
       "<Figure size 1080x360 with 1 Axes>"
      ]
     },
     "metadata": {
      "needs_background": "light"
     },
     "output_type": "display_data"
    }
   ],
   "source": [
    "train['demand'].plot(figsize = (15, 5))"
   ]
  },
  {
   "cell_type": "code",
   "execution_count": 108,
   "id": "648bfc08",
   "metadata": {},
   "outputs": [],
   "source": [
    "newtrain = train.copy()"
   ]
  },
  {
   "cell_type": "code",
   "execution_count": 109,
   "id": "81d05423",
   "metadata": {},
   "outputs": [],
   "source": [
    "newtest = test.copy()"
   ]
  },
  {
   "cell_type": "code",
   "execution_count": 110,
   "id": "2ecc1892",
   "metadata": {},
   "outputs": [],
   "source": [
    "newtrain['hour'] = newtrain['hour'].astype(str)"
   ]
  },
  {
   "cell_type": "code",
   "execution_count": 111,
   "id": "40d1bbf4",
   "metadata": {},
   "outputs": [],
   "source": [
    "newtrain['hour'] = newtrain['hour']+':00:00'"
   ]
  },
  {
   "cell_type": "code",
   "execution_count": 112,
   "id": "50bc374b",
   "metadata": {},
   "outputs": [],
   "source": [
    "newtrain['date'] = pd.to_datetime(newtrain['date'] + ' ' + newtrain['hour'])"
   ]
  },
  {
   "cell_type": "code",
   "execution_count": 113,
   "id": "419a6522",
   "metadata": {},
   "outputs": [],
   "source": [
    "newtest['hour'] = newtest['hour'].astype(str)"
   ]
  },
  {
   "cell_type": "code",
   "execution_count": 114,
   "id": "3d7667d9",
   "metadata": {},
   "outputs": [],
   "source": [
    "newtest['hour'] = newtest['hour']+':00:00'"
   ]
  },
  {
   "cell_type": "code",
   "execution_count": 115,
   "id": "43dbcce0",
   "metadata": {},
   "outputs": [],
   "source": [
    "newtest['date'] = pd.to_datetime(newtest['date'] + ' ' + newtest['hour'])"
   ]
  },
  {
   "cell_type": "code",
   "execution_count": 116,
   "id": "22226c83",
   "metadata": {},
   "outputs": [],
   "source": [
    "newtrain.index = newtrain['date']"
   ]
  },
  {
   "cell_type": "code",
   "execution_count": 117,
   "id": "35b84449",
   "metadata": {},
   "outputs": [],
   "source": [
    "newtrain = newtrain.drop(['date', 'hour'], axis = 1)"
   ]
  },
  {
   "cell_type": "code",
   "execution_count": 118,
   "id": "4ea0fa71",
   "metadata": {},
   "outputs": [
    {
     "data": {
      "text/html": [
       "<div>\n",
       "<style scoped>\n",
       "    .dataframe tbody tr th:only-of-type {\n",
       "        vertical-align: middle;\n",
       "    }\n",
       "\n",
       "    .dataframe tbody tr th {\n",
       "        vertical-align: top;\n",
       "    }\n",
       "\n",
       "    .dataframe thead th {\n",
       "        text-align: right;\n",
       "    }\n",
       "</style>\n",
       "<table border=\"1\" class=\"dataframe\">\n",
       "  <thead>\n",
       "    <tr style=\"text-align: right;\">\n",
       "      <th></th>\n",
       "      <th>demand</th>\n",
       "    </tr>\n",
       "    <tr>\n",
       "      <th>date</th>\n",
       "      <th></th>\n",
       "    </tr>\n",
       "  </thead>\n",
       "  <tbody>\n",
       "    <tr>\n",
       "      <th>2018-08-18 09:00:00</th>\n",
       "      <td>91</td>\n",
       "    </tr>\n",
       "    <tr>\n",
       "      <th>2018-08-18 10:00:00</th>\n",
       "      <td>21</td>\n",
       "    </tr>\n",
       "    <tr>\n",
       "      <th>2018-08-18 13:00:00</th>\n",
       "      <td>23</td>\n",
       "    </tr>\n",
       "    <tr>\n",
       "      <th>2018-08-18 14:00:00</th>\n",
       "      <td>104</td>\n",
       "    </tr>\n",
       "    <tr>\n",
       "      <th>2018-08-18 15:00:00</th>\n",
       "      <td>81</td>\n",
       "    </tr>\n",
       "  </tbody>\n",
       "</table>\n",
       "</div>"
      ],
      "text/plain": [
       "                     demand\n",
       "date                       \n",
       "2018-08-18 09:00:00      91\n",
       "2018-08-18 10:00:00      21\n",
       "2018-08-18 13:00:00      23\n",
       "2018-08-18 14:00:00     104\n",
       "2018-08-18 15:00:00      81"
      ]
     },
     "execution_count": 118,
     "metadata": {},
     "output_type": "execute_result"
    }
   ],
   "source": [
    "newtrain.head()"
   ]
  },
  {
   "cell_type": "code",
   "execution_count": 119,
   "id": "c42d694b",
   "metadata": {},
   "outputs": [
    {
     "data": {
      "text/html": [
       "<div>\n",
       "<style scoped>\n",
       "    .dataframe tbody tr th:only-of-type {\n",
       "        vertical-align: middle;\n",
       "    }\n",
       "\n",
       "    .dataframe tbody tr th {\n",
       "        vertical-align: top;\n",
       "    }\n",
       "\n",
       "    .dataframe thead th {\n",
       "        text-align: right;\n",
       "    }\n",
       "</style>\n",
       "<table border=\"1\" class=\"dataframe\">\n",
       "  <thead>\n",
       "    <tr style=\"text-align: right;\">\n",
       "      <th></th>\n",
       "    </tr>\n",
       "    <tr>\n",
       "      <th>date</th>\n",
       "    </tr>\n",
       "  </thead>\n",
       "  <tbody>\n",
       "    <tr>\n",
       "      <th>2021-03-01 00:00:00</th>\n",
       "    </tr>\n",
       "    <tr>\n",
       "      <th>2021-03-01 01:00:00</th>\n",
       "    </tr>\n",
       "    <tr>\n",
       "      <th>2021-03-01 02:00:00</th>\n",
       "    </tr>\n",
       "    <tr>\n",
       "      <th>2021-03-01 03:00:00</th>\n",
       "    </tr>\n",
       "    <tr>\n",
       "      <th>2021-03-01 05:00:00</th>\n",
       "    </tr>\n",
       "  </tbody>\n",
       "</table>\n",
       "</div>"
      ],
      "text/plain": [
       "Empty DataFrame\n",
       "Columns: []\n",
       "Index: [2021-03-01 00:00:00, 2021-03-01 01:00:00, 2021-03-01 02:00:00, 2021-03-01 03:00:00, 2021-03-01 05:00:00]"
      ]
     },
     "execution_count": 119,
     "metadata": {},
     "output_type": "execute_result"
    }
   ],
   "source": [
    "newtest.index = newtest['date']\n",
    "newtest = newtest.drop(['date', 'hour'], axis = 1)\n",
    "newtest.head()"
   ]
  },
  {
   "cell_type": "code",
   "execution_count": 120,
   "id": "b70bea57",
   "metadata": {},
   "outputs": [
    {
     "data": {
      "text/plain": [
       "912.35"
      ]
     },
     "execution_count": 120,
     "metadata": {},
     "output_type": "execute_result"
    }
   ],
   "source": [
    "18247/20"
   ]
  },
  {
   "cell_type": "code",
   "execution_count": 121,
   "id": "c4cfc6a6",
   "metadata": {},
   "outputs": [
    {
     "data": {
      "text/plain": [
       "17335"
      ]
     },
     "execution_count": 121,
     "metadata": {},
     "output_type": "execute_result"
    }
   ],
   "source": [
    "18247-912"
   ]
  },
  {
   "cell_type": "code",
   "execution_count": 122,
   "id": "1d95f7ed",
   "metadata": {},
   "outputs": [],
   "source": [
    "train1 = newtrain.iloc[0:17335, :]\n",
    "test1 = newtrain.iloc[17335: , :]"
   ]
  },
  {
   "cell_type": "code",
   "execution_count": 123,
   "id": "82ceb5cd",
   "metadata": {},
   "outputs": [
    {
     "data": {
      "image/png": "[encoded data removed]",
      "text/plain": [
       "<Figure size 432x288 with 1 Axes>"
      ]
     },
     "metadata": {
      "needs_background": "light"
     },
     "output_type": "display_data"
    }
   ],
   "source": [
    "plt.plot(train1, color = \"black\")\n",
    "plt.plot(test1, color = \"red\")\n",
    "plt.ylabel('Demand')\n",
    "plt.xlabel('Date')\n",
    "plt.xticks(rotation=45)\n",
    "plt.title(\"Train/Test split\")\n",
    "plt.show()"
   ]
  },
  {
   "cell_type": "code",
   "execution_count": 124,
   "id": "919a2388",
   "metadata": {},
   "outputs": [],
   "source": [
    "y = train1['demand']"
   ]
  },
  {
   "cell_type": "code",
   "execution_count": 125,
   "id": "2e75438c",
   "metadata": {},
   "outputs": [
    {
     "name": "stderr",
     "output_type": "stream",
     "text": [
      "D:\\E\\DataScientist\\ANACONDA\\lib\\site-packages\\statsmodels\\tsa\\base\\tsa_model.py:581: ValueWarning: A date index has been provided, but it has no associated frequency information and so will be ignored when e.g. forecasting.\n",
      "  warnings.warn('A date index has been provided, but it has no'\n",
      "D:\\E\\DataScientist\\ANACONDA\\lib\\site-packages\\statsmodels\\tsa\\base\\tsa_model.py:581: ValueWarning: A date index has been provided, but it has no associated frequency information and so will be ignored when e.g. forecasting.\n",
      "  warnings.warn('A date index has been provided, but it has no'\n",
      "D:\\E\\DataScientist\\ANACONDA\\lib\\site-packages\\statsmodels\\tsa\\base\\tsa_model.py:581: ValueWarning: A date index has been provided, but it has no associated frequency information and so will be ignored when e.g. forecasting.\n",
      "  warnings.warn('A date index has been provided, but it has no'\n"
     ]
    }
   ],
   "source": [
    "ARIMAmodel = ARIMA(y, order = (2, 2, 2))"
   ]
  },
  {
   "cell_type": "code",
   "execution_count": 126,
   "id": "6b250a38",
   "metadata": {},
   "outputs": [],
   "source": [
    "ARIMAmodel = ARIMAmodel.fit()"
   ]
  },
  {
   "cell_type": "code",
   "execution_count": 127,
   "id": "4c035f11",
   "metadata": {},
   "outputs": [
    {
     "name": "stderr",
     "output_type": "stream",
     "text": [
      "D:\\E\\DataScientist\\ANACONDA\\lib\\site-packages\\statsmodels\\tsa\\base\\tsa_model.py:376: ValueWarning: No supported index is available. Prediction results will be given with an integer index beginning at `start`.\n",
      "  warnings.warn('No supported index is available.'\n",
      "D:\\E\\DataScientist\\ANACONDA\\lib\\site-packages\\statsmodels\\tsa\\base\\tsa_model.py:376: ValueWarning: No supported index is available. Prediction results will be given with an integer index beginning at `start`.\n",
      "  warnings.warn('No supported index is available.'\n"
     ]
    }
   ],
   "source": [
    "y_pred = ARIMAmodel.get_forecast(len(test1.index))\n",
    "y_pred_df = y_pred.conf_int(alpha = 0.05) \n",
    "y_pred_df[\"Predictions\"] = ARIMAmodel.predict(start = y_pred_df.index[0], end = y_pred_df.index[-1])\n",
    "y_pred_df.index = test1.index\n",
    "y_pred_out = y_pred_df[\"Predictions\"] "
   ]
  },
  {
   "cell_type": "code",
   "execution_count": 128,
   "id": "a61a2cde",
   "metadata": {},
   "outputs": [
    {
     "name": "stdout",
     "output_type": "stream",
     "text": [
      "RMSE:  39.008657330748854\n"
     ]
    }
   ],
   "source": [
    "from sklearn.metrics import mean_squared_error\n",
    "arma_rmse = np.sqrt(mean_squared_error(test1[\"demand\"].values, y_pred_df[\"Predictions\"]))\n",
    "print(\"RMSE: \",arma_rmse)"
   ]
  },
  {
   "cell_type": "code",
   "execution_count": 129,
   "id": "1f297fe4",
   "metadata": {},
   "outputs": [],
   "source": [
    "from statsmodels.tsa.arima.model import ARIMA"
   ]
  },
  {
   "cell_type": "code",
   "execution_count": 133,
   "id": "8a00519e",
   "metadata": {},
   "outputs": [],
   "source": [
    "x_train = newtrain\n",
    "x_test = newtest"
   ]
  },
  {
   "cell_type": "code",
   "execution_count": 134,
   "id": "dd20a28f",
   "metadata": {},
   "outputs": [],
   "source": [
    "from statsmodels.tsa.arima.model import ARIMA"
   ]
  },
  {
   "cell_type": "code",
   "execution_count": 135,
   "id": "599631bb",
   "metadata": {},
   "outputs": [
    {
     "name": "stderr",
     "output_type": "stream",
     "text": [
      "D:\\E\\DataScientist\\ANACONDA\\lib\\site-packages\\statsmodels\\tsa\\base\\tsa_model.py:581: ValueWarning: A date index has been provided, but it has no associated frequency information and so will be ignored when e.g. forecasting.\n",
      "  warnings.warn('A date index has been provided, but it has no'\n",
      "D:\\E\\DataScientist\\ANACONDA\\lib\\site-packages\\statsmodels\\tsa\\base\\tsa_model.py:581: ValueWarning: A date index has been provided, but it has no associated frequency information and so will be ignored when e.g. forecasting.\n",
      "  warnings.warn('A date index has been provided, but it has no'\n",
      "D:\\E\\DataScientist\\ANACONDA\\lib\\site-packages\\statsmodels\\tsa\\base\\tsa_model.py:581: ValueWarning: A date index has been provided, but it has no associated frequency information and so will be ignored when e.g. forecasting.\n",
      "  warnings.warn('A date index has been provided, but it has no'\n"
     ]
    }
   ],
   "source": [
    "ARIMAmodel = ARIMA(y, order = (2, 2, 2))\n",
    "ARIMAmodel = ARIMAmodel.fit()"
   ]
  },
  {
   "cell_type": "code",
   "execution_count": 136,
   "id": "505213f5",
   "metadata": {},
   "outputs": [
    {
     "name": "stderr",
     "output_type": "stream",
     "text": [
      "D:\\E\\DataScientist\\ANACONDA\\lib\\site-packages\\statsmodels\\tsa\\base\\tsa_model.py:376: ValueWarning: No supported index is available. Prediction results will be given with an integer index beginning at `start`.\n",
      "  warnings.warn('No supported index is available.'\n",
      "D:\\E\\DataScientist\\ANACONDA\\lib\\site-packages\\statsmodels\\tsa\\base\\tsa_model.py:376: ValueWarning: No supported index is available. Prediction results will be given with an integer index beginning at `start`.\n",
      "  warnings.warn('No supported index is available.'\n"
     ]
    }
   ],
   "source": [
    "y_pred = ARIMAmodel.get_forecast(len(newtest.index))\n",
    "y_pred_df = y_pred.conf_int(alpha = 0.05) \n",
    "y_pred_df[\"Predictions\"] = ARIMAmodel.predict(start = y_pred_df.index[0], end = y_pred_df.index[-1])\n",
    "y_pred_df.index = newtest.index\n",
    "y_pred_out = y_pred_df[\"Predictions\"] "
   ]
  },
  {
   "cell_type": "code",
   "execution_count": 137,
   "id": "a545559c",
   "metadata": {},
   "outputs": [],
   "source": [
    "a = y_pred_out.reset_index()"
   ]
  },
  {
   "cell_type": "code",
   "execution_count": 138,
   "id": "391f8348",
   "metadata": {},
   "outputs": [],
   "source": [
    "solution = pd.DataFrame({'date' : test.date, 'hour' : test.hour, 'demand' : a['Predictions']})\n",
    "solution.to_csv('Solution.csv', index = False)"
   ]
  },
  {
   "cell_type": "code",
   "execution_count": null,
   "id": "c860b3ad",
   "metadata": {},
   "outputs": [],
   "source": []
  }
 ],
 "metadata": {
  "kernelspec": {
   "display_name": "Python 3 (ipykernel)",
   "language": "python",
   "name": "python3"
  },
  "language_info": {
   "codemirror_mode": {
    "name": "ipython",
    "version": 3
   },
   "file_extension": ".py",
   "mimetype": "text/x-python",
   "name": "python",
   "nbconvert_exporter": "python",
   "pygments_lexer": "ipython3",
   "version": "3.9.7"
  }
 },
 "nbformat": 4,
 "nbformat_minor": 5
}
