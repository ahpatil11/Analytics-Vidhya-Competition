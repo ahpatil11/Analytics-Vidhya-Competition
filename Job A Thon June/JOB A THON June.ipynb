{
 "cells": [
  {
   "cell_type": "code",
   "execution_count": 146,
   "id": "767fbd7b",
   "metadata": {},
   "outputs": [],
   "source": [
    "import numpy as np\n",
    "import pandas as pd\n",
    "import matplotlib.pyplot as plt\n",
    "import seaborn as sns"
   ]
  },
  {
   "cell_type": "code",
   "execution_count": 147,
   "id": "d8f6cb57",
   "metadata": {},
   "outputs": [
    {
     "data": {
      "text/html": [
       "<div>\n",
       "<style scoped>\n",
       "    .dataframe tbody tr th:only-of-type {\n",
       "        vertical-align: middle;\n",
       "    }\n",
       "\n",
       "    .dataframe tbody tr th {\n",
       "        vertical-align: top;\n",
       "    }\n",
       "\n",
       "    .dataframe thead th {\n",
       "        text-align: right;\n",
       "    }\n",
       "</style>\n",
       "<table border=\"1\" class=\"dataframe\">\n",
       "  <thead>\n",
       "    <tr style=\"text-align: right;\">\n",
       "      <th></th>\n",
       "      <th>UserID</th>\n",
       "      <th>Signup Date</th>\n",
       "      <th>User Segment</th>\n",
       "    </tr>\n",
       "  </thead>\n",
       "  <tbody>\n",
       "    <tr>\n",
       "      <th>0</th>\n",
       "      <td>U133159</td>\n",
       "      <td>2018-04-14 07:01:16.202607+00:00</td>\n",
       "      <td>C</td>\n",
       "    </tr>\n",
       "    <tr>\n",
       "      <th>1</th>\n",
       "      <td>U129368</td>\n",
       "      <td>2017-12-02 09:38:41.584270+00:00</td>\n",
       "      <td>B</td>\n",
       "    </tr>\n",
       "    <tr>\n",
       "      <th>2</th>\n",
       "      <td>U109654</td>\n",
       "      <td>2013-03-19 11:38:55+00:00</td>\n",
       "      <td>B</td>\n",
       "    </tr>\n",
       "    <tr>\n",
       "      <th>3</th>\n",
       "      <td>U108998</td>\n",
       "      <td>2018-01-18 08:29:51.627954+00:00</td>\n",
       "      <td>C</td>\n",
       "    </tr>\n",
       "    <tr>\n",
       "      <th>4</th>\n",
       "      <td>U131393</td>\n",
       "      <td>2018-03-27 08:05:28.806800+00:00</td>\n",
       "      <td>B</td>\n",
       "    </tr>\n",
       "  </tbody>\n",
       "</table>\n",
       "</div>"
      ],
      "text/plain": [
       "    UserID                       Signup Date User Segment\n",
       "0  U133159  2018-04-14 07:01:16.202607+00:00            C\n",
       "1  U129368  2017-12-02 09:38:41.584270+00:00            B\n",
       "2  U109654         2013-03-19 11:38:55+00:00            B\n",
       "3  U108998  2018-01-18 08:29:51.627954+00:00            C\n",
       "4  U131393  2018-03-27 08:05:28.806800+00:00            B"
      ]
     },
     "execution_count": 147,
     "metadata": {},
     "output_type": "execute_result"
    }
   ],
   "source": [
    "usertable = pd.read_csv('userTable.csv')\n",
    "usertable.head()"
   ]
  },
  {
   "cell_type": "code",
   "execution_count": 148,
   "id": "0b9e3f2c",
   "metadata": {},
   "outputs": [
    {
     "data": {
      "text/plain": [
       "(34050, 3)"
      ]
     },
     "execution_count": 148,
     "metadata": {},
     "output_type": "execute_result"
    }
   ],
   "source": [
    "usertable.shape"
   ]
  },
  {
   "cell_type": "markdown",
   "id": "1f59527c",
   "metadata": {},
   "source": [
    "----------"
   ]
  },
  {
   "cell_type": "code",
   "execution_count": 149,
   "id": "dd3d0d80",
   "metadata": {},
   "outputs": [
    {
     "data": {
      "text/html": [
       "<div>\n",
       "<style scoped>\n",
       "    .dataframe tbody tr th:only-of-type {\n",
       "        vertical-align: middle;\n",
       "    }\n",
       "\n",
       "    .dataframe tbody tr th {\n",
       "        vertical-align: top;\n",
       "    }\n",
       "\n",
       "    .dataframe thead th {\n",
       "        text-align: right;\n",
       "    }\n",
       "</style>\n",
       "<table border=\"1\" class=\"dataframe\">\n",
       "  <thead>\n",
       "    <tr style=\"text-align: right;\">\n",
       "      <th></th>\n",
       "      <th>webClientID</th>\n",
       "      <th>VisitDateTime</th>\n",
       "      <th>ProductID</th>\n",
       "      <th>UserID</th>\n",
       "      <th>Activity</th>\n",
       "      <th>Browser</th>\n",
       "      <th>OS</th>\n",
       "      <th>City</th>\n",
       "      <th>Country</th>\n",
       "    </tr>\n",
       "  </thead>\n",
       "  <tbody>\n",
       "    <tr>\n",
       "      <th>0</th>\n",
       "      <td>WI10000050298</td>\n",
       "      <td>2018-05-07 04:28:45.970</td>\n",
       "      <td>pr100631</td>\n",
       "      <td>NaN</td>\n",
       "      <td>NaN</td>\n",
       "      <td>Chrome Mobile</td>\n",
       "      <td>Android</td>\n",
       "      <td>Chennai</td>\n",
       "      <td>India</td>\n",
       "    </tr>\n",
       "    <tr>\n",
       "      <th>1</th>\n",
       "      <td>WI10000025922</td>\n",
       "      <td>2018-05-13 07:26:04.964</td>\n",
       "      <td>pr100707</td>\n",
       "      <td>NaN</td>\n",
       "      <td>NaN</td>\n",
       "      <td>Chrome</td>\n",
       "      <td>Windows</td>\n",
       "      <td>NaN</td>\n",
       "      <td>Taiwan</td>\n",
       "    </tr>\n",
       "    <tr>\n",
       "      <th>2</th>\n",
       "      <td>WI100000204522</td>\n",
       "      <td>2018-05-11 11:43:42.832</td>\n",
       "      <td>pr100030</td>\n",
       "      <td>NaN</td>\n",
       "      <td>click</td>\n",
       "      <td>Chrome</td>\n",
       "      <td>windows</td>\n",
       "      <td>Gurgaon</td>\n",
       "      <td>India</td>\n",
       "    </tr>\n",
       "    <tr>\n",
       "      <th>3</th>\n",
       "      <td>WI10000011974</td>\n",
       "      <td>2018-05-13 15:20:23.436</td>\n",
       "      <td>Pr100192</td>\n",
       "      <td>NaN</td>\n",
       "      <td>CLICK</td>\n",
       "      <td>Chrome</td>\n",
       "      <td>Windows</td>\n",
       "      <td></td>\n",
       "      <td></td>\n",
       "    </tr>\n",
       "    <tr>\n",
       "      <th>4</th>\n",
       "      <td>WI100000441953</td>\n",
       "      <td>2018-05-08 20:44:25.238</td>\n",
       "      <td>Pr100762</td>\n",
       "      <td>NaN</td>\n",
       "      <td>click</td>\n",
       "      <td>Chrome</td>\n",
       "      <td>mac os x</td>\n",
       "      <td>Iselin</td>\n",
       "      <td>United States</td>\n",
       "    </tr>\n",
       "  </tbody>\n",
       "</table>\n",
       "</div>"
      ],
      "text/plain": [
       "      webClientID            VisitDateTime ProductID UserID Activity  \\\n",
       "0   WI10000050298  2018-05-07 04:28:45.970  pr100631    NaN      NaN   \n",
       "1   WI10000025922  2018-05-13 07:26:04.964  pr100707    NaN      NaN   \n",
       "2  WI100000204522  2018-05-11 11:43:42.832  pr100030    NaN    click   \n",
       "3   WI10000011974  2018-05-13 15:20:23.436  Pr100192    NaN    CLICK   \n",
       "4  WI100000441953  2018-05-08 20:44:25.238  Pr100762    NaN    click   \n",
       "\n",
       "         Browser        OS     City        Country  \n",
       "0  Chrome Mobile   Android  Chennai          India  \n",
       "1         Chrome   Windows      NaN         Taiwan  \n",
       "2         Chrome   windows  Gurgaon          India  \n",
       "3         Chrome   Windows                          \n",
       "4         Chrome  mac os x   Iselin  United States  "
      ]
     },
     "execution_count": 149,
     "metadata": {},
     "output_type": "execute_result"
    }
   ],
   "source": [
    "visitorlogs = pd.read_csv('VisitorLogsData.csv')\n",
    "visitorlogs.head()"
   ]
  },
  {
   "cell_type": "code",
   "execution_count": 150,
   "id": "e3daff4a",
   "metadata": {},
   "outputs": [
    {
     "data": {
      "text/plain": [
       "(6588000, 9)"
      ]
     },
     "execution_count": 150,
     "metadata": {},
     "output_type": "execute_result"
    }
   ],
   "source": [
    "visitorlogs.shape"
   ]
  },
  {
   "cell_type": "code",
   "execution_count": 151,
   "id": "6dd93ca7",
   "metadata": {},
   "outputs": [
    {
     "data": {
      "text/html": [
       "<div>\n",
       "<style scoped>\n",
       "    .dataframe tbody tr th:only-of-type {\n",
       "        vertical-align: middle;\n",
       "    }\n",
       "\n",
       "    .dataframe tbody tr th {\n",
       "        vertical-align: top;\n",
       "    }\n",
       "\n",
       "    .dataframe thead th {\n",
       "        text-align: right;\n",
       "    }\n",
       "</style>\n",
       "<table border=\"1\" class=\"dataframe\">\n",
       "  <thead>\n",
       "    <tr style=\"text-align: right;\">\n",
       "      <th></th>\n",
       "      <th>UserID</th>\n",
       "      <th>No_of_days_Visited_7_Days</th>\n",
       "      <th>No_Of_Products_Viewed_15_Days</th>\n",
       "      <th>User_Vintage</th>\n",
       "      <th>Most_Viewed_product_15_Days</th>\n",
       "      <th>Most_Active_OS</th>\n",
       "      <th>Recently_Viewed_Product</th>\n",
       "      <th>Pageloads_last_7_days</th>\n",
       "      <th>Clicks_last_7_days</th>\n",
       "    </tr>\n",
       "  </thead>\n",
       "  <tbody>\n",
       "    <tr>\n",
       "      <th>0</th>\n",
       "      <td>U100002</td>\n",
       "      <td>1</td>\n",
       "      <td>1</td>\n",
       "      <td>1</td>\n",
       "      <td>P12345</td>\n",
       "      <td>OS12345</td>\n",
       "      <td>P12345</td>\n",
       "      <td>1</td>\n",
       "      <td>1</td>\n",
       "    </tr>\n",
       "    <tr>\n",
       "      <th>1</th>\n",
       "      <td>U100003</td>\n",
       "      <td>1</td>\n",
       "      <td>1</td>\n",
       "      <td>1</td>\n",
       "      <td>P12345</td>\n",
       "      <td>OS12345</td>\n",
       "      <td>P12345</td>\n",
       "      <td>1</td>\n",
       "      <td>1</td>\n",
       "    </tr>\n",
       "    <tr>\n",
       "      <th>2</th>\n",
       "      <td>U100004</td>\n",
       "      <td>1</td>\n",
       "      <td>1</td>\n",
       "      <td>1</td>\n",
       "      <td>P12345</td>\n",
       "      <td>OS12345</td>\n",
       "      <td>P12345</td>\n",
       "      <td>1</td>\n",
       "      <td>1</td>\n",
       "    </tr>\n",
       "    <tr>\n",
       "      <th>3</th>\n",
       "      <td>U100005</td>\n",
       "      <td>1</td>\n",
       "      <td>1</td>\n",
       "      <td>1</td>\n",
       "      <td>P12345</td>\n",
       "      <td>OS12345</td>\n",
       "      <td>P12345</td>\n",
       "      <td>1</td>\n",
       "      <td>1</td>\n",
       "    </tr>\n",
       "    <tr>\n",
       "      <th>4</th>\n",
       "      <td>U100006</td>\n",
       "      <td>1</td>\n",
       "      <td>1</td>\n",
       "      <td>1</td>\n",
       "      <td>P12345</td>\n",
       "      <td>OS12345</td>\n",
       "      <td>P12345</td>\n",
       "      <td>1</td>\n",
       "      <td>1</td>\n",
       "    </tr>\n",
       "  </tbody>\n",
       "</table>\n",
       "</div>"
      ],
      "text/plain": [
       "    UserID  No_of_days_Visited_7_Days  No_Of_Products_Viewed_15_Days  \\\n",
       "0  U100002                          1                              1   \n",
       "1  U100003                          1                              1   \n",
       "2  U100004                          1                              1   \n",
       "3  U100005                          1                              1   \n",
       "4  U100006                          1                              1   \n",
       "\n",
       "   User_Vintage Most_Viewed_product_15_Days Most_Active_OS  \\\n",
       "0             1                      P12345        OS12345   \n",
       "1             1                      P12345        OS12345   \n",
       "2             1                      P12345        OS12345   \n",
       "3             1                      P12345        OS12345   \n",
       "4             1                      P12345        OS12345   \n",
       "\n",
       "  Recently_Viewed_Product  Pageloads_last_7_days  Clicks_last_7_days  \n",
       "0                  P12345                      1                   1  \n",
       "1                  P12345                      1                   1  \n",
       "2                  P12345                      1                   1  \n",
       "3                  P12345                      1                   1  \n",
       "4                  P12345                      1                   1  "
      ]
     },
     "execution_count": 151,
     "metadata": {},
     "output_type": "execute_result"
    }
   ],
   "source": [
    "submission = pd.read_csv('sample_submission_M7Vpb9f.csv')\n",
    "submission.head()"
   ]
  },
  {
   "cell_type": "code",
   "execution_count": 152,
   "id": "2e45adc6",
   "metadata": {},
   "outputs": [
    {
     "data": {
      "text/plain": [
       "(34050, 9)"
      ]
     },
     "execution_count": 152,
     "metadata": {},
     "output_type": "execute_result"
    }
   ],
   "source": [
    "submission.shape"
   ]
  },
  {
   "cell_type": "code",
   "execution_count": 153,
   "id": "b23f723f",
   "metadata": {},
   "outputs": [
    {
     "data": {
      "text/plain": [
       "5482669"
      ]
     },
     "execution_count": 153,
     "metadata": {},
     "output_type": "execute_result"
    }
   ],
   "source": [
    "visitorlogs['VisitDateTime'].nunique()"
   ]
  },
  {
   "cell_type": "code",
   "execution_count": 154,
   "id": "34e314d8",
   "metadata": {},
   "outputs": [
    {
     "name": "stdout",
     "output_type": "stream",
     "text": [
      "<class 'pandas.core.frame.DataFrame'>\n",
      "RangeIndex: 6588000 entries, 0 to 6587999\n",
      "Data columns (total 9 columns):\n",
      " #   Column         Dtype \n",
      "---  ------         ----- \n",
      " 0   webClientID    object\n",
      " 1   VisitDateTime  object\n",
      " 2   ProductID      object\n",
      " 3   UserID         object\n",
      " 4   Activity       object\n",
      " 5   Browser        object\n",
      " 6   OS             object\n",
      " 7   City           object\n",
      " 8   Country        object\n",
      "dtypes: object(9)\n",
      "memory usage: 452.4+ MB\n"
     ]
    }
   ],
   "source": [
    "visitorlogs.info()"
   ]
  },
  {
   "cell_type": "code",
   "execution_count": 155,
   "id": "a88ffad8",
   "metadata": {},
   "outputs": [
    {
     "data": {
      "text/plain": [
       "webClientID            0\n",
       "VisitDateTime     658915\n",
       "ProductID         527137\n",
       "UserID           5937305\n",
       "Activity          889446\n",
       "Browser                0\n",
       "OS                     0\n",
       "City             2165831\n",
       "Country           397693\n",
       "dtype: int64"
      ]
     },
     "execution_count": 155,
     "metadata": {},
     "output_type": "execute_result"
    }
   ],
   "source": [
    "visitorlogs.isnull().sum()"
   ]
  },
  {
   "cell_type": "code",
   "execution_count": 156,
   "id": "c63c4d24",
   "metadata": {},
   "outputs": [],
   "source": [
    "visitorlogs['VisitDateTime'] = visitorlogs['VisitDateTime'].fillna(visitorlogs['VisitDateTime'].value_counts().index[0])"
   ]
  },
  {
   "cell_type": "code",
   "execution_count": 157,
   "id": "e91f291e",
   "metadata": {},
   "outputs": [],
   "source": [
    "visitorlogs['VisitDateTime'] = visitorlogs['VisitDateTime'].str[:10]"
   ]
  },
  {
   "cell_type": "code",
   "execution_count": 158,
   "id": "4338a899",
   "metadata": {},
   "outputs": [
    {
     "data": {
      "text/plain": [
       "webClientID            0\n",
       "VisitDateTime          0\n",
       "ProductID         527137\n",
       "UserID           5937305\n",
       "Activity          889446\n",
       "Browser                0\n",
       "OS                     0\n",
       "City             2165831\n",
       "Country           397693\n",
       "dtype: int64"
      ]
     },
     "execution_count": 158,
     "metadata": {},
     "output_type": "execute_result"
    }
   ],
   "source": [
    "visitorlogs.isnull().sum()"
   ]
  },
  {
   "cell_type": "code",
   "execution_count": 159,
   "id": "4fd28179",
   "metadata": {},
   "outputs": [
    {
     "data": {
      "text/html": [
       "<div>\n",
       "<style scoped>\n",
       "    .dataframe tbody tr th:only-of-type {\n",
       "        vertical-align: middle;\n",
       "    }\n",
       "\n",
       "    .dataframe tbody tr th {\n",
       "        vertical-align: top;\n",
       "    }\n",
       "\n",
       "    .dataframe thead th {\n",
       "        text-align: right;\n",
       "    }\n",
       "</style>\n",
       "<table border=\"1\" class=\"dataframe\">\n",
       "  <thead>\n",
       "    <tr style=\"text-align: right;\">\n",
       "      <th></th>\n",
       "      <th>webClientID</th>\n",
       "      <th>VisitDateTime</th>\n",
       "      <th>ProductID</th>\n",
       "      <th>UserID</th>\n",
       "      <th>Activity</th>\n",
       "      <th>Browser</th>\n",
       "      <th>OS</th>\n",
       "      <th>City</th>\n",
       "      <th>Country</th>\n",
       "    </tr>\n",
       "  </thead>\n",
       "  <tbody>\n",
       "    <tr>\n",
       "      <th>13</th>\n",
       "      <td>WI10000021996</td>\n",
       "      <td>1527051855</td>\n",
       "      <td>Pr100526</td>\n",
       "      <td>NaN</td>\n",
       "      <td>NaN</td>\n",
       "      <td>Chrome</td>\n",
       "      <td>Mac OS X</td>\n",
       "      <td>Escondido</td>\n",
       "      <td>United States Escondido</td>\n",
       "    </tr>\n",
       "    <tr>\n",
       "      <th>14</th>\n",
       "      <td>WI100000112772</td>\n",
       "      <td>1526366895</td>\n",
       "      <td>Pr100017</td>\n",
       "      <td>U106593</td>\n",
       "      <td>click</td>\n",
       "      <td>Chrome Mobile</td>\n",
       "      <td>Android</td>\n",
       "      <td></td>\n",
       "      <td></td>\n",
       "    </tr>\n",
       "    <tr>\n",
       "      <th>17</th>\n",
       "      <td>WI100000199021</td>\n",
       "      <td>1526982800</td>\n",
       "      <td>Pr100681</td>\n",
       "      <td>NaN</td>\n",
       "      <td>click</td>\n",
       "      <td>Chrome</td>\n",
       "      <td>Windows</td>\n",
       "      <td>NaN</td>\n",
       "      <td>India</td>\n",
       "    </tr>\n",
       "    <tr>\n",
       "      <th>21</th>\n",
       "      <td>WI1000009977</td>\n",
       "      <td>1527058921</td>\n",
       "      <td>Pr101008</td>\n",
       "      <td>U108297</td>\n",
       "      <td>NaN</td>\n",
       "      <td>Chrome Mobile</td>\n",
       "      <td>Android</td>\n",
       "      <td>Delhi</td>\n",
       "      <td>India</td>\n",
       "    </tr>\n",
       "    <tr>\n",
       "      <th>28</th>\n",
       "      <td>WI10000051567</td>\n",
       "      <td>1527006131</td>\n",
       "      <td>Pr100558</td>\n",
       "      <td>NaN</td>\n",
       "      <td>NaN</td>\n",
       "      <td>Chrome Mobile</td>\n",
       "      <td>android</td>\n",
       "      <td>NaN</td>\n",
       "      <td>India</td>\n",
       "    </tr>\n",
       "  </tbody>\n",
       "</table>\n",
       "</div>"
      ],
      "text/plain": [
       "       webClientID VisitDateTime ProductID   UserID Activity        Browser  \\\n",
       "13   WI10000021996    1527051855  Pr100526      NaN      NaN         Chrome   \n",
       "14  WI100000112772    1526366895  Pr100017  U106593    click  Chrome Mobile   \n",
       "17  WI100000199021    1526982800  Pr100681      NaN    click         Chrome   \n",
       "21    WI1000009977    1527058921  Pr101008  U108297      NaN  Chrome Mobile   \n",
       "28   WI10000051567    1527006131  Pr100558      NaN      NaN  Chrome Mobile   \n",
       "\n",
       "          OS       City                  Country  \n",
       "13  Mac OS X  Escondido  United States Escondido  \n",
       "14   Android                                      \n",
       "17   Windows        NaN                    India  \n",
       "21   Android      Delhi                    India  \n",
       "28   android        NaN                    India  "
      ]
     },
     "execution_count": 159,
     "metadata": {},
     "output_type": "execute_result"
    }
   ],
   "source": [
    "df = visitorlogs[~visitorlogs['VisitDateTime'].str.contains('-')]\n",
    "df.head()"
   ]
  },
  {
   "cell_type": "code",
   "execution_count": 160,
   "id": "71d0b484",
   "metadata": {},
   "outputs": [
    {
     "name": "stderr",
     "output_type": "stream",
     "text": [
      "<ipython-input-160-77d362c10ea8>:1: SettingWithCopyWarning: \n",
      "A value is trying to be set on a copy of a slice from a DataFrame.\n",
      "Try using .loc[row_indexer,col_indexer] = value instead\n",
      "\n",
      "See the caveats in the documentation: https://pandas.pydata.org/pandas-docs/stable/user_guide/indexing.html#returning-a-view-versus-a-copy\n",
      "  df['VisitDateTime'] = pd.to_datetime(df['VisitDateTime'], unit = 's')\n"
     ]
    },
    {
     "data": {
      "text/html": [
       "<div>\n",
       "<style scoped>\n",
       "    .dataframe tbody tr th:only-of-type {\n",
       "        vertical-align: middle;\n",
       "    }\n",
       "\n",
       "    .dataframe tbody tr th {\n",
       "        vertical-align: top;\n",
       "    }\n",
       "\n",
       "    .dataframe thead th {\n",
       "        text-align: right;\n",
       "    }\n",
       "</style>\n",
       "<table border=\"1\" class=\"dataframe\">\n",
       "  <thead>\n",
       "    <tr style=\"text-align: right;\">\n",
       "      <th></th>\n",
       "      <th>webClientID</th>\n",
       "      <th>VisitDateTime</th>\n",
       "      <th>ProductID</th>\n",
       "      <th>UserID</th>\n",
       "      <th>Activity</th>\n",
       "      <th>Browser</th>\n",
       "      <th>OS</th>\n",
       "      <th>City</th>\n",
       "      <th>Country</th>\n",
       "    </tr>\n",
       "  </thead>\n",
       "  <tbody>\n",
       "    <tr>\n",
       "      <th>13</th>\n",
       "      <td>WI10000021996</td>\n",
       "      <td>2018-05-23 05:04:15</td>\n",
       "      <td>Pr100526</td>\n",
       "      <td>NaN</td>\n",
       "      <td>NaN</td>\n",
       "      <td>Chrome</td>\n",
       "      <td>Mac OS X</td>\n",
       "      <td>Escondido</td>\n",
       "      <td>United States Escondido</td>\n",
       "    </tr>\n",
       "    <tr>\n",
       "      <th>14</th>\n",
       "      <td>WI100000112772</td>\n",
       "      <td>2018-05-15 06:48:15</td>\n",
       "      <td>Pr100017</td>\n",
       "      <td>U106593</td>\n",
       "      <td>click</td>\n",
       "      <td>Chrome Mobile</td>\n",
       "      <td>Android</td>\n",
       "      <td></td>\n",
       "      <td></td>\n",
       "    </tr>\n",
       "    <tr>\n",
       "      <th>17</th>\n",
       "      <td>WI100000199021</td>\n",
       "      <td>2018-05-22 09:53:20</td>\n",
       "      <td>Pr100681</td>\n",
       "      <td>NaN</td>\n",
       "      <td>click</td>\n",
       "      <td>Chrome</td>\n",
       "      <td>Windows</td>\n",
       "      <td>NaN</td>\n",
       "      <td>India</td>\n",
       "    </tr>\n",
       "    <tr>\n",
       "      <th>21</th>\n",
       "      <td>WI1000009977</td>\n",
       "      <td>2018-05-23 07:02:01</td>\n",
       "      <td>Pr101008</td>\n",
       "      <td>U108297</td>\n",
       "      <td>NaN</td>\n",
       "      <td>Chrome Mobile</td>\n",
       "      <td>Android</td>\n",
       "      <td>Delhi</td>\n",
       "      <td>India</td>\n",
       "    </tr>\n",
       "    <tr>\n",
       "      <th>28</th>\n",
       "      <td>WI10000051567</td>\n",
       "      <td>2018-05-22 16:22:11</td>\n",
       "      <td>Pr100558</td>\n",
       "      <td>NaN</td>\n",
       "      <td>NaN</td>\n",
       "      <td>Chrome Mobile</td>\n",
       "      <td>android</td>\n",
       "      <td>NaN</td>\n",
       "      <td>India</td>\n",
       "    </tr>\n",
       "  </tbody>\n",
       "</table>\n",
       "</div>"
      ],
      "text/plain": [
       "       webClientID       VisitDateTime ProductID   UserID Activity  \\\n",
       "13   WI10000021996 2018-05-23 05:04:15  Pr100526      NaN      NaN   \n",
       "14  WI100000112772 2018-05-15 06:48:15  Pr100017  U106593    click   \n",
       "17  WI100000199021 2018-05-22 09:53:20  Pr100681      NaN    click   \n",
       "21    WI1000009977 2018-05-23 07:02:01  Pr101008  U108297      NaN   \n",
       "28   WI10000051567 2018-05-22 16:22:11  Pr100558      NaN      NaN   \n",
       "\n",
       "          Browser        OS       City                  Country  \n",
       "13         Chrome  Mac OS X  Escondido  United States Escondido  \n",
       "14  Chrome Mobile   Android                                      \n",
       "17         Chrome   Windows        NaN                    India  \n",
       "21  Chrome Mobile   Android      Delhi                    India  \n",
       "28  Chrome Mobile   android        NaN                    India  "
      ]
     },
     "execution_count": 160,
     "metadata": {},
     "output_type": "execute_result"
    }
   ],
   "source": [
    "df['VisitDateTime'] = pd.to_datetime(df['VisitDateTime'], unit = 's')\n",
    "df.head()"
   ]
  },
  {
   "cell_type": "code",
   "execution_count": 161,
   "id": "e58d35a9",
   "metadata": {},
   "outputs": [
    {
     "name": "stderr",
     "output_type": "stream",
     "text": [
      "<ipython-input-161-da7d9d208ce4>:2: SettingWithCopyWarning: \n",
      "A value is trying to be set on a copy of a slice from a DataFrame.\n",
      "Try using .loc[row_indexer,col_indexer] = value instead\n",
      "\n",
      "See the caveats in the documentation: https://pandas.pydata.org/pandas-docs/stable/user_guide/indexing.html#returning-a-view-versus-a-copy\n",
      "  df1['VisitDateTime'] = pd.to_datetime(df1['VisitDateTime'])\n"
     ]
    },
    {
     "data": {
      "text/html": [
       "<div>\n",
       "<style scoped>\n",
       "    .dataframe tbody tr th:only-of-type {\n",
       "        vertical-align: middle;\n",
       "    }\n",
       "\n",
       "    .dataframe tbody tr th {\n",
       "        vertical-align: top;\n",
       "    }\n",
       "\n",
       "    .dataframe thead th {\n",
       "        text-align: right;\n",
       "    }\n",
       "</style>\n",
       "<table border=\"1\" class=\"dataframe\">\n",
       "  <thead>\n",
       "    <tr style=\"text-align: right;\">\n",
       "      <th></th>\n",
       "      <th>webClientID</th>\n",
       "      <th>VisitDateTime</th>\n",
       "      <th>ProductID</th>\n",
       "      <th>UserID</th>\n",
       "      <th>Activity</th>\n",
       "      <th>Browser</th>\n",
       "      <th>OS</th>\n",
       "      <th>City</th>\n",
       "      <th>Country</th>\n",
       "    </tr>\n",
       "  </thead>\n",
       "  <tbody>\n",
       "    <tr>\n",
       "      <th>0</th>\n",
       "      <td>WI10000050298</td>\n",
       "      <td>2018-05-07</td>\n",
       "      <td>pr100631</td>\n",
       "      <td>NaN</td>\n",
       "      <td>NaN</td>\n",
       "      <td>Chrome Mobile</td>\n",
       "      <td>Android</td>\n",
       "      <td>Chennai</td>\n",
       "      <td>India</td>\n",
       "    </tr>\n",
       "    <tr>\n",
       "      <th>1</th>\n",
       "      <td>WI10000025922</td>\n",
       "      <td>2018-05-13</td>\n",
       "      <td>pr100707</td>\n",
       "      <td>NaN</td>\n",
       "      <td>NaN</td>\n",
       "      <td>Chrome</td>\n",
       "      <td>Windows</td>\n",
       "      <td>NaN</td>\n",
       "      <td>Taiwan</td>\n",
       "    </tr>\n",
       "    <tr>\n",
       "      <th>2</th>\n",
       "      <td>WI100000204522</td>\n",
       "      <td>2018-05-11</td>\n",
       "      <td>pr100030</td>\n",
       "      <td>NaN</td>\n",
       "      <td>click</td>\n",
       "      <td>Chrome</td>\n",
       "      <td>windows</td>\n",
       "      <td>Gurgaon</td>\n",
       "      <td>India</td>\n",
       "    </tr>\n",
       "    <tr>\n",
       "      <th>3</th>\n",
       "      <td>WI10000011974</td>\n",
       "      <td>2018-05-13</td>\n",
       "      <td>Pr100192</td>\n",
       "      <td>NaN</td>\n",
       "      <td>CLICK</td>\n",
       "      <td>Chrome</td>\n",
       "      <td>Windows</td>\n",
       "      <td></td>\n",
       "      <td></td>\n",
       "    </tr>\n",
       "    <tr>\n",
       "      <th>4</th>\n",
       "      <td>WI100000441953</td>\n",
       "      <td>2018-05-08</td>\n",
       "      <td>Pr100762</td>\n",
       "      <td>NaN</td>\n",
       "      <td>click</td>\n",
       "      <td>Chrome</td>\n",
       "      <td>mac os x</td>\n",
       "      <td>Iselin</td>\n",
       "      <td>United States</td>\n",
       "    </tr>\n",
       "  </tbody>\n",
       "</table>\n",
       "</div>"
      ],
      "text/plain": [
       "      webClientID VisitDateTime ProductID UserID Activity        Browser  \\\n",
       "0   WI10000050298    2018-05-07  pr100631    NaN      NaN  Chrome Mobile   \n",
       "1   WI10000025922    2018-05-13  pr100707    NaN      NaN         Chrome   \n",
       "2  WI100000204522    2018-05-11  pr100030    NaN    click         Chrome   \n",
       "3   WI10000011974    2018-05-13  Pr100192    NaN    CLICK         Chrome   \n",
       "4  WI100000441953    2018-05-08  Pr100762    NaN    click         Chrome   \n",
       "\n",
       "         OS     City        Country  \n",
       "0   Android  Chennai          India  \n",
       "1   Windows      NaN         Taiwan  \n",
       "2   windows  Gurgaon          India  \n",
       "3   Windows                          \n",
       "4  mac os x   Iselin  United States  "
      ]
     },
     "execution_count": 161,
     "metadata": {},
     "output_type": "execute_result"
    }
   ],
   "source": [
    "df1 = visitorlogs[visitorlogs['VisitDateTime'].str.contains('-')]\n",
    "df1['VisitDateTime'] = pd.to_datetime(df1['VisitDateTime'])\n",
    "df1.head()"
   ]
  },
  {
   "cell_type": "code",
   "execution_count": 162,
   "id": "dba35a3d",
   "metadata": {},
   "outputs": [
    {
     "data": {
      "text/html": [
       "<div>\n",
       "<style scoped>\n",
       "    .dataframe tbody tr th:only-of-type {\n",
       "        vertical-align: middle;\n",
       "    }\n",
       "\n",
       "    .dataframe tbody tr th {\n",
       "        vertical-align: top;\n",
       "    }\n",
       "\n",
       "    .dataframe thead th {\n",
       "        text-align: right;\n",
       "    }\n",
       "</style>\n",
       "<table border=\"1\" class=\"dataframe\">\n",
       "  <thead>\n",
       "    <tr style=\"text-align: right;\">\n",
       "      <th></th>\n",
       "      <th>webClientID</th>\n",
       "      <th>VisitDateTime</th>\n",
       "      <th>ProductID</th>\n",
       "      <th>UserID</th>\n",
       "      <th>Activity</th>\n",
       "      <th>Browser</th>\n",
       "      <th>OS</th>\n",
       "      <th>City</th>\n",
       "      <th>Country</th>\n",
       "    </tr>\n",
       "  </thead>\n",
       "  <tbody>\n",
       "    <tr>\n",
       "      <th>13</th>\n",
       "      <td>WI10000021996</td>\n",
       "      <td>2018-05-23 05:04:15</td>\n",
       "      <td>Pr100526</td>\n",
       "      <td>NaN</td>\n",
       "      <td>NaN</td>\n",
       "      <td>Chrome</td>\n",
       "      <td>Mac OS X</td>\n",
       "      <td>Escondido</td>\n",
       "      <td>United States Escondido</td>\n",
       "    </tr>\n",
       "    <tr>\n",
       "      <th>14</th>\n",
       "      <td>WI100000112772</td>\n",
       "      <td>2018-05-15 06:48:15</td>\n",
       "      <td>Pr100017</td>\n",
       "      <td>U106593</td>\n",
       "      <td>click</td>\n",
       "      <td>Chrome Mobile</td>\n",
       "      <td>Android</td>\n",
       "      <td></td>\n",
       "      <td></td>\n",
       "    </tr>\n",
       "    <tr>\n",
       "      <th>17</th>\n",
       "      <td>WI100000199021</td>\n",
       "      <td>2018-05-22 09:53:20</td>\n",
       "      <td>Pr100681</td>\n",
       "      <td>NaN</td>\n",
       "      <td>click</td>\n",
       "      <td>Chrome</td>\n",
       "      <td>Windows</td>\n",
       "      <td>NaN</td>\n",
       "      <td>India</td>\n",
       "    </tr>\n",
       "    <tr>\n",
       "      <th>21</th>\n",
       "      <td>WI1000009977</td>\n",
       "      <td>2018-05-23 07:02:01</td>\n",
       "      <td>Pr101008</td>\n",
       "      <td>U108297</td>\n",
       "      <td>NaN</td>\n",
       "      <td>Chrome Mobile</td>\n",
       "      <td>Android</td>\n",
       "      <td>Delhi</td>\n",
       "      <td>India</td>\n",
       "    </tr>\n",
       "    <tr>\n",
       "      <th>28</th>\n",
       "      <td>WI10000051567</td>\n",
       "      <td>2018-05-22 16:22:11</td>\n",
       "      <td>Pr100558</td>\n",
       "      <td>NaN</td>\n",
       "      <td>NaN</td>\n",
       "      <td>Chrome Mobile</td>\n",
       "      <td>android</td>\n",
       "      <td>NaN</td>\n",
       "      <td>India</td>\n",
       "    </tr>\n",
       "  </tbody>\n",
       "</table>\n",
       "</div>"
      ],
      "text/plain": [
       "       webClientID       VisitDateTime ProductID   UserID Activity  \\\n",
       "13   WI10000021996 2018-05-23 05:04:15  Pr100526      NaN      NaN   \n",
       "14  WI100000112772 2018-05-15 06:48:15  Pr100017  U106593    click   \n",
       "17  WI100000199021 2018-05-22 09:53:20  Pr100681      NaN    click   \n",
       "21    WI1000009977 2018-05-23 07:02:01  Pr101008  U108297      NaN   \n",
       "28   WI10000051567 2018-05-22 16:22:11  Pr100558      NaN      NaN   \n",
       "\n",
       "          Browser        OS       City                  Country  \n",
       "13         Chrome  Mac OS X  Escondido  United States Escondido  \n",
       "14  Chrome Mobile   Android                                      \n",
       "17         Chrome   Windows        NaN                    India  \n",
       "21  Chrome Mobile   Android      Delhi                    India  \n",
       "28  Chrome Mobile   android        NaN                    India  "
      ]
     },
     "execution_count": 162,
     "metadata": {},
     "output_type": "execute_result"
    }
   ],
   "source": [
    "final_df = df.append(df1)\n",
    "final_df.head()"
   ]
  },
  {
   "cell_type": "code",
   "execution_count": 163,
   "id": "f69ae1b9",
   "metadata": {},
   "outputs": [
    {
     "data": {
      "text/plain": [
       "(6588000, 9)"
      ]
     },
     "execution_count": 163,
     "metadata": {},
     "output_type": "execute_result"
    }
   ],
   "source": [
    "final_df.shape"
   ]
  },
  {
   "cell_type": "code",
   "execution_count": 164,
   "id": "202833f1",
   "metadata": {},
   "outputs": [],
   "source": [
    "final_df['day']= final_df['VisitDateTime'].dt.day\n",
    "final_df['month'] =final_df['VisitDateTime'].dt.month\n",
    "final_df['year'] = final_df['VisitDateTime'].dt.year"
   ]
  },
  {
   "cell_type": "code",
   "execution_count": 165,
   "id": "f02b3365",
   "metadata": {},
   "outputs": [
    {
     "data": {
      "text/html": [
       "<div>\n",
       "<style scoped>\n",
       "    .dataframe tbody tr th:only-of-type {\n",
       "        vertical-align: middle;\n",
       "    }\n",
       "\n",
       "    .dataframe tbody tr th {\n",
       "        vertical-align: top;\n",
       "    }\n",
       "\n",
       "    .dataframe thead th {\n",
       "        text-align: right;\n",
       "    }\n",
       "</style>\n",
       "<table border=\"1\" class=\"dataframe\">\n",
       "  <thead>\n",
       "    <tr style=\"text-align: right;\">\n",
       "      <th></th>\n",
       "      <th>webClientID</th>\n",
       "      <th>VisitDateTime</th>\n",
       "      <th>ProductID</th>\n",
       "      <th>UserID</th>\n",
       "      <th>Activity</th>\n",
       "      <th>Browser</th>\n",
       "      <th>OS</th>\n",
       "      <th>day</th>\n",
       "      <th>month</th>\n",
       "      <th>year</th>\n",
       "    </tr>\n",
       "  </thead>\n",
       "  <tbody>\n",
       "    <tr>\n",
       "      <th>13</th>\n",
       "      <td>WI10000021996</td>\n",
       "      <td>2018-05-23 05:04:15</td>\n",
       "      <td>Pr100526</td>\n",
       "      <td>NaN</td>\n",
       "      <td>NaN</td>\n",
       "      <td>Chrome</td>\n",
       "      <td>Mac OS X</td>\n",
       "      <td>23</td>\n",
       "      <td>5</td>\n",
       "      <td>2018</td>\n",
       "    </tr>\n",
       "    <tr>\n",
       "      <th>14</th>\n",
       "      <td>WI100000112772</td>\n",
       "      <td>2018-05-15 06:48:15</td>\n",
       "      <td>Pr100017</td>\n",
       "      <td>U106593</td>\n",
       "      <td>click</td>\n",
       "      <td>Chrome Mobile</td>\n",
       "      <td>Android</td>\n",
       "      <td>15</td>\n",
       "      <td>5</td>\n",
       "      <td>2018</td>\n",
       "    </tr>\n",
       "    <tr>\n",
       "      <th>17</th>\n",
       "      <td>WI100000199021</td>\n",
       "      <td>2018-05-22 09:53:20</td>\n",
       "      <td>Pr100681</td>\n",
       "      <td>NaN</td>\n",
       "      <td>click</td>\n",
       "      <td>Chrome</td>\n",
       "      <td>Windows</td>\n",
       "      <td>22</td>\n",
       "      <td>5</td>\n",
       "      <td>2018</td>\n",
       "    </tr>\n",
       "    <tr>\n",
       "      <th>21</th>\n",
       "      <td>WI1000009977</td>\n",
       "      <td>2018-05-23 07:02:01</td>\n",
       "      <td>Pr101008</td>\n",
       "      <td>U108297</td>\n",
       "      <td>NaN</td>\n",
       "      <td>Chrome Mobile</td>\n",
       "      <td>Android</td>\n",
       "      <td>23</td>\n",
       "      <td>5</td>\n",
       "      <td>2018</td>\n",
       "    </tr>\n",
       "    <tr>\n",
       "      <th>28</th>\n",
       "      <td>WI10000051567</td>\n",
       "      <td>2018-05-22 16:22:11</td>\n",
       "      <td>Pr100558</td>\n",
       "      <td>NaN</td>\n",
       "      <td>NaN</td>\n",
       "      <td>Chrome Mobile</td>\n",
       "      <td>android</td>\n",
       "      <td>22</td>\n",
       "      <td>5</td>\n",
       "      <td>2018</td>\n",
       "    </tr>\n",
       "  </tbody>\n",
       "</table>\n",
       "</div>"
      ],
      "text/plain": [
       "       webClientID       VisitDateTime ProductID   UserID Activity  \\\n",
       "13   WI10000021996 2018-05-23 05:04:15  Pr100526      NaN      NaN   \n",
       "14  WI100000112772 2018-05-15 06:48:15  Pr100017  U106593    click   \n",
       "17  WI100000199021 2018-05-22 09:53:20  Pr100681      NaN    click   \n",
       "21    WI1000009977 2018-05-23 07:02:01  Pr101008  U108297      NaN   \n",
       "28   WI10000051567 2018-05-22 16:22:11  Pr100558      NaN      NaN   \n",
       "\n",
       "          Browser        OS  day  month  year  \n",
       "13         Chrome  Mac OS X   23      5  2018  \n",
       "14  Chrome Mobile   Android   15      5  2018  \n",
       "17         Chrome   Windows   22      5  2018  \n",
       "21  Chrome Mobile   Android   23      5  2018  \n",
       "28  Chrome Mobile   android   22      5  2018  "
      ]
     },
     "execution_count": 165,
     "metadata": {},
     "output_type": "execute_result"
    }
   ],
   "source": [
    "final_df = final_df.drop(['City', 'Country'], axis = 1)\n",
    "final_df.head()"
   ]
  },
  {
   "cell_type": "code",
   "execution_count": 166,
   "id": "853398d3",
   "metadata": {},
   "outputs": [
    {
     "data": {
      "text/plain": [
       "34050"
      ]
     },
     "execution_count": 166,
     "metadata": {},
     "output_type": "execute_result"
    }
   ],
   "source": [
    "usertable['UserID'].nunique()"
   ]
  },
  {
   "cell_type": "code",
   "execution_count": 167,
   "id": "cdaf4c6a",
   "metadata": {},
   "outputs": [
    {
     "data": {
      "text/plain": [
       "34050"
      ]
     },
     "execution_count": 167,
     "metadata": {},
     "output_type": "execute_result"
    }
   ],
   "source": [
    "final_df['UserID'].nunique()"
   ]
  },
  {
   "cell_type": "code",
   "execution_count": 168,
   "id": "e8416c40",
   "metadata": {},
   "outputs": [
    {
     "data": {
      "text/plain": [
       "650695"
      ]
     },
     "execution_count": 168,
     "metadata": {},
     "output_type": "execute_result"
    }
   ],
   "source": [
    "6588000 - 5937305"
   ]
  },
  {
   "cell_type": "code",
   "execution_count": 169,
   "id": "192354c9",
   "metadata": {},
   "outputs": [
    {
     "data": {
      "text/plain": [
       "click       3041039\n",
       "pageload    1517948\n",
       "CLICK        759590\n",
       "PAGELOAD     379977\n",
       "Name: Activity, dtype: int64"
      ]
     },
     "execution_count": 169,
     "metadata": {},
     "output_type": "execute_result"
    }
   ],
   "source": [
    "final_df['Activity'].value_counts()"
   ]
  },
  {
   "cell_type": "code",
   "execution_count": 170,
   "id": "d38c3dad",
   "metadata": {},
   "outputs": [],
   "source": [
    "final_df['Activity'] = final_df['Activity'].fillna(final_df['Activity'].value_counts().index[0])"
   ]
  },
  {
   "cell_type": "code",
   "execution_count": 171,
   "id": "43ca9d72",
   "metadata": {},
   "outputs": [],
   "source": [
    "final_df['UserID'] = final_df['UserID'].fillna('Unknown')"
   ]
  },
  {
   "cell_type": "code",
   "execution_count": 172,
   "id": "56882aa6",
   "metadata": {},
   "outputs": [],
   "source": [
    "final_df['ProductID'] = final_df['ProductID'].fillna('Unknown')"
   ]
  },
  {
   "cell_type": "code",
   "execution_count": 173,
   "id": "72a41aba",
   "metadata": {},
   "outputs": [
    {
     "data": {
      "text/plain": [
       "webClientID      0\n",
       "VisitDateTime    0\n",
       "ProductID        0\n",
       "UserID           0\n",
       "Activity         0\n",
       "Browser          0\n",
       "OS               0\n",
       "day              0\n",
       "month            0\n",
       "year             0\n",
       "dtype: int64"
      ]
     },
     "execution_count": 173,
     "metadata": {},
     "output_type": "execute_result"
    }
   ],
   "source": [
    "final_df.isnull().sum()"
   ]
  },
  {
   "cell_type": "code",
   "execution_count": 174,
   "id": "c66ad499",
   "metadata": {},
   "outputs": [
    {
     "data": {
      "text/plain": [
       "34051"
      ]
     },
     "execution_count": 174,
     "metadata": {},
     "output_type": "execute_result"
    }
   ],
   "source": [
    "final_df['UserID'].nunique()"
   ]
  },
  {
   "cell_type": "markdown",
   "id": "8db9bc6f",
   "metadata": {},
   "source": [
    "-----------------"
   ]
  },
  {
   "cell_type": "raw",
   "id": "de2e3526",
   "metadata": {},
   "source": [
    "No_of_days_Visited_7_Days"
   ]
  },
  {
   "cell_type": "code",
   "execution_count": 175,
   "id": "8c397629",
   "metadata": {},
   "outputs": [],
   "source": [
    "a = final_df[(final_df['day'] >= 21) & (final_df['day'] <= 27)]\n",
    "b = a.sort_values(by = ['UserID', 'day'], axis = 0)"
   ]
  },
  {
   "cell_type": "code",
   "execution_count": 176,
   "id": "6fc26fdb",
   "metadata": {},
   "outputs": [
    {
     "data": {
      "text/html": [
       "<div>\n",
       "<style scoped>\n",
       "    .dataframe tbody tr th:only-of-type {\n",
       "        vertical-align: middle;\n",
       "    }\n",
       "\n",
       "    .dataframe tbody tr th {\n",
       "        vertical-align: top;\n",
       "    }\n",
       "\n",
       "    .dataframe thead th {\n",
       "        text-align: right;\n",
       "    }\n",
       "</style>\n",
       "<table border=\"1\" class=\"dataframe\">\n",
       "  <thead>\n",
       "    <tr style=\"text-align: right;\">\n",
       "      <th></th>\n",
       "      <th>webClientID</th>\n",
       "      <th>VisitDateTime</th>\n",
       "      <th>ProductID</th>\n",
       "      <th>UserID</th>\n",
       "      <th>Activity</th>\n",
       "      <th>Browser</th>\n",
       "      <th>OS</th>\n",
       "      <th>day</th>\n",
       "      <th>month</th>\n",
       "      <th>year</th>\n",
       "    </tr>\n",
       "  </thead>\n",
       "  <tbody>\n",
       "    <tr>\n",
       "      <th>341562</th>\n",
       "      <td>WI100000392911</td>\n",
       "      <td>2018-05-25 00:00:00</td>\n",
       "      <td>Unknown</td>\n",
       "      <td>U100003</td>\n",
       "      <td>click</td>\n",
       "      <td>Chrome</td>\n",
       "      <td>Windows</td>\n",
       "      <td>25</td>\n",
       "      <td>5</td>\n",
       "      <td>2018</td>\n",
       "    </tr>\n",
       "    <tr>\n",
       "      <th>1408972</th>\n",
       "      <td>WI10000097797</td>\n",
       "      <td>2018-05-21 00:00:00</td>\n",
       "      <td>Pr100753</td>\n",
       "      <td>U100004</td>\n",
       "      <td>pageload</td>\n",
       "      <td>Chrome</td>\n",
       "      <td>Windows</td>\n",
       "      <td>21</td>\n",
       "      <td>5</td>\n",
       "      <td>2018</td>\n",
       "    </tr>\n",
       "    <tr>\n",
       "      <th>4837296</th>\n",
       "      <td>WI10000099284</td>\n",
       "      <td>2018-05-21 00:00:00</td>\n",
       "      <td>Pr101249</td>\n",
       "      <td>U100005</td>\n",
       "      <td>pageload</td>\n",
       "      <td>Chrome</td>\n",
       "      <td>Android</td>\n",
       "      <td>21</td>\n",
       "      <td>5</td>\n",
       "      <td>2018</td>\n",
       "    </tr>\n",
       "    <tr>\n",
       "      <th>1765326</th>\n",
       "      <td>WI10000099284</td>\n",
       "      <td>2018-05-26 00:00:00</td>\n",
       "      <td>Pr100234</td>\n",
       "      <td>U100005</td>\n",
       "      <td>click</td>\n",
       "      <td>Chrome</td>\n",
       "      <td>Android</td>\n",
       "      <td>26</td>\n",
       "      <td>5</td>\n",
       "      <td>2018</td>\n",
       "    </tr>\n",
       "    <tr>\n",
       "      <th>5832241</th>\n",
       "      <td>WI1000001090210</td>\n",
       "      <td>2018-05-21 00:00:00</td>\n",
       "      <td>Pr101111</td>\n",
       "      <td>U100006</td>\n",
       "      <td>pageload</td>\n",
       "      <td>Chrome Mobile</td>\n",
       "      <td>Android</td>\n",
       "      <td>21</td>\n",
       "      <td>5</td>\n",
       "      <td>2018</td>\n",
       "    </tr>\n",
       "    <tr>\n",
       "      <th>...</th>\n",
       "      <td>...</td>\n",
       "      <td>...</td>\n",
       "      <td>...</td>\n",
       "      <td>...</td>\n",
       "      <td>...</td>\n",
       "      <td>...</td>\n",
       "      <td>...</td>\n",
       "      <td>...</td>\n",
       "      <td>...</td>\n",
       "      <td>...</td>\n",
       "    </tr>\n",
       "    <tr>\n",
       "      <th>13</th>\n",
       "      <td>WI10000021996</td>\n",
       "      <td>2018-05-23 05:04:15</td>\n",
       "      <td>Pr100526</td>\n",
       "      <td>Unknown</td>\n",
       "      <td>click</td>\n",
       "      <td>Chrome</td>\n",
       "      <td>Mac OS X</td>\n",
       "      <td>23</td>\n",
       "      <td>5</td>\n",
       "      <td>2018</td>\n",
       "    </tr>\n",
       "    <tr>\n",
       "      <th>1144</th>\n",
       "      <td>WI100000233</td>\n",
       "      <td>2018-05-24 16:06:59</td>\n",
       "      <td>Unknown</td>\n",
       "      <td>Unknown</td>\n",
       "      <td>pageload</td>\n",
       "      <td>Chrome</td>\n",
       "      <td>windows</td>\n",
       "      <td>24</td>\n",
       "      <td>5</td>\n",
       "      <td>2018</td>\n",
       "    </tr>\n",
       "    <tr>\n",
       "      <th>400</th>\n",
       "      <td>WI10000053099</td>\n",
       "      <td>2018-05-25 18:44:51</td>\n",
       "      <td>Pr100047</td>\n",
       "      <td>Unknown</td>\n",
       "      <td>click</td>\n",
       "      <td>Chrome</td>\n",
       "      <td>Windows</td>\n",
       "      <td>25</td>\n",
       "      <td>5</td>\n",
       "      <td>2018</td>\n",
       "    </tr>\n",
       "    <tr>\n",
       "      <th>95</th>\n",
       "      <td>WI100000817830</td>\n",
       "      <td>2018-05-26 07:40:13</td>\n",
       "      <td>Pr101312</td>\n",
       "      <td>Unknown</td>\n",
       "      <td>pageload</td>\n",
       "      <td>IE</td>\n",
       "      <td>Windows</td>\n",
       "      <td>26</td>\n",
       "      <td>5</td>\n",
       "      <td>2018</td>\n",
       "    </tr>\n",
       "    <tr>\n",
       "      <th>111</th>\n",
       "      <td>WI100000171226</td>\n",
       "      <td>2018-05-27 07:33:08</td>\n",
       "      <td>Pr100017</td>\n",
       "      <td>Unknown</td>\n",
       "      <td>pageload</td>\n",
       "      <td>Chrome</td>\n",
       "      <td>Windows</td>\n",
       "      <td>27</td>\n",
       "      <td>5</td>\n",
       "      <td>2018</td>\n",
       "    </tr>\n",
       "  </tbody>\n",
       "</table>\n",
       "<p>39216 rows × 10 columns</p>\n",
       "</div>"
      ],
      "text/plain": [
       "             webClientID       VisitDateTime ProductID   UserID  Activity  \\\n",
       "341562    WI100000392911 2018-05-25 00:00:00   Unknown  U100003     click   \n",
       "1408972    WI10000097797 2018-05-21 00:00:00  Pr100753  U100004  pageload   \n",
       "4837296    WI10000099284 2018-05-21 00:00:00  Pr101249  U100005  pageload   \n",
       "1765326    WI10000099284 2018-05-26 00:00:00  Pr100234  U100005     click   \n",
       "5832241  WI1000001090210 2018-05-21 00:00:00  Pr101111  U100006  pageload   \n",
       "...                  ...                 ...       ...      ...       ...   \n",
       "13         WI10000021996 2018-05-23 05:04:15  Pr100526  Unknown     click   \n",
       "1144         WI100000233 2018-05-24 16:06:59   Unknown  Unknown  pageload   \n",
       "400        WI10000053099 2018-05-25 18:44:51  Pr100047  Unknown     click   \n",
       "95        WI100000817830 2018-05-26 07:40:13  Pr101312  Unknown  pageload   \n",
       "111       WI100000171226 2018-05-27 07:33:08  Pr100017  Unknown  pageload   \n",
       "\n",
       "               Browser        OS  day  month  year  \n",
       "341562          Chrome   Windows   25      5  2018  \n",
       "1408972         Chrome   Windows   21      5  2018  \n",
       "4837296         Chrome   Android   21      5  2018  \n",
       "1765326         Chrome   Android   26      5  2018  \n",
       "5832241  Chrome Mobile   Android   21      5  2018  \n",
       "...                ...       ...  ...    ...   ...  \n",
       "13              Chrome  Mac OS X   23      5  2018  \n",
       "1144            Chrome   windows   24      5  2018  \n",
       "400             Chrome   Windows   25      5  2018  \n",
       "95                  IE   Windows   26      5  2018  \n",
       "111             Chrome   Windows   27      5  2018  \n",
       "\n",
       "[39216 rows x 10 columns]"
      ]
     },
     "execution_count": 176,
     "metadata": {},
     "output_type": "execute_result"
    }
   ],
   "source": [
    "c = b.drop_duplicates(subset= ['UserID', 'day'], keep = 'first')\n",
    "c"
   ]
  },
  {
   "cell_type": "code",
   "execution_count": 177,
   "id": "e60b9a20",
   "metadata": {},
   "outputs": [
    {
     "data": {
      "text/plain": [
       "UserID\n",
       "U100003    1\n",
       "U100004    1\n",
       "U100005    2\n",
       "U100006    1\n",
       "U100007    1\n",
       "          ..\n",
       "U136949    1\n",
       "U136956    1\n",
       "U136959    1\n",
       "U136963    1\n",
       "Unknown    7\n",
       "Name: day, Length: 23423, dtype: int64"
      ]
     },
     "execution_count": 177,
     "metadata": {},
     "output_type": "execute_result"
    }
   ],
   "source": [
    "d = c.groupby(by = 'UserID', axis = 0).count()['day']\n",
    "d"
   ]
  },
  {
   "cell_type": "markdown",
   "id": "db12dfd9",
   "metadata": {},
   "source": [
    "------------"
   ]
  },
  {
   "cell_type": "raw",
   "id": "61448116",
   "metadata": {},
   "source": [
    "No_Of_Products_Viewed_15_Days"
   ]
  },
  {
   "cell_type": "code",
   "execution_count": 178,
   "id": "7830e16d",
   "metadata": {},
   "outputs": [
    {
     "data": {
      "text/html": [
       "<div>\n",
       "<style scoped>\n",
       "    .dataframe tbody tr th:only-of-type {\n",
       "        vertical-align: middle;\n",
       "    }\n",
       "\n",
       "    .dataframe tbody tr th {\n",
       "        vertical-align: top;\n",
       "    }\n",
       "\n",
       "    .dataframe thead th {\n",
       "        text-align: right;\n",
       "    }\n",
       "</style>\n",
       "<table border=\"1\" class=\"dataframe\">\n",
       "  <thead>\n",
       "    <tr style=\"text-align: right;\">\n",
       "      <th></th>\n",
       "      <th>webClientID</th>\n",
       "      <th>VisitDateTime</th>\n",
       "      <th>ProductID</th>\n",
       "      <th>UserID</th>\n",
       "      <th>Activity</th>\n",
       "      <th>Browser</th>\n",
       "      <th>OS</th>\n",
       "      <th>day</th>\n",
       "      <th>month</th>\n",
       "      <th>year</th>\n",
       "    </tr>\n",
       "  </thead>\n",
       "  <tbody>\n",
       "    <tr>\n",
       "      <th>4655019</th>\n",
       "      <td>WI10000020634</td>\n",
       "      <td>2018-05-18 10:39:46</td>\n",
       "      <td>Pr100258</td>\n",
       "      <td>U100002</td>\n",
       "      <td>click</td>\n",
       "      <td>Chrome Mobile</td>\n",
       "      <td>Android</td>\n",
       "      <td>18</td>\n",
       "      <td>5</td>\n",
       "      <td>2018</td>\n",
       "    </tr>\n",
       "    <tr>\n",
       "      <th>3452388</th>\n",
       "      <td>WI10000020634</td>\n",
       "      <td>2018-05-18 00:00:00</td>\n",
       "      <td>Pr100258</td>\n",
       "      <td>U100002</td>\n",
       "      <td>pageload</td>\n",
       "      <td>Chrome Mobile</td>\n",
       "      <td>Android</td>\n",
       "      <td>18</td>\n",
       "      <td>5</td>\n",
       "      <td>2018</td>\n",
       "    </tr>\n",
       "    <tr>\n",
       "      <th>5811371</th>\n",
       "      <td>WI10000020634</td>\n",
       "      <td>2018-05-18 00:00:00</td>\n",
       "      <td>Pr100258</td>\n",
       "      <td>U100002</td>\n",
       "      <td>pageload</td>\n",
       "      <td>Chrome Mobile</td>\n",
       "      <td>Android</td>\n",
       "      <td>18</td>\n",
       "      <td>5</td>\n",
       "      <td>2018</td>\n",
       "    </tr>\n",
       "    <tr>\n",
       "      <th>5179952</th>\n",
       "      <td>WI10000020634</td>\n",
       "      <td>2018-05-18 00:00:00</td>\n",
       "      <td>Pr101097</td>\n",
       "      <td>U100002</td>\n",
       "      <td>click</td>\n",
       "      <td>Chrome Mobile</td>\n",
       "      <td>Android</td>\n",
       "      <td>18</td>\n",
       "      <td>5</td>\n",
       "      <td>2018</td>\n",
       "    </tr>\n",
       "    <tr>\n",
       "      <th>270999</th>\n",
       "      <td>WI10000020634</td>\n",
       "      <td>2018-05-18 00:00:00</td>\n",
       "      <td>pr100258</td>\n",
       "      <td>U100002</td>\n",
       "      <td>click</td>\n",
       "      <td>Chrome Mobile</td>\n",
       "      <td>Android</td>\n",
       "      <td>18</td>\n",
       "      <td>5</td>\n",
       "      <td>2018</td>\n",
       "    </tr>\n",
       "    <tr>\n",
       "      <th>...</th>\n",
       "      <td>...</td>\n",
       "      <td>...</td>\n",
       "      <td>...</td>\n",
       "      <td>...</td>\n",
       "      <td>...</td>\n",
       "      <td>...</td>\n",
       "      <td>...</td>\n",
       "      <td>...</td>\n",
       "      <td>...</td>\n",
       "      <td>...</td>\n",
       "    </tr>\n",
       "    <tr>\n",
       "      <th>317925</th>\n",
       "      <td>WI100000363562</td>\n",
       "      <td>2018-05-21 00:00:00</td>\n",
       "      <td>pr112384</td>\n",
       "      <td>Unknown</td>\n",
       "      <td>PAGELOAD</td>\n",
       "      <td>Chrome</td>\n",
       "      <td>Windows</td>\n",
       "      <td>21</td>\n",
       "      <td>5</td>\n",
       "      <td>2018</td>\n",
       "    </tr>\n",
       "    <tr>\n",
       "      <th>1408038</th>\n",
       "      <td>WI100000484866</td>\n",
       "      <td>2018-05-21 00:00:00</td>\n",
       "      <td>pr112406</td>\n",
       "      <td>Unknown</td>\n",
       "      <td>click</td>\n",
       "      <td>Chrome</td>\n",
       "      <td>Windows</td>\n",
       "      <td>21</td>\n",
       "      <td>5</td>\n",
       "      <td>2018</td>\n",
       "    </tr>\n",
       "    <tr>\n",
       "      <th>3936191</th>\n",
       "      <td>WI100000140166</td>\n",
       "      <td>2018-05-21 00:00:00</td>\n",
       "      <td>pr112417</td>\n",
       "      <td>Unknown</td>\n",
       "      <td>click</td>\n",
       "      <td>Chrome</td>\n",
       "      <td>Windows</td>\n",
       "      <td>21</td>\n",
       "      <td>5</td>\n",
       "      <td>2018</td>\n",
       "    </tr>\n",
       "    <tr>\n",
       "      <th>4803668</th>\n",
       "      <td>WI100000766846</td>\n",
       "      <td>2018-05-21 00:00:00</td>\n",
       "      <td>pr112424</td>\n",
       "      <td>Unknown</td>\n",
       "      <td>click</td>\n",
       "      <td>Chrome</td>\n",
       "      <td>Windows</td>\n",
       "      <td>21</td>\n",
       "      <td>5</td>\n",
       "      <td>2018</td>\n",
       "    </tr>\n",
       "    <tr>\n",
       "      <th>5136967</th>\n",
       "      <td>WI100000161789</td>\n",
       "      <td>2018-05-21 00:00:00</td>\n",
       "      <td>pr112438</td>\n",
       "      <td>Unknown</td>\n",
       "      <td>click</td>\n",
       "      <td>Chrome</td>\n",
       "      <td>Linux</td>\n",
       "      <td>21</td>\n",
       "      <td>5</td>\n",
       "      <td>2018</td>\n",
       "    </tr>\n",
       "  </tbody>\n",
       "</table>\n",
       "<p>4838270 rows × 10 columns</p>\n",
       "</div>"
      ],
      "text/plain": [
       "            webClientID       VisitDateTime ProductID   UserID  Activity  \\\n",
       "4655019   WI10000020634 2018-05-18 10:39:46  Pr100258  U100002     click   \n",
       "3452388   WI10000020634 2018-05-18 00:00:00  Pr100258  U100002  pageload   \n",
       "5811371   WI10000020634 2018-05-18 00:00:00  Pr100258  U100002  pageload   \n",
       "5179952   WI10000020634 2018-05-18 00:00:00  Pr101097  U100002     click   \n",
       "270999    WI10000020634 2018-05-18 00:00:00  pr100258  U100002     click   \n",
       "...                 ...                 ...       ...      ...       ...   \n",
       "317925   WI100000363562 2018-05-21 00:00:00  pr112384  Unknown  PAGELOAD   \n",
       "1408038  WI100000484866 2018-05-21 00:00:00  pr112406  Unknown     click   \n",
       "3936191  WI100000140166 2018-05-21 00:00:00  pr112417  Unknown     click   \n",
       "4803668  WI100000766846 2018-05-21 00:00:00  pr112424  Unknown     click   \n",
       "5136967  WI100000161789 2018-05-21 00:00:00  pr112438  Unknown     click   \n",
       "\n",
       "               Browser       OS  day  month  year  \n",
       "4655019  Chrome Mobile  Android   18      5  2018  \n",
       "3452388  Chrome Mobile  Android   18      5  2018  \n",
       "5811371  Chrome Mobile  Android   18      5  2018  \n",
       "5179952  Chrome Mobile  Android   18      5  2018  \n",
       "270999   Chrome Mobile  Android   18      5  2018  \n",
       "...                ...      ...  ...    ...   ...  \n",
       "317925          Chrome  Windows   21      5  2018  \n",
       "1408038         Chrome  Windows   21      5  2018  \n",
       "3936191         Chrome  Windows   21      5  2018  \n",
       "4803668         Chrome  Windows   21      5  2018  \n",
       "5136967         Chrome    Linux   21      5  2018  \n",
       "\n",
       "[4838270 rows x 10 columns]"
      ]
     },
     "execution_count": 178,
     "metadata": {},
     "output_type": "execute_result"
    }
   ],
   "source": [
    "e = final_df[(final_df['day'] >= 13) & (final_df['day'] <= 27)]\n",
    "f = e.sort_values(by = ['UserID', 'ProductID'], axis = 0)\n",
    "f"
   ]
  },
  {
   "cell_type": "code",
   "execution_count": 179,
   "id": "e1fba21f",
   "metadata": {},
   "outputs": [
    {
     "data": {
      "text/plain": [
       "UserID\n",
       "U100002          5\n",
       "U100003          4\n",
       "U100004         30\n",
       "U100005          5\n",
       "U100006          1\n",
       "            ...   \n",
       "U136949          2\n",
       "U136956          1\n",
       "U136959          2\n",
       "U136963          2\n",
       "Unknown    4364497\n",
       "Name: ProductID, Length: 29087, dtype: int64"
      ]
     },
     "execution_count": 179,
     "metadata": {},
     "output_type": "execute_result"
    }
   ],
   "source": [
    "g = f.groupby(by = 'UserID', axis = 0).count()['ProductID']\n",
    "g"
   ]
  },
  {
   "cell_type": "code",
   "execution_count": 180,
   "id": "299daf73",
   "metadata": {},
   "outputs": [
    {
     "data": {
      "text/plain": [
       "(29087,)"
      ]
     },
     "execution_count": 180,
     "metadata": {},
     "output_type": "execute_result"
    }
   ],
   "source": [
    "g.shape"
   ]
  },
  {
   "cell_type": "markdown",
   "id": "145e8f0a",
   "metadata": {},
   "source": [
    "-----------"
   ]
  },
  {
   "cell_type": "raw",
   "id": "6b8e368a",
   "metadata": {},
   "source": [
    "User_Vintage"
   ]
  },
  {
   "cell_type": "code",
   "execution_count": 181,
   "id": "206e7cd2",
   "metadata": {},
   "outputs": [
    {
     "name": "stdout",
     "output_type": "stream",
     "text": [
      "<class 'pandas.core.frame.DataFrame'>\n",
      "RangeIndex: 34050 entries, 0 to 34049\n",
      "Data columns (total 3 columns):\n",
      " #   Column        Non-Null Count  Dtype \n",
      "---  ------        --------------  ----- \n",
      " 0   UserID        34050 non-null  object\n",
      " 1   Signup Date   34050 non-null  object\n",
      " 2   User Segment  34050 non-null  object\n",
      "dtypes: object(3)\n",
      "memory usage: 798.2+ KB\n"
     ]
    }
   ],
   "source": [
    "usertable.info()"
   ]
  },
  {
   "cell_type": "code",
   "execution_count": 182,
   "id": "ff5afbca",
   "metadata": {},
   "outputs": [
    {
     "data": {
      "text/plain": [
       "2014-02-03 15:17:28.723279+00:00    13\n",
       "2018-04-08 14:15:01.033608+00:00     1\n",
       "2017-10-20 14:53:03.265502+00:00     1\n",
       "2012-03-23 22:54:33+00:00            1\n",
       "2016-07-13 06:15:01.766435+00:00     1\n",
       "                                    ..\n",
       "2016-01-14 04:48:17.730992+00:00     1\n",
       "2018-04-06 17:07:07.495761+00:00     1\n",
       "2018-04-10 07:13:40.133259+00:00     1\n",
       "2018-02-15 02:00:56.488287+00:00     1\n",
       "2017-06-27 09:59:54.798612+00:00     1\n",
       "Name: Signup Date, Length: 34038, dtype: int64"
      ]
     },
     "execution_count": 182,
     "metadata": {},
     "output_type": "execute_result"
    }
   ],
   "source": [
    "usertable['Signup Date'].value_counts()"
   ]
  },
  {
   "cell_type": "code",
   "execution_count": 183,
   "id": "cbaa03d2",
   "metadata": {},
   "outputs": [],
   "source": [
    "usertable['Signup Date'] = usertable['Signup Date'].str[:10]"
   ]
  },
  {
   "cell_type": "code",
   "execution_count": 184,
   "id": "fbfd1e0f",
   "metadata": {},
   "outputs": [],
   "source": [
    "usertable['Signup Date'] = pd.to_datetime(usertable['Signup Date'])"
   ]
  },
  {
   "cell_type": "code",
   "execution_count": 185,
   "id": "9d5802b4",
   "metadata": {},
   "outputs": [
    {
     "data": {
      "text/html": [
       "<div>\n",
       "<style scoped>\n",
       "    .dataframe tbody tr th:only-of-type {\n",
       "        vertical-align: middle;\n",
       "    }\n",
       "\n",
       "    .dataframe tbody tr th {\n",
       "        vertical-align: top;\n",
       "    }\n",
       "\n",
       "    .dataframe thead th {\n",
       "        text-align: right;\n",
       "    }\n",
       "</style>\n",
       "<table border=\"1\" class=\"dataframe\">\n",
       "  <thead>\n",
       "    <tr style=\"text-align: right;\">\n",
       "      <th></th>\n",
       "      <th>UserID</th>\n",
       "      <th>Signup Date</th>\n",
       "      <th>User Segment</th>\n",
       "      <th>Day</th>\n",
       "    </tr>\n",
       "  </thead>\n",
       "  <tbody>\n",
       "    <tr>\n",
       "      <th>0</th>\n",
       "      <td>U133159</td>\n",
       "      <td>2018-04-14</td>\n",
       "      <td>C</td>\n",
       "      <td>2018-05-27</td>\n",
       "    </tr>\n",
       "    <tr>\n",
       "      <th>1</th>\n",
       "      <td>U129368</td>\n",
       "      <td>2017-12-02</td>\n",
       "      <td>B</td>\n",
       "      <td>2018-05-27</td>\n",
       "    </tr>\n",
       "    <tr>\n",
       "      <th>2</th>\n",
       "      <td>U109654</td>\n",
       "      <td>2013-03-19</td>\n",
       "      <td>B</td>\n",
       "      <td>2018-05-27</td>\n",
       "    </tr>\n",
       "    <tr>\n",
       "      <th>3</th>\n",
       "      <td>U108998</td>\n",
       "      <td>2018-01-18</td>\n",
       "      <td>C</td>\n",
       "      <td>2018-05-27</td>\n",
       "    </tr>\n",
       "    <tr>\n",
       "      <th>4</th>\n",
       "      <td>U131393</td>\n",
       "      <td>2018-03-27</td>\n",
       "      <td>B</td>\n",
       "      <td>2018-05-27</td>\n",
       "    </tr>\n",
       "  </tbody>\n",
       "</table>\n",
       "</div>"
      ],
      "text/plain": [
       "    UserID Signup Date User Segment        Day\n",
       "0  U133159  2018-04-14            C 2018-05-27\n",
       "1  U129368  2017-12-02            B 2018-05-27\n",
       "2  U109654  2013-03-19            B 2018-05-27\n",
       "3  U108998  2018-01-18            C 2018-05-27\n",
       "4  U131393  2018-03-27            B 2018-05-27"
      ]
     },
     "execution_count": 185,
     "metadata": {},
     "output_type": "execute_result"
    }
   ],
   "source": [
    "usertable['Day'] = '2018-05-27'\n",
    "usertable['Day'] = pd.to_datetime(usertable['Day'])\n",
    "usertable.head()"
   ]
  },
  {
   "cell_type": "code",
   "execution_count": 186,
   "id": "afb05de8",
   "metadata": {},
   "outputs": [
    {
     "name": "stdout",
     "output_type": "stream",
     "text": [
      "<class 'pandas.core.frame.DataFrame'>\n",
      "RangeIndex: 34050 entries, 0 to 34049\n",
      "Data columns (total 4 columns):\n",
      " #   Column        Non-Null Count  Dtype         \n",
      "---  ------        --------------  -----         \n",
      " 0   UserID        34050 non-null  object        \n",
      " 1   Signup Date   34050 non-null  datetime64[ns]\n",
      " 2   User Segment  34050 non-null  object        \n",
      " 3   Day           34050 non-null  datetime64[ns]\n",
      "dtypes: datetime64[ns](2), object(2)\n",
      "memory usage: 1.0+ MB\n"
     ]
    }
   ],
   "source": [
    "usertable.info()"
   ]
  },
  {
   "cell_type": "code",
   "execution_count": 187,
   "id": "13320699",
   "metadata": {},
   "outputs": [
    {
     "data": {
      "text/html": [
       "<div>\n",
       "<style scoped>\n",
       "    .dataframe tbody tr th:only-of-type {\n",
       "        vertical-align: middle;\n",
       "    }\n",
       "\n",
       "    .dataframe tbody tr th {\n",
       "        vertical-align: top;\n",
       "    }\n",
       "\n",
       "    .dataframe thead th {\n",
       "        text-align: right;\n",
       "    }\n",
       "</style>\n",
       "<table border=\"1\" class=\"dataframe\">\n",
       "  <thead>\n",
       "    <tr style=\"text-align: right;\">\n",
       "      <th></th>\n",
       "      <th>UserID</th>\n",
       "      <th>Signup Date</th>\n",
       "      <th>User Segment</th>\n",
       "      <th>Day</th>\n",
       "      <th>Vintage</th>\n",
       "    </tr>\n",
       "  </thead>\n",
       "  <tbody>\n",
       "    <tr>\n",
       "      <th>0</th>\n",
       "      <td>U133159</td>\n",
       "      <td>2018-04-14</td>\n",
       "      <td>C</td>\n",
       "      <td>2018-05-27</td>\n",
       "      <td>43</td>\n",
       "    </tr>\n",
       "    <tr>\n",
       "      <th>1</th>\n",
       "      <td>U129368</td>\n",
       "      <td>2017-12-02</td>\n",
       "      <td>B</td>\n",
       "      <td>2018-05-27</td>\n",
       "      <td>176</td>\n",
       "    </tr>\n",
       "    <tr>\n",
       "      <th>2</th>\n",
       "      <td>U109654</td>\n",
       "      <td>2013-03-19</td>\n",
       "      <td>B</td>\n",
       "      <td>2018-05-27</td>\n",
       "      <td>1895</td>\n",
       "    </tr>\n",
       "    <tr>\n",
       "      <th>3</th>\n",
       "      <td>U108998</td>\n",
       "      <td>2018-01-18</td>\n",
       "      <td>C</td>\n",
       "      <td>2018-05-27</td>\n",
       "      <td>129</td>\n",
       "    </tr>\n",
       "    <tr>\n",
       "      <th>4</th>\n",
       "      <td>U131393</td>\n",
       "      <td>2018-03-27</td>\n",
       "      <td>B</td>\n",
       "      <td>2018-05-27</td>\n",
       "      <td>61</td>\n",
       "    </tr>\n",
       "  </tbody>\n",
       "</table>\n",
       "</div>"
      ],
      "text/plain": [
       "    UserID Signup Date User Segment        Day  Vintage\n",
       "0  U133159  2018-04-14            C 2018-05-27       43\n",
       "1  U129368  2017-12-02            B 2018-05-27      176\n",
       "2  U109654  2013-03-19            B 2018-05-27     1895\n",
       "3  U108998  2018-01-18            C 2018-05-27      129\n",
       "4  U131393  2018-03-27            B 2018-05-27       61"
      ]
     },
     "execution_count": 187,
     "metadata": {},
     "output_type": "execute_result"
    }
   ],
   "source": [
    "usertable['Vintage'] = (usertable['Day'] - usertable['Signup Date']).dt.days\n",
    "usertable.head()"
   ]
  },
  {
   "cell_type": "code",
   "execution_count": 188,
   "id": "0a2bfd18",
   "metadata": {},
   "outputs": [
    {
     "data": {
      "text/plain": [
       "UserID\n",
       "U133159      43\n",
       "U129368     176\n",
       "U109654    1895\n",
       "U108998     129\n",
       "U131393      61\n",
       "           ... \n",
       "U134073      69\n",
       "U113667      88\n",
       "U128470      84\n",
       "U104005     125\n",
       "U125524     166\n",
       "Length: 34050, dtype: int64"
      ]
     },
     "execution_count": 188,
     "metadata": {},
     "output_type": "execute_result"
    }
   ],
   "source": [
    "vintage = pd.Series(usertable['Vintage'].values, index = usertable['UserID'])\n",
    "vintage"
   ]
  },
  {
   "cell_type": "code",
   "execution_count": 189,
   "id": "5bc8657a",
   "metadata": {},
   "outputs": [
    {
     "data": {
      "text/plain": [
       "32423    52\n",
       "Name: Vintage, dtype: int64"
      ]
     },
     "execution_count": 189,
     "metadata": {},
     "output_type": "execute_result"
    }
   ],
   "source": [
    "usertable[usertable['UserID'] == 'U100002']['Vintage']"
   ]
  },
  {
   "cell_type": "markdown",
   "id": "9bd6c439",
   "metadata": {},
   "source": [
    "----------"
   ]
  },
  {
   "cell_type": "raw",
   "id": "e26544dd",
   "metadata": {},
   "source": [
    "Most_Viewed_product_15_Days"
   ]
  },
  {
   "cell_type": "code",
   "execution_count": 190,
   "id": "a55c8b42",
   "metadata": {},
   "outputs": [],
   "source": [
    "vat = final_df[(final_df['Activity'] == 'pageload') & (final_df['day'] >= 13) & (final_df['day'] <= 27)]\n",
    "wat = vat.sort_values(by = ['UserID', 'day'], axis = 0)"
   ]
  },
  {
   "cell_type": "code",
   "execution_count": 191,
   "id": "76d5d079",
   "metadata": {},
   "outputs": [],
   "source": [
    "xat = wat.loc[wat.groupby('UserID').day.idxmax()]"
   ]
  },
  {
   "cell_type": "code",
   "execution_count": 192,
   "id": "fdaff0c5",
   "metadata": {},
   "outputs": [
    {
     "data": {
      "text/plain": [
       "pandas.core.frame.DataFrame"
      ]
     },
     "execution_count": 192,
     "metadata": {},
     "output_type": "execute_result"
    }
   ],
   "source": [
    "type(xat)"
   ]
  },
  {
   "cell_type": "code",
   "execution_count": 193,
   "id": "37feeffe",
   "metadata": {},
   "outputs": [
    {
     "data": {
      "text/html": [
       "<div>\n",
       "<style scoped>\n",
       "    .dataframe tbody tr th:only-of-type {\n",
       "        vertical-align: middle;\n",
       "    }\n",
       "\n",
       "    .dataframe tbody tr th {\n",
       "        vertical-align: top;\n",
       "    }\n",
       "\n",
       "    .dataframe thead th {\n",
       "        text-align: right;\n",
       "    }\n",
       "</style>\n",
       "<table border=\"1\" class=\"dataframe\">\n",
       "  <thead>\n",
       "    <tr style=\"text-align: right;\">\n",
       "      <th></th>\n",
       "      <th>webClientID</th>\n",
       "      <th>VisitDateTime</th>\n",
       "      <th>ProductID</th>\n",
       "      <th>UserID</th>\n",
       "      <th>Activity</th>\n",
       "      <th>Browser</th>\n",
       "      <th>OS</th>\n",
       "      <th>day</th>\n",
       "      <th>month</th>\n",
       "      <th>year</th>\n",
       "    </tr>\n",
       "  </thead>\n",
       "  <tbody>\n",
       "    <tr>\n",
       "      <th>3452388</th>\n",
       "      <td>WI10000020634</td>\n",
       "      <td>2018-05-18 00:00:00</td>\n",
       "      <td>Pr100258</td>\n",
       "      <td>U100002</td>\n",
       "      <td>pageload</td>\n",
       "      <td>Chrome Mobile</td>\n",
       "      <td>Android</td>\n",
       "      <td>18</td>\n",
       "      <td>5</td>\n",
       "      <td>2018</td>\n",
       "    </tr>\n",
       "    <tr>\n",
       "      <th>5811371</th>\n",
       "      <td>WI10000020634</td>\n",
       "      <td>2018-05-18 00:00:00</td>\n",
       "      <td>Pr100258</td>\n",
       "      <td>U100002</td>\n",
       "      <td>pageload</td>\n",
       "      <td>Chrome Mobile</td>\n",
       "      <td>Android</td>\n",
       "      <td>18</td>\n",
       "      <td>5</td>\n",
       "      <td>2018</td>\n",
       "    </tr>\n",
       "    <tr>\n",
       "      <th>713909</th>\n",
       "      <td>WI100000392911</td>\n",
       "      <td>2018-05-25 00:00:00</td>\n",
       "      <td>Pr100079</td>\n",
       "      <td>U100003</td>\n",
       "      <td>pageload</td>\n",
       "      <td>Chrome</td>\n",
       "      <td>Windows</td>\n",
       "      <td>25</td>\n",
       "      <td>5</td>\n",
       "      <td>2018</td>\n",
       "    </tr>\n",
       "    <tr>\n",
       "      <th>4417545</th>\n",
       "      <td>WI10000097797</td>\n",
       "      <td>2018-05-13 00:00:00</td>\n",
       "      <td>Pr100694</td>\n",
       "      <td>U100004</td>\n",
       "      <td>pageload</td>\n",
       "      <td>Chrome</td>\n",
       "      <td>Windows</td>\n",
       "      <td>13</td>\n",
       "      <td>5</td>\n",
       "      <td>2018</td>\n",
       "    </tr>\n",
       "    <tr>\n",
       "      <th>1234954</th>\n",
       "      <td>WI10000097797</td>\n",
       "      <td>2018-05-15 13:41:57</td>\n",
       "      <td>Pr100312</td>\n",
       "      <td>U100004</td>\n",
       "      <td>pageload</td>\n",
       "      <td>Chrome</td>\n",
       "      <td>Windows</td>\n",
       "      <td>15</td>\n",
       "      <td>5</td>\n",
       "      <td>2018</td>\n",
       "    </tr>\n",
       "    <tr>\n",
       "      <th>...</th>\n",
       "      <td>...</td>\n",
       "      <td>...</td>\n",
       "      <td>...</td>\n",
       "      <td>...</td>\n",
       "      <td>...</td>\n",
       "      <td>...</td>\n",
       "      <td>...</td>\n",
       "      <td>...</td>\n",
       "      <td>...</td>\n",
       "      <td>...</td>\n",
       "    </tr>\n",
       "    <tr>\n",
       "      <th>6587122</th>\n",
       "      <td>WI100000474986</td>\n",
       "      <td>2018-05-27 00:00:00</td>\n",
       "      <td>pr100025</td>\n",
       "      <td>Unknown</td>\n",
       "      <td>pageload</td>\n",
       "      <td>Chrome Mobile</td>\n",
       "      <td>Android</td>\n",
       "      <td>27</td>\n",
       "      <td>5</td>\n",
       "      <td>2018</td>\n",
       "    </tr>\n",
       "    <tr>\n",
       "      <th>6587468</th>\n",
       "      <td>WI10000069675</td>\n",
       "      <td>2018-05-27 00:00:00</td>\n",
       "      <td>Pr100017</td>\n",
       "      <td>Unknown</td>\n",
       "      <td>pageload</td>\n",
       "      <td>Opera Mobile</td>\n",
       "      <td>android</td>\n",
       "      <td>27</td>\n",
       "      <td>5</td>\n",
       "      <td>2018</td>\n",
       "    </tr>\n",
       "    <tr>\n",
       "      <th>6587535</th>\n",
       "      <td>WI100000278440</td>\n",
       "      <td>2018-05-27 00:00:00</td>\n",
       "      <td>pr100910</td>\n",
       "      <td>Unknown</td>\n",
       "      <td>pageload</td>\n",
       "      <td>Safari</td>\n",
       "      <td>Mac OS X</td>\n",
       "      <td>27</td>\n",
       "      <td>5</td>\n",
       "      <td>2018</td>\n",
       "    </tr>\n",
       "    <tr>\n",
       "      <th>6587592</th>\n",
       "      <td>WI100000413350</td>\n",
       "      <td>2018-05-27 00:00:00</td>\n",
       "      <td>Pr100017</td>\n",
       "      <td>Unknown</td>\n",
       "      <td>pageload</td>\n",
       "      <td>Chrome</td>\n",
       "      <td>Windows</td>\n",
       "      <td>27</td>\n",
       "      <td>5</td>\n",
       "      <td>2018</td>\n",
       "    </tr>\n",
       "    <tr>\n",
       "      <th>6587869</th>\n",
       "      <td>WI100000576056</td>\n",
       "      <td>2018-05-27 00:00:00</td>\n",
       "      <td>Unknown</td>\n",
       "      <td>Unknown</td>\n",
       "      <td>pageload</td>\n",
       "      <td>Firefox</td>\n",
       "      <td>Ubuntu</td>\n",
       "      <td>27</td>\n",
       "      <td>5</td>\n",
       "      <td>2018</td>\n",
       "    </tr>\n",
       "  </tbody>\n",
       "</table>\n",
       "<p>1105037 rows × 10 columns</p>\n",
       "</div>"
      ],
      "text/plain": [
       "            webClientID       VisitDateTime ProductID   UserID  Activity  \\\n",
       "3452388   WI10000020634 2018-05-18 00:00:00  Pr100258  U100002  pageload   \n",
       "5811371   WI10000020634 2018-05-18 00:00:00  Pr100258  U100002  pageload   \n",
       "713909   WI100000392911 2018-05-25 00:00:00  Pr100079  U100003  pageload   \n",
       "4417545   WI10000097797 2018-05-13 00:00:00  Pr100694  U100004  pageload   \n",
       "1234954   WI10000097797 2018-05-15 13:41:57  Pr100312  U100004  pageload   \n",
       "...                 ...                 ...       ...      ...       ...   \n",
       "6587122  WI100000474986 2018-05-27 00:00:00  pr100025  Unknown  pageload   \n",
       "6587468   WI10000069675 2018-05-27 00:00:00  Pr100017  Unknown  pageload   \n",
       "6587535  WI100000278440 2018-05-27 00:00:00  pr100910  Unknown  pageload   \n",
       "6587592  WI100000413350 2018-05-27 00:00:00  Pr100017  Unknown  pageload   \n",
       "6587869  WI100000576056 2018-05-27 00:00:00   Unknown  Unknown  pageload   \n",
       "\n",
       "               Browser        OS  day  month  year  \n",
       "3452388  Chrome Mobile   Android   18      5  2018  \n",
       "5811371  Chrome Mobile   Android   18      5  2018  \n",
       "713909          Chrome   Windows   25      5  2018  \n",
       "4417545         Chrome   Windows   13      5  2018  \n",
       "1234954         Chrome   Windows   15      5  2018  \n",
       "...                ...       ...  ...    ...   ...  \n",
       "6587122  Chrome Mobile   Android   27      5  2018  \n",
       "6587468   Opera Mobile   android   27      5  2018  \n",
       "6587535         Safari  Mac OS X   27      5  2018  \n",
       "6587592         Chrome   Windows   27      5  2018  \n",
       "6587869        Firefox    Ubuntu   27      5  2018  \n",
       "\n",
       "[1105037 rows x 10 columns]"
      ]
     },
     "execution_count": 193,
     "metadata": {},
     "output_type": "execute_result"
    }
   ],
   "source": [
    "wat"
   ]
  },
  {
   "cell_type": "code",
   "execution_count": 194,
   "id": "375bfac0",
   "metadata": {},
   "outputs": [
    {
     "data": {
      "text/html": [
       "<div>\n",
       "<style scoped>\n",
       "    .dataframe tbody tr th:only-of-type {\n",
       "        vertical-align: middle;\n",
       "    }\n",
       "\n",
       "    .dataframe tbody tr th {\n",
       "        vertical-align: top;\n",
       "    }\n",
       "\n",
       "    .dataframe thead th {\n",
       "        text-align: right;\n",
       "    }\n",
       "</style>\n",
       "<table border=\"1\" class=\"dataframe\">\n",
       "  <thead>\n",
       "    <tr style=\"text-align: right;\">\n",
       "      <th></th>\n",
       "      <th>webClientID</th>\n",
       "      <th>VisitDateTime</th>\n",
       "      <th>ProductID</th>\n",
       "      <th>UserID</th>\n",
       "      <th>Activity</th>\n",
       "      <th>Browser</th>\n",
       "      <th>OS</th>\n",
       "      <th>day</th>\n",
       "      <th>month</th>\n",
       "      <th>year</th>\n",
       "    </tr>\n",
       "  </thead>\n",
       "  <tbody>\n",
       "    <tr>\n",
       "      <th>3452388</th>\n",
       "      <td>WI10000020634</td>\n",
       "      <td>2018-05-18</td>\n",
       "      <td>Pr100258</td>\n",
       "      <td>U100002</td>\n",
       "      <td>pageload</td>\n",
       "      <td>Chrome Mobile</td>\n",
       "      <td>Android</td>\n",
       "      <td>18</td>\n",
       "      <td>5</td>\n",
       "      <td>2018</td>\n",
       "    </tr>\n",
       "    <tr>\n",
       "      <th>713909</th>\n",
       "      <td>WI100000392911</td>\n",
       "      <td>2018-05-25</td>\n",
       "      <td>Pr100079</td>\n",
       "      <td>U100003</td>\n",
       "      <td>pageload</td>\n",
       "      <td>Chrome</td>\n",
       "      <td>Windows</td>\n",
       "      <td>25</td>\n",
       "      <td>5</td>\n",
       "      <td>2018</td>\n",
       "    </tr>\n",
       "    <tr>\n",
       "      <th>1408972</th>\n",
       "      <td>WI10000097797</td>\n",
       "      <td>2018-05-21</td>\n",
       "      <td>Pr100753</td>\n",
       "      <td>U100004</td>\n",
       "      <td>pageload</td>\n",
       "      <td>Chrome</td>\n",
       "      <td>Windows</td>\n",
       "      <td>21</td>\n",
       "      <td>5</td>\n",
       "      <td>2018</td>\n",
       "    </tr>\n",
       "    <tr>\n",
       "      <th>3654129</th>\n",
       "      <td>WI10000099284</td>\n",
       "      <td>2018-05-26</td>\n",
       "      <td>Pr100234</td>\n",
       "      <td>U100005</td>\n",
       "      <td>pageload</td>\n",
       "      <td>Chrome</td>\n",
       "      <td>Android</td>\n",
       "      <td>26</td>\n",
       "      <td>5</td>\n",
       "      <td>2018</td>\n",
       "    </tr>\n",
       "    <tr>\n",
       "      <th>5832241</th>\n",
       "      <td>WI1000001090210</td>\n",
       "      <td>2018-05-21</td>\n",
       "      <td>Pr101111</td>\n",
       "      <td>U100006</td>\n",
       "      <td>pageload</td>\n",
       "      <td>Chrome Mobile</td>\n",
       "      <td>Android</td>\n",
       "      <td>21</td>\n",
       "      <td>5</td>\n",
       "      <td>2018</td>\n",
       "    </tr>\n",
       "  </tbody>\n",
       "</table>\n",
       "</div>"
      ],
      "text/plain": [
       "             webClientID VisitDateTime ProductID   UserID  Activity  \\\n",
       "3452388    WI10000020634    2018-05-18  Pr100258  U100002  pageload   \n",
       "713909    WI100000392911    2018-05-25  Pr100079  U100003  pageload   \n",
       "1408972    WI10000097797    2018-05-21  Pr100753  U100004  pageload   \n",
       "3654129    WI10000099284    2018-05-26  Pr100234  U100005  pageload   \n",
       "5832241  WI1000001090210    2018-05-21  Pr101111  U100006  pageload   \n",
       "\n",
       "               Browser       OS  day  month  year  \n",
       "3452388  Chrome Mobile  Android   18      5  2018  \n",
       "713909          Chrome  Windows   25      5  2018  \n",
       "1408972         Chrome  Windows   21      5  2018  \n",
       "3654129         Chrome  Android   26      5  2018  \n",
       "5832241  Chrome Mobile  Android   21      5  2018  "
      ]
     },
     "execution_count": 194,
     "metadata": {},
     "output_type": "execute_result"
    }
   ],
   "source": [
    "xat.head()"
   ]
  },
  {
   "cell_type": "code",
   "execution_count": 195,
   "id": "c71334ba",
   "metadata": {},
   "outputs": [
    {
     "data": {
      "text/plain": [
       "UserID\n",
       "U100002    Pr100258\n",
       "U100003    Pr100079\n",
       "U100004    Pr100753\n",
       "U100005    Pr100234\n",
       "U100006    Pr101111\n",
       "             ...   \n",
       "U136934    Pr100130\n",
       "U136936    Pr100003\n",
       "U136940    Pr100432\n",
       "U136949    Pr100083\n",
       "Unknown    Pr100017\n",
       "Length: 22442, dtype: object"
      ]
     },
     "execution_count": 195,
     "metadata": {},
     "output_type": "execute_result"
    }
   ],
   "source": [
    "yat = pd.Series(xat['ProductID'].values, index = xat['UserID'])\n",
    "yat"
   ]
  },
  {
   "cell_type": "markdown",
   "id": "e8f970c2",
   "metadata": {},
   "source": [
    "------------"
   ]
  },
  {
   "cell_type": "raw",
   "id": "ec90d5a0",
   "metadata": {},
   "source": [
    "Most_Active_OS"
   ]
  },
  {
   "cell_type": "code",
   "execution_count": 196,
   "id": "b35d044d",
   "metadata": {},
   "outputs": [
    {
     "data": {
      "text/plain": [
       "Windows          3948358\n",
       "Android           872324\n",
       "Mac OS X          771875\n",
       "Linux             310421\n",
       "windows           297555\n",
       "iOS               126011\n",
       "Ubuntu             83870\n",
       "android            65389\n",
       "mac os x           58040\n",
       "linux              23202\n",
       "Chrome OS           9353\n",
       "ios                 9346\n",
       "ubuntu              6314\n",
       "Fedora              3967\n",
       "Other                743\n",
       "chrome os            738\n",
       "fedora               303\n",
       "other                 53\n",
       "Windows Phone         46\n",
       "Tizen                 29\n",
       "FreeBSD               25\n",
       "OpenBSD                6\n",
       "Chromecast             6\n",
       "NetBSD                 6\n",
       "tizen                  5\n",
       "Solaris                5\n",
       "BlackBerry OS          3\n",
       "Kindle                 3\n",
       "freebsd                3\n",
       "solaris                1\n",
       "Name: OS, dtype: int64"
      ]
     },
     "execution_count": 196,
     "metadata": {},
     "output_type": "execute_result"
    }
   ],
   "source": [
    "final_df['OS'].value_counts()"
   ]
  },
  {
   "cell_type": "code",
   "execution_count": 197,
   "id": "92877f6b",
   "metadata": {},
   "outputs": [],
   "source": [
    "final_df['OS'] = final_df['OS'].replace({'Windows' : 'windows', 'Android' : 'android', 'Mac OS X' : 'mac os x', \n",
    "                                        'Linux' : 'linux', 'Chrome OS' : 'chrome os', 'Ubuntu': 'ubuntu',\n",
    "                                        'iOS' : 'ios'})"
   ]
  },
  {
   "cell_type": "code",
   "execution_count": 198,
   "id": "38a8c29c",
   "metadata": {},
   "outputs": [
    {
     "data": {
      "text/plain": [
       "windows          4245913\n",
       "android           937713\n",
       "mac os x          829915\n",
       "linux             333623\n",
       "ios               135357\n",
       "ubuntu             90184\n",
       "chrome os          10091\n",
       "Fedora              3967\n",
       "Other                743\n",
       "fedora               303\n",
       "other                 53\n",
       "Windows Phone         46\n",
       "Tizen                 29\n",
       "FreeBSD               25\n",
       "Chromecast             6\n",
       "OpenBSD                6\n",
       "NetBSD                 6\n",
       "tizen                  5\n",
       "Solaris                5\n",
       "freebsd                3\n",
       "BlackBerry OS          3\n",
       "Kindle                 3\n",
       "solaris                1\n",
       "Name: OS, dtype: int64"
      ]
     },
     "execution_count": 198,
     "metadata": {},
     "output_type": "execute_result"
    }
   ],
   "source": [
    "final_df['OS'].value_counts()"
   ]
  },
  {
   "cell_type": "code",
   "execution_count": 199,
   "id": "b3308772",
   "metadata": {},
   "outputs": [
    {
     "data": {
      "text/html": [
       "<div>\n",
       "<style scoped>\n",
       "    .dataframe tbody tr th:only-of-type {\n",
       "        vertical-align: middle;\n",
       "    }\n",
       "\n",
       "    .dataframe tbody tr th {\n",
       "        vertical-align: top;\n",
       "    }\n",
       "\n",
       "    .dataframe thead th {\n",
       "        text-align: right;\n",
       "    }\n",
       "</style>\n",
       "<table border=\"1\" class=\"dataframe\">\n",
       "  <thead>\n",
       "    <tr style=\"text-align: right;\">\n",
       "      <th></th>\n",
       "      <th>OS</th>\n",
       "    </tr>\n",
       "    <tr>\n",
       "      <th>UserID</th>\n",
       "      <th></th>\n",
       "    </tr>\n",
       "  </thead>\n",
       "  <tbody>\n",
       "    <tr>\n",
       "      <th>U100002</th>\n",
       "      <td>android</td>\n",
       "    </tr>\n",
       "    <tr>\n",
       "      <th>U100003</th>\n",
       "      <td>windows</td>\n",
       "    </tr>\n",
       "    <tr>\n",
       "      <th>U100004</th>\n",
       "      <td>windows</td>\n",
       "    </tr>\n",
       "    <tr>\n",
       "      <th>U100005</th>\n",
       "      <td>android</td>\n",
       "    </tr>\n",
       "    <tr>\n",
       "      <th>U100006</th>\n",
       "      <td>android</td>\n",
       "    </tr>\n",
       "    <tr>\n",
       "      <th>...</th>\n",
       "      <td>...</td>\n",
       "    </tr>\n",
       "    <tr>\n",
       "      <th>U136961</th>\n",
       "      <td>android</td>\n",
       "    </tr>\n",
       "    <tr>\n",
       "      <th>U136963</th>\n",
       "      <td>android</td>\n",
       "    </tr>\n",
       "    <tr>\n",
       "      <th>U136964</th>\n",
       "      <td>windows</td>\n",
       "    </tr>\n",
       "    <tr>\n",
       "      <th>U136965</th>\n",
       "      <td>android</td>\n",
       "    </tr>\n",
       "    <tr>\n",
       "      <th>Unknown</th>\n",
       "      <td>windows</td>\n",
       "    </tr>\n",
       "  </tbody>\n",
       "</table>\n",
       "<p>34051 rows × 1 columns</p>\n",
       "</div>"
      ],
      "text/plain": [
       "              OS\n",
       "UserID          \n",
       "U100002  android\n",
       "U100003  windows\n",
       "U100004  windows\n",
       "U100005  android\n",
       "U100006  android\n",
       "...          ...\n",
       "U136961  android\n",
       "U136963  android\n",
       "U136964  windows\n",
       "U136965  android\n",
       "Unknown  windows\n",
       "\n",
       "[34051 rows x 1 columns]"
      ]
     },
     "execution_count": 199,
     "metadata": {},
     "output_type": "execute_result"
    }
   ],
   "source": [
    "os = final_df.groupby('UserID')['OS'].agg(pd.Series.mode).to_frame()\n",
    "os"
   ]
  },
  {
   "cell_type": "code",
   "execution_count": 200,
   "id": "25cb93d3",
   "metadata": {},
   "outputs": [
    {
     "data": {
      "text/html": [
       "<div>\n",
       "<style scoped>\n",
       "    .dataframe tbody tr th:only-of-type {\n",
       "        vertical-align: middle;\n",
       "    }\n",
       "\n",
       "    .dataframe tbody tr th {\n",
       "        vertical-align: top;\n",
       "    }\n",
       "\n",
       "    .dataframe thead th {\n",
       "        text-align: right;\n",
       "    }\n",
       "</style>\n",
       "<table border=\"1\" class=\"dataframe\">\n",
       "  <thead>\n",
       "    <tr style=\"text-align: right;\">\n",
       "      <th></th>\n",
       "      <th>UserID</th>\n",
       "      <th>OS</th>\n",
       "    </tr>\n",
       "  </thead>\n",
       "  <tbody>\n",
       "    <tr>\n",
       "      <th>0</th>\n",
       "      <td>U100002</td>\n",
       "      <td>android</td>\n",
       "    </tr>\n",
       "    <tr>\n",
       "      <th>1</th>\n",
       "      <td>U100003</td>\n",
       "      <td>windows</td>\n",
       "    </tr>\n",
       "    <tr>\n",
       "      <th>2</th>\n",
       "      <td>U100004</td>\n",
       "      <td>windows</td>\n",
       "    </tr>\n",
       "    <tr>\n",
       "      <th>3</th>\n",
       "      <td>U100005</td>\n",
       "      <td>android</td>\n",
       "    </tr>\n",
       "    <tr>\n",
       "      <th>4</th>\n",
       "      <td>U100006</td>\n",
       "      <td>android</td>\n",
       "    </tr>\n",
       "  </tbody>\n",
       "</table>\n",
       "</div>"
      ],
      "text/plain": [
       "    UserID       OS\n",
       "0  U100002  android\n",
       "1  U100003  windows\n",
       "2  U100004  windows\n",
       "3  U100005  android\n",
       "4  U100006  android"
      ]
     },
     "execution_count": 200,
     "metadata": {},
     "output_type": "execute_result"
    }
   ],
   "source": [
    "os = os.reset_index('UserID')\n",
    "os.head()"
   ]
  },
  {
   "cell_type": "code",
   "execution_count": 201,
   "id": "fa4c0cb1",
   "metadata": {},
   "outputs": [
    {
     "data": {
      "text/plain": [
       "UserID\n",
       "U100002    android\n",
       "U100003    windows\n",
       "U100004    windows\n",
       "U100005    android\n",
       "U100006    android\n",
       "            ...   \n",
       "U136961    android\n",
       "U136963    android\n",
       "U136964    windows\n",
       "U136965    android\n",
       "Unknown    windows\n",
       "Length: 34051, dtype: object"
      ]
     },
     "execution_count": 201,
     "metadata": {},
     "output_type": "execute_result"
    }
   ],
   "source": [
    "os1 = pd.Series(os['OS'].values, index= os['UserID'])\n",
    "os1"
   ]
  },
  {
   "cell_type": "code",
   "execution_count": 202,
   "id": "acddfdf9",
   "metadata": {},
   "outputs": [
    {
     "data": {
      "text/plain": [
       "android    5\n",
       "Name: OS, dtype: int64"
      ]
     },
     "execution_count": 202,
     "metadata": {},
     "output_type": "execute_result"
    }
   ],
   "source": [
    "test = final_df[final_df['UserID'] == 'U100002']\n",
    "test['OS'].value_counts()"
   ]
  },
  {
   "cell_type": "markdown",
   "id": "54903d0b",
   "metadata": {},
   "source": [
    "------------------"
   ]
  },
  {
   "cell_type": "raw",
   "id": "dac807ad",
   "metadata": {},
   "source": [
    "Recently_Viewed_Product"
   ]
  },
  {
   "cell_type": "code",
   "execution_count": 203,
   "id": "1df26aeb",
   "metadata": {},
   "outputs": [],
   "source": [
    "v = final_df[(final_df['Activity'] == 'pageload')]\n",
    "w = v.sort_values(by = ['UserID', 'day'], axis = 0)"
   ]
  },
  {
   "cell_type": "code",
   "execution_count": 204,
   "id": "e0c28e08",
   "metadata": {},
   "outputs": [],
   "source": [
    "x = w.loc[w.groupby('UserID').day.idxmax()]"
   ]
  },
  {
   "cell_type": "code",
   "execution_count": 205,
   "id": "e5cdf11e",
   "metadata": {},
   "outputs": [
    {
     "data": {
      "text/plain": [
       "pandas.core.frame.DataFrame"
      ]
     },
     "execution_count": 205,
     "metadata": {},
     "output_type": "execute_result"
    }
   ],
   "source": [
    "type(x)"
   ]
  },
  {
   "cell_type": "code",
   "execution_count": 206,
   "id": "d8af20bf",
   "metadata": {},
   "outputs": [
    {
     "data": {
      "text/html": [
       "<div>\n",
       "<style scoped>\n",
       "    .dataframe tbody tr th:only-of-type {\n",
       "        vertical-align: middle;\n",
       "    }\n",
       "\n",
       "    .dataframe tbody tr th {\n",
       "        vertical-align: top;\n",
       "    }\n",
       "\n",
       "    .dataframe thead th {\n",
       "        text-align: right;\n",
       "    }\n",
       "</style>\n",
       "<table border=\"1\" class=\"dataframe\">\n",
       "  <thead>\n",
       "    <tr style=\"text-align: right;\">\n",
       "      <th></th>\n",
       "      <th>webClientID</th>\n",
       "      <th>VisitDateTime</th>\n",
       "      <th>ProductID</th>\n",
       "      <th>UserID</th>\n",
       "      <th>Activity</th>\n",
       "      <th>Browser</th>\n",
       "      <th>OS</th>\n",
       "      <th>day</th>\n",
       "      <th>month</th>\n",
       "      <th>year</th>\n",
       "    </tr>\n",
       "  </thead>\n",
       "  <tbody>\n",
       "    <tr>\n",
       "      <th>3452388</th>\n",
       "      <td>WI10000020634</td>\n",
       "      <td>2018-05-18</td>\n",
       "      <td>Pr100258</td>\n",
       "      <td>U100002</td>\n",
       "      <td>pageload</td>\n",
       "      <td>Chrome Mobile</td>\n",
       "      <td>android</td>\n",
       "      <td>18</td>\n",
       "      <td>5</td>\n",
       "      <td>2018</td>\n",
       "    </tr>\n",
       "    <tr>\n",
       "      <th>713909</th>\n",
       "      <td>WI100000392911</td>\n",
       "      <td>2018-05-25</td>\n",
       "      <td>Pr100079</td>\n",
       "      <td>U100003</td>\n",
       "      <td>pageload</td>\n",
       "      <td>Chrome</td>\n",
       "      <td>windows</td>\n",
       "      <td>25</td>\n",
       "      <td>5</td>\n",
       "      <td>2018</td>\n",
       "    </tr>\n",
       "    <tr>\n",
       "      <th>1408972</th>\n",
       "      <td>WI10000097797</td>\n",
       "      <td>2018-05-21</td>\n",
       "      <td>Pr100753</td>\n",
       "      <td>U100004</td>\n",
       "      <td>pageload</td>\n",
       "      <td>Chrome</td>\n",
       "      <td>windows</td>\n",
       "      <td>21</td>\n",
       "      <td>5</td>\n",
       "      <td>2018</td>\n",
       "    </tr>\n",
       "    <tr>\n",
       "      <th>3654129</th>\n",
       "      <td>WI10000099284</td>\n",
       "      <td>2018-05-26</td>\n",
       "      <td>Pr100234</td>\n",
       "      <td>U100005</td>\n",
       "      <td>pageload</td>\n",
       "      <td>Chrome</td>\n",
       "      <td>android</td>\n",
       "      <td>26</td>\n",
       "      <td>5</td>\n",
       "      <td>2018</td>\n",
       "    </tr>\n",
       "    <tr>\n",
       "      <th>5832241</th>\n",
       "      <td>WI1000001090210</td>\n",
       "      <td>2018-05-21</td>\n",
       "      <td>Pr101111</td>\n",
       "      <td>U100006</td>\n",
       "      <td>pageload</td>\n",
       "      <td>Chrome Mobile</td>\n",
       "      <td>android</td>\n",
       "      <td>21</td>\n",
       "      <td>5</td>\n",
       "      <td>2018</td>\n",
       "    </tr>\n",
       "  </tbody>\n",
       "</table>\n",
       "</div>"
      ],
      "text/plain": [
       "             webClientID VisitDateTime ProductID   UserID  Activity  \\\n",
       "3452388    WI10000020634    2018-05-18  Pr100258  U100002  pageload   \n",
       "713909    WI100000392911    2018-05-25  Pr100079  U100003  pageload   \n",
       "1408972    WI10000097797    2018-05-21  Pr100753  U100004  pageload   \n",
       "3654129    WI10000099284    2018-05-26  Pr100234  U100005  pageload   \n",
       "5832241  WI1000001090210    2018-05-21  Pr101111  U100006  pageload   \n",
       "\n",
       "               Browser       OS  day  month  year  \n",
       "3452388  Chrome Mobile  android   18      5  2018  \n",
       "713909          Chrome  windows   25      5  2018  \n",
       "1408972         Chrome  windows   21      5  2018  \n",
       "3654129         Chrome  android   26      5  2018  \n",
       "5832241  Chrome Mobile  android   21      5  2018  "
      ]
     },
     "execution_count": 206,
     "metadata": {},
     "output_type": "execute_result"
    }
   ],
   "source": [
    "x.head()"
   ]
  },
  {
   "cell_type": "code",
   "execution_count": 207,
   "id": "a1385168",
   "metadata": {},
   "outputs": [
    {
     "data": {
      "text/plain": [
       "UserID\n",
       "U100002    Pr100258\n",
       "U100003    Pr100079\n",
       "U100004    Pr100753\n",
       "U100005    Pr100234\n",
       "U100006    Pr101111\n",
       "             ...   \n",
       "U136959    pr100656\n",
       "U136961    Pr101381\n",
       "U136963    Pr100166\n",
       "U136965    Pr100709\n",
       "Unknown    Pr100017\n",
       "Length: 27827, dtype: object"
      ]
     },
     "execution_count": 207,
     "metadata": {},
     "output_type": "execute_result"
    }
   ],
   "source": [
    "y = pd.Series(x['ProductID'].values, index = x['UserID'])\n",
    "y"
   ]
  },
  {
   "cell_type": "markdown",
   "id": "9b49cc83",
   "metadata": {},
   "source": [
    "----------------------"
   ]
  },
  {
   "cell_type": "raw",
   "id": "5109a786",
   "metadata": {},
   "source": [
    "Pageloads_last_7_days"
   ]
  },
  {
   "cell_type": "code",
   "execution_count": 208,
   "id": "611730e1",
   "metadata": {},
   "outputs": [
    {
     "data": {
      "text/plain": [
       "click       3930485\n",
       "pageload    1517948\n",
       "CLICK        759590\n",
       "PAGELOAD     379977\n",
       "Name: Activity, dtype: int64"
      ]
     },
     "execution_count": 208,
     "metadata": {},
     "output_type": "execute_result"
    }
   ],
   "source": [
    "final_df['Activity'].value_counts()"
   ]
  },
  {
   "cell_type": "code",
   "execution_count": 209,
   "id": "d51638ac",
   "metadata": {},
   "outputs": [],
   "source": [
    "final_df['Activity'] = final_df['Activity'].replace({'CLICK': 'click', 'PAGELOAD' : 'pageload'})"
   ]
  },
  {
   "cell_type": "code",
   "execution_count": 210,
   "id": "b437736a",
   "metadata": {},
   "outputs": [
    {
     "data": {
      "text/plain": [
       "click       4690075\n",
       "pageload    1897925\n",
       "Name: Activity, dtype: int64"
      ]
     },
     "execution_count": 210,
     "metadata": {},
     "output_type": "execute_result"
    }
   ],
   "source": [
    "final_df['Activity'].value_counts()"
   ]
  },
  {
   "cell_type": "code",
   "execution_count": 211,
   "id": "d4f00b62",
   "metadata": {},
   "outputs": [],
   "source": [
    "p = final_df[(final_df['day'] >= 21) & (final_df['day'] <= 27) & (final_df['Activity'] == 'pageload')]"
   ]
  },
  {
   "cell_type": "code",
   "execution_count": 212,
   "id": "01647f85",
   "metadata": {},
   "outputs": [],
   "source": [
    "q = p.sort_values(by = ['UserID', 'Activity'], axis = 0)"
   ]
  },
  {
   "cell_type": "code",
   "execution_count": 213,
   "id": "8c97108d",
   "metadata": {},
   "outputs": [
    {
     "data": {
      "text/plain": [
       "UserID\n",
       "U100003         1\n",
       "U100004         3\n",
       "U100005         2\n",
       "U100006         1\n",
       "U100008        25\n",
       "            ...  \n",
       "U136936         1\n",
       "U136940         1\n",
       "U136949         1\n",
       "U136956         1\n",
       "Unknown    763307\n",
       "Name: Activity, Length: 18052, dtype: int64"
      ]
     },
     "execution_count": 213,
     "metadata": {},
     "output_type": "execute_result"
    }
   ],
   "source": [
    "r = q.groupby(by = 'UserID', axis = 0).count()['Activity']\n",
    "r"
   ]
  },
  {
   "cell_type": "markdown",
   "id": "4248325f",
   "metadata": {},
   "source": [
    "-------------"
   ]
  },
  {
   "cell_type": "raw",
   "id": "ced43f55",
   "metadata": {},
   "source": [
    "Clicks_last_7_days"
   ]
  },
  {
   "cell_type": "code",
   "execution_count": 214,
   "id": "21f88521",
   "metadata": {},
   "outputs": [
    {
     "data": {
      "text/plain": [
       "UserID\n",
       "U100003          2\n",
       "U100005          1\n",
       "U100007          1\n",
       "U100008         35\n",
       "U100009          7\n",
       "            ...   \n",
       "U136933          1\n",
       "U136949          1\n",
       "U136959          2\n",
       "U136963          2\n",
       "Unknown    1767631\n",
       "Name: Activity, Length: 17967, dtype: int64"
      ]
     },
     "execution_count": 214,
     "metadata": {},
     "output_type": "execute_result"
    }
   ],
   "source": [
    "s = final_df[(final_df['day'] >= 21) & (final_df['day'] <= 27) & (final_df['Activity'] == 'click')]\n",
    "t = s.sort_values(by = ['UserID', 'Activity'], axis = 0)\n",
    "u = t.groupby(by = 'UserID', axis = 0).count()['Activity']\n",
    "u"
   ]
  },
  {
   "cell_type": "markdown",
   "id": "dc3c093d",
   "metadata": {},
   "source": [
    "--------------"
   ]
  },
  {
   "cell_type": "code",
   "execution_count": 215,
   "id": "685a423d",
   "metadata": {},
   "outputs": [
    {
     "data": {
      "text/html": [
       "<div>\n",
       "<style scoped>\n",
       "    .dataframe tbody tr th:only-of-type {\n",
       "        vertical-align: middle;\n",
       "    }\n",
       "\n",
       "    .dataframe tbody tr th {\n",
       "        vertical-align: top;\n",
       "    }\n",
       "\n",
       "    .dataframe thead th {\n",
       "        text-align: right;\n",
       "    }\n",
       "</style>\n",
       "<table border=\"1\" class=\"dataframe\">\n",
       "  <thead>\n",
       "    <tr style=\"text-align: right;\">\n",
       "      <th></th>\n",
       "      <th>No_of_days_Visited_7_Days</th>\n",
       "      <th>No_Of_Products_Viewed_15_Days</th>\n",
       "      <th>User_Vintage</th>\n",
       "      <th>Most_Viewed_product_15_Days</th>\n",
       "      <th>Most_Active_OS</th>\n",
       "      <th>Recently_Viewed_Product</th>\n",
       "      <th>Pageloads_last_7_days</th>\n",
       "      <th>Clicks_last_7_days</th>\n",
       "    </tr>\n",
       "    <tr>\n",
       "      <th>UserID</th>\n",
       "      <th></th>\n",
       "      <th></th>\n",
       "      <th></th>\n",
       "      <th></th>\n",
       "      <th></th>\n",
       "      <th></th>\n",
       "      <th></th>\n",
       "      <th></th>\n",
       "    </tr>\n",
       "  </thead>\n",
       "  <tbody>\n",
       "    <tr>\n",
       "      <th>U100002</th>\n",
       "      <td>0.0</td>\n",
       "      <td>5.0</td>\n",
       "      <td>52.0</td>\n",
       "      <td>Pr100258</td>\n",
       "      <td>android</td>\n",
       "      <td>Pr100258</td>\n",
       "      <td>0.0</td>\n",
       "      <td>0.0</td>\n",
       "    </tr>\n",
       "    <tr>\n",
       "      <th>U100003</th>\n",
       "      <td>1.0</td>\n",
       "      <td>4.0</td>\n",
       "      <td>1020.0</td>\n",
       "      <td>Pr100079</td>\n",
       "      <td>windows</td>\n",
       "      <td>Pr100079</td>\n",
       "      <td>1.0</td>\n",
       "      <td>2.0</td>\n",
       "    </tr>\n",
       "    <tr>\n",
       "      <th>U100004</th>\n",
       "      <td>1.0</td>\n",
       "      <td>30.0</td>\n",
       "      <td>340.0</td>\n",
       "      <td>Pr100753</td>\n",
       "      <td>windows</td>\n",
       "      <td>Pr100753</td>\n",
       "      <td>3.0</td>\n",
       "      <td>0.0</td>\n",
       "    </tr>\n",
       "    <tr>\n",
       "      <th>U100005</th>\n",
       "      <td>2.0</td>\n",
       "      <td>5.0</td>\n",
       "      <td>680.0</td>\n",
       "      <td>Pr100234</td>\n",
       "      <td>android</td>\n",
       "      <td>Pr100234</td>\n",
       "      <td>2.0</td>\n",
       "      <td>1.0</td>\n",
       "    </tr>\n",
       "    <tr>\n",
       "      <th>U100006</th>\n",
       "      <td>1.0</td>\n",
       "      <td>1.0</td>\n",
       "      <td>54.0</td>\n",
       "      <td>Pr101111</td>\n",
       "      <td>android</td>\n",
       "      <td>Pr101111</td>\n",
       "      <td>1.0</td>\n",
       "      <td>0.0</td>\n",
       "    </tr>\n",
       "    <tr>\n",
       "      <th>...</th>\n",
       "      <td>...</td>\n",
       "      <td>...</td>\n",
       "      <td>...</td>\n",
       "      <td>...</td>\n",
       "      <td>...</td>\n",
       "      <td>...</td>\n",
       "      <td>...</td>\n",
       "      <td>...</td>\n",
       "    </tr>\n",
       "    <tr>\n",
       "      <th>U136961</th>\n",
       "      <td>0.0</td>\n",
       "      <td>0.0</td>\n",
       "      <td>59.0</td>\n",
       "      <td>Product101</td>\n",
       "      <td>android</td>\n",
       "      <td>Pr101381</td>\n",
       "      <td>0.0</td>\n",
       "      <td>0.0</td>\n",
       "    </tr>\n",
       "    <tr>\n",
       "      <th>U136963</th>\n",
       "      <td>1.0</td>\n",
       "      <td>2.0</td>\n",
       "      <td>1419.0</td>\n",
       "      <td>Product101</td>\n",
       "      <td>android</td>\n",
       "      <td>Pr100166</td>\n",
       "      <td>0.0</td>\n",
       "      <td>2.0</td>\n",
       "    </tr>\n",
       "    <tr>\n",
       "      <th>U136964</th>\n",
       "      <td>0.0</td>\n",
       "      <td>0.0</td>\n",
       "      <td>494.0</td>\n",
       "      <td>Product101</td>\n",
       "      <td>windows</td>\n",
       "      <td>Product101</td>\n",
       "      <td>0.0</td>\n",
       "      <td>0.0</td>\n",
       "    </tr>\n",
       "    <tr>\n",
       "      <th>U136965</th>\n",
       "      <td>0.0</td>\n",
       "      <td>0.0</td>\n",
       "      <td>242.0</td>\n",
       "      <td>Product101</td>\n",
       "      <td>android</td>\n",
       "      <td>Pr100709</td>\n",
       "      <td>0.0</td>\n",
       "      <td>0.0</td>\n",
       "    </tr>\n",
       "    <tr>\n",
       "      <th>Unknown</th>\n",
       "      <td>7.0</td>\n",
       "      <td>4364497.0</td>\n",
       "      <td>NaN</td>\n",
       "      <td>Pr100017</td>\n",
       "      <td>windows</td>\n",
       "      <td>Pr100017</td>\n",
       "      <td>763307.0</td>\n",
       "      <td>1767631.0</td>\n",
       "    </tr>\n",
       "  </tbody>\n",
       "</table>\n",
       "<p>34051 rows × 8 columns</p>\n",
       "</div>"
      ],
      "text/plain": [
       "         No_of_days_Visited_7_Days  No_Of_Products_Viewed_15_Days  \\\n",
       "UserID                                                              \n",
       "U100002                        0.0                            5.0   \n",
       "U100003                        1.0                            4.0   \n",
       "U100004                        1.0                           30.0   \n",
       "U100005                        2.0                            5.0   \n",
       "U100006                        1.0                            1.0   \n",
       "...                            ...                            ...   \n",
       "U136961                        0.0                            0.0   \n",
       "U136963                        1.0                            2.0   \n",
       "U136964                        0.0                            0.0   \n",
       "U136965                        0.0                            0.0   \n",
       "Unknown                        7.0                      4364497.0   \n",
       "\n",
       "         User_Vintage Most_Viewed_product_15_Days Most_Active_OS  \\\n",
       "UserID                                                             \n",
       "U100002          52.0                    Pr100258        android   \n",
       "U100003        1020.0                    Pr100079        windows   \n",
       "U100004         340.0                    Pr100753        windows   \n",
       "U100005         680.0                    Pr100234        android   \n",
       "U100006          54.0                    Pr101111        android   \n",
       "...               ...                         ...            ...   \n",
       "U136961          59.0                  Product101        android   \n",
       "U136963        1419.0                  Product101        android   \n",
       "U136964         494.0                  Product101        windows   \n",
       "U136965         242.0                  Product101        android   \n",
       "Unknown           NaN                    Pr100017        windows   \n",
       "\n",
       "        Recently_Viewed_Product  Pageloads_last_7_days  Clicks_last_7_days  \n",
       "UserID                                                                      \n",
       "U100002                Pr100258                    0.0                 0.0  \n",
       "U100003                Pr100079                    1.0                 2.0  \n",
       "U100004                Pr100753                    3.0                 0.0  \n",
       "U100005                Pr100234                    2.0                 1.0  \n",
       "U100006                Pr101111                    1.0                 0.0  \n",
       "...                         ...                    ...                 ...  \n",
       "U136961                Pr101381                    0.0                 0.0  \n",
       "U136963                Pr100166                    0.0                 2.0  \n",
       "U136964              Product101                    0.0                 0.0  \n",
       "U136965                Pr100709                    0.0                 0.0  \n",
       "Unknown                Pr100017               763307.0           1767631.0  \n",
       "\n",
       "[34051 rows x 8 columns]"
      ]
     },
     "execution_count": 215,
     "metadata": {},
     "output_type": "execute_result"
    }
   ],
   "source": [
    "mydict = {'No_of_days_Visited_7_Days' : d, 'No_Of_Products_Viewed_15_Days' : g, 'User_Vintage' : vintage, \n",
    "          'Most_Viewed_product_15_Days' : yat, 'Most_Active_OS' : os1 ,'Recently_Viewed_Product' : y, \n",
    "          'Pageloads_last_7_days': r, 'Clicks_last_7_days': u}\n",
    "dict_df = pd.DataFrame({ key:pd.Series(value) for key, value in mydict.items()})\n",
    "dict_df['Recently_Viewed_Product'] = dict_df['Recently_Viewed_Product'].fillna('Product101')\n",
    "dict_df['No_Of_Products_Viewed_15_Days'] = dict_df['No_Of_Products_Viewed_15_Days'].fillna(0)\n",
    "dict_df['Pageloads_last_7_days'] = dict_df['Pageloads_last_7_days'].fillna(0)\n",
    "dict_df['Clicks_last_7_days'] = dict_df['Clicks_last_7_days'].fillna(0)\n",
    "dict_df['No_of_days_Visited_7_Days'] = dict_df['No_of_days_Visited_7_Days'].fillna(0)\n",
    "dict_df['Most_Viewed_product_15_Days'] = dict_df['Most_Viewed_product_15_Days'].fillna('Product101')\n",
    "dict_df"
   ]
  },
  {
   "cell_type": "code",
   "execution_count": 216,
   "id": "5090cb95",
   "metadata": {},
   "outputs": [
    {
     "data": {
      "text/plain": [
       "(34050, 8)"
      ]
     },
     "execution_count": 216,
     "metadata": {},
     "output_type": "execute_result"
    }
   ],
   "source": [
    "new_df = dict_df.drop('Unknown', axis = 0)\n",
    "new_df.shape"
   ]
  },
  {
   "cell_type": "code",
   "execution_count": 217,
   "id": "dc2587c7",
   "metadata": {},
   "outputs": [
    {
     "data": {
      "text/html": [
       "<div>\n",
       "<style scoped>\n",
       "    .dataframe tbody tr th:only-of-type {\n",
       "        vertical-align: middle;\n",
       "    }\n",
       "\n",
       "    .dataframe tbody tr th {\n",
       "        vertical-align: top;\n",
       "    }\n",
       "\n",
       "    .dataframe thead th {\n",
       "        text-align: right;\n",
       "    }\n",
       "</style>\n",
       "<table border=\"1\" class=\"dataframe\">\n",
       "  <thead>\n",
       "    <tr style=\"text-align: right;\">\n",
       "      <th></th>\n",
       "      <th>UserID</th>\n",
       "      <th>No_of_days_Visited_7_Days</th>\n",
       "      <th>No_Of_Products_Viewed_15_Days</th>\n",
       "      <th>User_Vintage</th>\n",
       "      <th>Most_Viewed_product_15_Days</th>\n",
       "      <th>Most_Active_OS</th>\n",
       "      <th>Recently_Viewed_Product</th>\n",
       "      <th>Pageloads_last_7_days</th>\n",
       "      <th>Clicks_last_7_days</th>\n",
       "    </tr>\n",
       "  </thead>\n",
       "  <tbody>\n",
       "    <tr>\n",
       "      <th>0</th>\n",
       "      <td>U100002</td>\n",
       "      <td>0.0</td>\n",
       "      <td>5.0</td>\n",
       "      <td>52.0</td>\n",
       "      <td>Pr100258</td>\n",
       "      <td>android</td>\n",
       "      <td>Pr100258</td>\n",
       "      <td>0.0</td>\n",
       "      <td>0.0</td>\n",
       "    </tr>\n",
       "    <tr>\n",
       "      <th>1</th>\n",
       "      <td>U100003</td>\n",
       "      <td>1.0</td>\n",
       "      <td>4.0</td>\n",
       "      <td>1020.0</td>\n",
       "      <td>Pr100079</td>\n",
       "      <td>windows</td>\n",
       "      <td>Pr100079</td>\n",
       "      <td>1.0</td>\n",
       "      <td>2.0</td>\n",
       "    </tr>\n",
       "    <tr>\n",
       "      <th>2</th>\n",
       "      <td>U100004</td>\n",
       "      <td>1.0</td>\n",
       "      <td>30.0</td>\n",
       "      <td>340.0</td>\n",
       "      <td>Pr100753</td>\n",
       "      <td>windows</td>\n",
       "      <td>Pr100753</td>\n",
       "      <td>3.0</td>\n",
       "      <td>0.0</td>\n",
       "    </tr>\n",
       "    <tr>\n",
       "      <th>3</th>\n",
       "      <td>U100005</td>\n",
       "      <td>2.0</td>\n",
       "      <td>5.0</td>\n",
       "      <td>680.0</td>\n",
       "      <td>Pr100234</td>\n",
       "      <td>android</td>\n",
       "      <td>Pr100234</td>\n",
       "      <td>2.0</td>\n",
       "      <td>1.0</td>\n",
       "    </tr>\n",
       "    <tr>\n",
       "      <th>4</th>\n",
       "      <td>U100006</td>\n",
       "      <td>1.0</td>\n",
       "      <td>1.0</td>\n",
       "      <td>54.0</td>\n",
       "      <td>Pr101111</td>\n",
       "      <td>android</td>\n",
       "      <td>Pr101111</td>\n",
       "      <td>1.0</td>\n",
       "      <td>0.0</td>\n",
       "    </tr>\n",
       "  </tbody>\n",
       "</table>\n",
       "</div>"
      ],
      "text/plain": [
       "    UserID  No_of_days_Visited_7_Days  No_Of_Products_Viewed_15_Days  \\\n",
       "0  U100002                        0.0                            5.0   \n",
       "1  U100003                        1.0                            4.0   \n",
       "2  U100004                        1.0                           30.0   \n",
       "3  U100005                        2.0                            5.0   \n",
       "4  U100006                        1.0                            1.0   \n",
       "\n",
       "   User_Vintage Most_Viewed_product_15_Days Most_Active_OS  \\\n",
       "0          52.0                    Pr100258        android   \n",
       "1        1020.0                    Pr100079        windows   \n",
       "2         340.0                    Pr100753        windows   \n",
       "3         680.0                    Pr100234        android   \n",
       "4          54.0                    Pr101111        android   \n",
       "\n",
       "  Recently_Viewed_Product  Pageloads_last_7_days  Clicks_last_7_days  \n",
       "0                Pr100258                    0.0                 0.0  \n",
       "1                Pr100079                    1.0                 2.0  \n",
       "2                Pr100753                    3.0                 0.0  \n",
       "3                Pr100234                    2.0                 1.0  \n",
       "4                Pr101111                    1.0                 0.0  "
      ]
     },
     "execution_count": 217,
     "metadata": {},
     "output_type": "execute_result"
    }
   ],
   "source": [
    "new_df = new_df.reset_index('UserID')\n",
    "new_df.head()"
   ]
  },
  {
   "cell_type": "code",
   "execution_count": 218,
   "id": "31131eac",
   "metadata": {},
   "outputs": [
    {
     "name": "stdout",
     "output_type": "stream",
     "text": [
      "<class 'pandas.core.frame.DataFrame'>\n",
      "RangeIndex: 34050 entries, 0 to 34049\n",
      "Data columns (total 9 columns):\n",
      " #   Column                         Non-Null Count  Dtype  \n",
      "---  ------                         --------------  -----  \n",
      " 0   UserID                         34050 non-null  object \n",
      " 1   No_of_days_Visited_7_Days      34050 non-null  float64\n",
      " 2   No_Of_Products_Viewed_15_Days  34050 non-null  float64\n",
      " 3   User_Vintage                   34050 non-null  float64\n",
      " 4   Most_Viewed_product_15_Days    34050 non-null  object \n",
      " 5   Most_Active_OS                 34050 non-null  object \n",
      " 6   Recently_Viewed_Product        34050 non-null  object \n",
      " 7   Pageloads_last_7_days          34050 non-null  float64\n",
      " 8   Clicks_last_7_days             34050 non-null  float64\n",
      "dtypes: float64(5), object(4)\n",
      "memory usage: 2.3+ MB\n"
     ]
    }
   ],
   "source": [
    "new_df.info()"
   ]
  },
  {
   "cell_type": "code",
   "execution_count": 219,
   "id": "2ce37e04",
   "metadata": {},
   "outputs": [],
   "source": [
    "x = ['No_of_days_Visited_7_Days', 'No_Of_Products_Viewed_15_Days', 'User_Vintage', 'Pageloads_last_7_days', 'Clicks_last_7_days']\n",
    "for i in x:\n",
    "    new_df[i] = new_df[i].astype(int)"
   ]
  },
  {
   "cell_type": "code",
   "execution_count": 220,
   "id": "11cd019a",
   "metadata": {},
   "outputs": [
    {
     "data": {
      "text/html": [
       "<div>\n",
       "<style scoped>\n",
       "    .dataframe tbody tr th:only-of-type {\n",
       "        vertical-align: middle;\n",
       "    }\n",
       "\n",
       "    .dataframe tbody tr th {\n",
       "        vertical-align: top;\n",
       "    }\n",
       "\n",
       "    .dataframe thead th {\n",
       "        text-align: right;\n",
       "    }\n",
       "</style>\n",
       "<table border=\"1\" class=\"dataframe\">\n",
       "  <thead>\n",
       "    <tr style=\"text-align: right;\">\n",
       "      <th></th>\n",
       "      <th>UserID</th>\n",
       "      <th>No_of_days_Visited_7_Days</th>\n",
       "      <th>No_Of_Products_Viewed_15_Days</th>\n",
       "      <th>User_Vintage</th>\n",
       "      <th>Most_Viewed_product_15_Days</th>\n",
       "      <th>Most_Active_OS</th>\n",
       "      <th>Recently_Viewed_Product</th>\n",
       "      <th>Pageloads_last_7_days</th>\n",
       "      <th>Clicks_last_7_days</th>\n",
       "    </tr>\n",
       "  </thead>\n",
       "  <tbody>\n",
       "    <tr>\n",
       "      <th>0</th>\n",
       "      <td>U100002</td>\n",
       "      <td>0</td>\n",
       "      <td>5</td>\n",
       "      <td>52</td>\n",
       "      <td>Pr100258</td>\n",
       "      <td>android</td>\n",
       "      <td>Pr100258</td>\n",
       "      <td>0</td>\n",
       "      <td>0</td>\n",
       "    </tr>\n",
       "    <tr>\n",
       "      <th>1</th>\n",
       "      <td>U100003</td>\n",
       "      <td>1</td>\n",
       "      <td>4</td>\n",
       "      <td>1020</td>\n",
       "      <td>Pr100079</td>\n",
       "      <td>windows</td>\n",
       "      <td>Pr100079</td>\n",
       "      <td>1</td>\n",
       "      <td>2</td>\n",
       "    </tr>\n",
       "    <tr>\n",
       "      <th>2</th>\n",
       "      <td>U100004</td>\n",
       "      <td>1</td>\n",
       "      <td>30</td>\n",
       "      <td>340</td>\n",
       "      <td>Pr100753</td>\n",
       "      <td>windows</td>\n",
       "      <td>Pr100753</td>\n",
       "      <td>3</td>\n",
       "      <td>0</td>\n",
       "    </tr>\n",
       "    <tr>\n",
       "      <th>3</th>\n",
       "      <td>U100005</td>\n",
       "      <td>2</td>\n",
       "      <td>5</td>\n",
       "      <td>680</td>\n",
       "      <td>Pr100234</td>\n",
       "      <td>android</td>\n",
       "      <td>Pr100234</td>\n",
       "      <td>2</td>\n",
       "      <td>1</td>\n",
       "    </tr>\n",
       "    <tr>\n",
       "      <th>4</th>\n",
       "      <td>U100006</td>\n",
       "      <td>1</td>\n",
       "      <td>1</td>\n",
       "      <td>54</td>\n",
       "      <td>Pr101111</td>\n",
       "      <td>android</td>\n",
       "      <td>Pr101111</td>\n",
       "      <td>1</td>\n",
       "      <td>0</td>\n",
       "    </tr>\n",
       "  </tbody>\n",
       "</table>\n",
       "</div>"
      ],
      "text/plain": [
       "    UserID  No_of_days_Visited_7_Days  No_Of_Products_Viewed_15_Days  \\\n",
       "0  U100002                          0                              5   \n",
       "1  U100003                          1                              4   \n",
       "2  U100004                          1                             30   \n",
       "3  U100005                          2                              5   \n",
       "4  U100006                          1                              1   \n",
       "\n",
       "   User_Vintage Most_Viewed_product_15_Days Most_Active_OS  \\\n",
       "0            52                    Pr100258        android   \n",
       "1          1020                    Pr100079        windows   \n",
       "2           340                    Pr100753        windows   \n",
       "3           680                    Pr100234        android   \n",
       "4            54                    Pr101111        android   \n",
       "\n",
       "  Recently_Viewed_Product  Pageloads_last_7_days  Clicks_last_7_days  \n",
       "0                Pr100258                      0                   0  \n",
       "1                Pr100079                      1                   2  \n",
       "2                Pr100753                      3                   0  \n",
       "3                Pr100234                      2                   1  \n",
       "4                Pr101111                      1                   0  "
      ]
     },
     "execution_count": 220,
     "metadata": {},
     "output_type": "execute_result"
    }
   ],
   "source": [
    "new_df.head()"
   ]
  },
  {
   "cell_type": "code",
   "execution_count": 221,
   "id": "df6b4bc2",
   "metadata": {},
   "outputs": [],
   "source": [
    "new_df.to_csv('Solution.csv', index = False)"
   ]
  },
  {
   "cell_type": "code",
   "execution_count": null,
   "id": "a89d727e",
   "metadata": {},
   "outputs": [],
   "source": []
  }
 ],
 "metadata": {
  "kernelspec": {
   "display_name": "Python 3",
   "language": "python",
   "name": "python3"
  },
  "language_info": {
   "codemirror_mode": {
    "name": "ipython",
    "version": 3
   },
   "file_extension": ".py",
   "mimetype": "text/x-python",
   "name": "python",
   "nbconvert_exporter": "python",
   "pygments_lexer": "ipython3",
   "version": "3.8.8"
  }
 },
 "nbformat": 4,
 "nbformat_minor": 5
}
