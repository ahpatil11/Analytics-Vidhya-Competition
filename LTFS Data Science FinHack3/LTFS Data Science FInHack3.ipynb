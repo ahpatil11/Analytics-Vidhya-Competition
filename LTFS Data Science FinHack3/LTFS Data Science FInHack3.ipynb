{
 "cells": [
  {
   "cell_type": "code",
   "execution_count": 95,
   "metadata": {},
   "outputs": [],
   "source": [
    "import numpy as np\n",
    "import pandas as pd\n",
    "import matplotlib.pyplot as plt\n",
    "import seaborn as sns"
   ]
  },
  {
   "cell_type": "code",
   "execution_count": 96,
   "metadata": {},
   "outputs": [
    {
     "data": {
      "text/html": [
       "<div>\n",
       "<style scoped>\n",
       "    .dataframe tbody tr th:only-of-type {\n",
       "        vertical-align: middle;\n",
       "    }\n",
       "\n",
       "    .dataframe tbody tr th {\n",
       "        vertical-align: top;\n",
       "    }\n",
       "\n",
       "    .dataframe thead th {\n",
       "        text-align: right;\n",
       "    }\n",
       "</style>\n",
       "<table border=\"1\" class=\"dataframe\">\n",
       "  <thead>\n",
       "    <tr style=\"text-align: right;\">\n",
       "      <th></th>\n",
       "      <th>ID</th>\n",
       "      <th>Frequency</th>\n",
       "      <th>InstlmentMode</th>\n",
       "      <th>LoanStatus</th>\n",
       "      <th>PaymentMode</th>\n",
       "      <th>BranchID</th>\n",
       "      <th>Area</th>\n",
       "      <th>Tenure</th>\n",
       "      <th>AssetCost</th>\n",
       "      <th>AmountFinance</th>\n",
       "      <th>...</th>\n",
       "      <th>ManufacturerID</th>\n",
       "      <th>SupplierID</th>\n",
       "      <th>LTV</th>\n",
       "      <th>SEX</th>\n",
       "      <th>AGE</th>\n",
       "      <th>MonthlyIncome</th>\n",
       "      <th>City</th>\n",
       "      <th>State</th>\n",
       "      <th>ZiPCODE</th>\n",
       "      <th>Top-up Month</th>\n",
       "    </tr>\n",
       "  </thead>\n",
       "  <tbody>\n",
       "    <tr>\n",
       "      <th>0</th>\n",
       "      <td>1</td>\n",
       "      <td>Monthly</td>\n",
       "      <td>Arrear</td>\n",
       "      <td>Closed</td>\n",
       "      <td>PDC_E</td>\n",
       "      <td>1</td>\n",
       "      <td>NaN</td>\n",
       "      <td>48</td>\n",
       "      <td>450000</td>\n",
       "      <td>275000.0</td>\n",
       "      <td>...</td>\n",
       "      <td>1568</td>\n",
       "      <td>21946</td>\n",
       "      <td>61.11</td>\n",
       "      <td>M</td>\n",
       "      <td>49.0</td>\n",
       "      <td>35833.33</td>\n",
       "      <td>RAISEN</td>\n",
       "      <td>MADHYA PRADESH</td>\n",
       "      <td>464993.0</td>\n",
       "      <td>&gt; 48 Months</td>\n",
       "    </tr>\n",
       "    <tr>\n",
       "      <th>1</th>\n",
       "      <td>2</td>\n",
       "      <td>Monthly</td>\n",
       "      <td>Advance</td>\n",
       "      <td>Closed</td>\n",
       "      <td>PDC</td>\n",
       "      <td>333</td>\n",
       "      <td>BHOPAL</td>\n",
       "      <td>47</td>\n",
       "      <td>485000</td>\n",
       "      <td>350000.0</td>\n",
       "      <td>...</td>\n",
       "      <td>1062</td>\n",
       "      <td>34802</td>\n",
       "      <td>70.00</td>\n",
       "      <td>M</td>\n",
       "      <td>23.0</td>\n",
       "      <td>666.67</td>\n",
       "      <td>SEHORE</td>\n",
       "      <td>MADHYA PRADESH</td>\n",
       "      <td>466001.0</td>\n",
       "      <td>No Top-up Service</td>\n",
       "    </tr>\n",
       "    <tr>\n",
       "      <th>2</th>\n",
       "      <td>3</td>\n",
       "      <td>Quatrly</td>\n",
       "      <td>Arrear</td>\n",
       "      <td>Active</td>\n",
       "      <td>Direct Debit</td>\n",
       "      <td>1</td>\n",
       "      <td>NaN</td>\n",
       "      <td>68</td>\n",
       "      <td>690000</td>\n",
       "      <td>519728.0</td>\n",
       "      <td>...</td>\n",
       "      <td>1060</td>\n",
       "      <td>127335</td>\n",
       "      <td>69.77</td>\n",
       "      <td>M</td>\n",
       "      <td>39.0</td>\n",
       "      <td>45257.00</td>\n",
       "      <td>BHOPAL</td>\n",
       "      <td>MADHYA PRADESH</td>\n",
       "      <td>462030.0</td>\n",
       "      <td>12-18 Months</td>\n",
       "    </tr>\n",
       "    <tr>\n",
       "      <th>3</th>\n",
       "      <td>7</td>\n",
       "      <td>Monthly</td>\n",
       "      <td>Advance</td>\n",
       "      <td>Closed</td>\n",
       "      <td>Billed</td>\n",
       "      <td>125</td>\n",
       "      <td>GUNA</td>\n",
       "      <td>48</td>\n",
       "      <td>480000</td>\n",
       "      <td>400000.0</td>\n",
       "      <td>...</td>\n",
       "      <td>1060</td>\n",
       "      <td>25094</td>\n",
       "      <td>80.92</td>\n",
       "      <td>M</td>\n",
       "      <td>24.0</td>\n",
       "      <td>20833.33</td>\n",
       "      <td>ASHOK NAGAR</td>\n",
       "      <td>MADHYA PRADESH</td>\n",
       "      <td>473335.0</td>\n",
       "      <td>&gt; 48 Months</td>\n",
       "    </tr>\n",
       "    <tr>\n",
       "      <th>4</th>\n",
       "      <td>8</td>\n",
       "      <td>Monthly</td>\n",
       "      <td>Arrear</td>\n",
       "      <td>Closed</td>\n",
       "      <td>Billed</td>\n",
       "      <td>152</td>\n",
       "      <td>BILASPUR</td>\n",
       "      <td>44</td>\n",
       "      <td>619265</td>\n",
       "      <td>440000.0</td>\n",
       "      <td>...</td>\n",
       "      <td>1046</td>\n",
       "      <td>21853</td>\n",
       "      <td>71.05</td>\n",
       "      <td>M</td>\n",
       "      <td>56.0</td>\n",
       "      <td>27313.67</td>\n",
       "      <td>BILASPUR</td>\n",
       "      <td>CHATTISGARH</td>\n",
       "      <td>495442.0</td>\n",
       "      <td>36-48 Months</td>\n",
       "    </tr>\n",
       "  </tbody>\n",
       "</table>\n",
       "<p>5 rows × 26 columns</p>\n",
       "</div>"
      ],
      "text/plain": [
       "   ID Frequency InstlmentMode LoanStatus   PaymentMode  BranchID      Area  \\\n",
       "0   1   Monthly        Arrear     Closed         PDC_E         1       NaN   \n",
       "1   2   Monthly       Advance     Closed           PDC       333    BHOPAL   \n",
       "2   3   Quatrly        Arrear     Active  Direct Debit         1       NaN   \n",
       "3   7   Monthly       Advance     Closed        Billed       125      GUNA   \n",
       "4   8   Monthly        Arrear     Closed        Billed       152  BILASPUR   \n",
       "\n",
       "   Tenure  AssetCost  AmountFinance  ...  ManufacturerID  SupplierID    LTV  \\\n",
       "0      48     450000       275000.0  ...            1568       21946  61.11   \n",
       "1      47     485000       350000.0  ...            1062       34802  70.00   \n",
       "2      68     690000       519728.0  ...            1060      127335  69.77   \n",
       "3      48     480000       400000.0  ...            1060       25094  80.92   \n",
       "4      44     619265       440000.0  ...            1046       21853  71.05   \n",
       "\n",
       "  SEX   AGE  MonthlyIncome         City           State   ZiPCODE  \\\n",
       "0   M  49.0       35833.33       RAISEN  MADHYA PRADESH  464993.0   \n",
       "1   M  23.0         666.67       SEHORE  MADHYA PRADESH  466001.0   \n",
       "2   M  39.0       45257.00       BHOPAL  MADHYA PRADESH  462030.0   \n",
       "3   M  24.0       20833.33  ASHOK NAGAR  MADHYA PRADESH  473335.0   \n",
       "4   M  56.0       27313.67     BILASPUR     CHATTISGARH  495442.0   \n",
       "\n",
       "        Top-up Month  \n",
       "0        > 48 Months  \n",
       "1  No Top-up Service  \n",
       "2       12-18 Months  \n",
       "3        > 48 Months  \n",
       "4       36-48 Months  \n",
       "\n",
       "[5 rows x 26 columns]"
      ]
     },
     "execution_count": 96,
     "metadata": {},
     "output_type": "execute_result"
    }
   ],
   "source": [
    "train = pd.read_excel('train_Data.xlsx')\n",
    "train.head()"
   ]
  },
  {
   "cell_type": "code",
   "execution_count": 97,
   "metadata": {},
   "outputs": [
    {
     "data": {
      "text/plain": [
       "(128655, 26)"
      ]
     },
     "execution_count": 97,
     "metadata": {},
     "output_type": "execute_result"
    }
   ],
   "source": [
    "train.shape"
   ]
  },
  {
   "cell_type": "code",
   "execution_count": 98,
   "metadata": {},
   "outputs": [
    {
     "data": {
      "text/plain": [
       "ID                     0\n",
       "Frequency              0\n",
       "InstlmentMode          0\n",
       "LoanStatus             0\n",
       "PaymentMode            0\n",
       "BranchID               0\n",
       "Area               11653\n",
       "Tenure                 0\n",
       "AssetCost              0\n",
       "AmountFinance          0\n",
       "DisbursalAmount        0\n",
       "EMI                    0\n",
       "DisbursalDate          0\n",
       "MaturityDAte           1\n",
       "AuthDate               0\n",
       "AssetID                0\n",
       "ManufacturerID         0\n",
       "SupplierID             0\n",
       "LTV                    0\n",
       "SEX                   59\n",
       "AGE                   59\n",
       "MonthlyIncome        234\n",
       "City               11256\n",
       "State                  0\n",
       "ZiPCODE              372\n",
       "Top-up Month           0\n",
       "dtype: int64"
      ]
     },
     "execution_count": 98,
     "metadata": {},
     "output_type": "execute_result"
    }
   ],
   "source": [
    "train.isnull().sum()"
   ]
  },
  {
   "cell_type": "code",
   "execution_count": 99,
   "metadata": {},
   "outputs": [
    {
     "name": "stdout",
     "output_type": "stream",
     "text": [
      "<class 'pandas.core.frame.DataFrame'>\n",
      "RangeIndex: 128655 entries, 0 to 128654\n",
      "Data columns (total 26 columns):\n",
      "ID                 128655 non-null int64\n",
      "Frequency          128655 non-null object\n",
      "InstlmentMode      128655 non-null object\n",
      "LoanStatus         128655 non-null object\n",
      "PaymentMode        128655 non-null object\n",
      "BranchID           128655 non-null int64\n",
      "Area               117002 non-null object\n",
      "Tenure             128655 non-null int64\n",
      "AssetCost          128655 non-null int64\n",
      "AmountFinance      128655 non-null float64\n",
      "DisbursalAmount    128655 non-null float64\n",
      "EMI                128655 non-null float64\n",
      "DisbursalDate      128655 non-null datetime64[ns]\n",
      "MaturityDAte       128654 non-null datetime64[ns]\n",
      "AuthDate           128655 non-null datetime64[ns]\n",
      "AssetID            128655 non-null int64\n",
      "ManufacturerID     128655 non-null int64\n",
      "SupplierID         128655 non-null int64\n",
      "LTV                128655 non-null float64\n",
      "SEX                128596 non-null object\n",
      "AGE                128596 non-null float64\n",
      "MonthlyIncome      128421 non-null float64\n",
      "City               117399 non-null object\n",
      "State              128655 non-null object\n",
      "ZiPCODE            128283 non-null float64\n",
      "Top-up Month       128655 non-null object\n",
      "dtypes: datetime64[ns](3), float64(7), int64(7), object(9)\n",
      "memory usage: 25.5+ MB\n"
     ]
    }
   ],
   "source": [
    "train.info()"
   ]
  },
  {
   "cell_type": "code",
   "execution_count": 100,
   "metadata": {},
   "outputs": [
    {
     "data": {
      "text/plain": [
       "No Top-up Service    106677\n",
       " > 48 Months           8366\n",
       "36-48 Months           3656\n",
       "24-30 Months           3492\n",
       "30-36 Months           3062\n",
       "18-24 Months           2368\n",
       "12-18 Months           1034\n",
       "Name: Top-up Month, dtype: int64"
      ]
     },
     "execution_count": 100,
     "metadata": {},
     "output_type": "execute_result"
    }
   ],
   "source": [
    "train['Top-up Month'].value_counts()"
   ]
  },
  {
   "cell_type": "code",
   "execution_count": 101,
   "metadata": {},
   "outputs": [
    {
     "data": {
      "text/plain": [
       "0"
      ]
     },
     "execution_count": 101,
     "metadata": {},
     "output_type": "execute_result"
    }
   ],
   "source": [
    "train.duplicated().sum()"
   ]
  },
  {
   "cell_type": "code",
   "execution_count": 102,
   "metadata": {},
   "outputs": [
    {
     "data": {
      "text/html": [
       "<div>\n",
       "<style scoped>\n",
       "    .dataframe tbody tr th:only-of-type {\n",
       "        vertical-align: middle;\n",
       "    }\n",
       "\n",
       "    .dataframe tbody tr th {\n",
       "        vertical-align: top;\n",
       "    }\n",
       "\n",
       "    .dataframe thead th {\n",
       "        text-align: right;\n",
       "    }\n",
       "</style>\n",
       "<table border=\"1\" class=\"dataframe\">\n",
       "  <thead>\n",
       "    <tr style=\"text-align: right;\">\n",
       "      <th></th>\n",
       "      <th>ID</th>\n",
       "      <th>Frequency</th>\n",
       "      <th>InstlmentMode</th>\n",
       "      <th>LoanStatus</th>\n",
       "      <th>PaymentMode</th>\n",
       "      <th>BranchID</th>\n",
       "      <th>Area</th>\n",
       "      <th>Tenure</th>\n",
       "      <th>AssetCost</th>\n",
       "      <th>AmountFinance</th>\n",
       "      <th>...</th>\n",
       "      <th>AssetID</th>\n",
       "      <th>ManufacturerID</th>\n",
       "      <th>SupplierID</th>\n",
       "      <th>LTV</th>\n",
       "      <th>SEX</th>\n",
       "      <th>AGE</th>\n",
       "      <th>MonthlyIncome</th>\n",
       "      <th>City</th>\n",
       "      <th>State</th>\n",
       "      <th>ZiPCODE</th>\n",
       "    </tr>\n",
       "  </thead>\n",
       "  <tbody>\n",
       "    <tr>\n",
       "      <th>0</th>\n",
       "      <td>4</td>\n",
       "      <td>Monthly</td>\n",
       "      <td>Advance</td>\n",
       "      <td>Closed</td>\n",
       "      <td>PDC_E</td>\n",
       "      <td>2</td>\n",
       "      <td>GUNA</td>\n",
       "      <td>46</td>\n",
       "      <td>480000</td>\n",
       "      <td>365000.0</td>\n",
       "      <td>...</td>\n",
       "      <td>3524747</td>\n",
       "      <td>1046.0</td>\n",
       "      <td>22354</td>\n",
       "      <td>75.83</td>\n",
       "      <td>M</td>\n",
       "      <td>50.0</td>\n",
       "      <td>32069.00</td>\n",
       "      <td>GUNA</td>\n",
       "      <td>MADHYA PRADESH</td>\n",
       "      <td>473001.0</td>\n",
       "    </tr>\n",
       "    <tr>\n",
       "      <th>1</th>\n",
       "      <td>5</td>\n",
       "      <td>Monthly</td>\n",
       "      <td>Advance</td>\n",
       "      <td>Closed</td>\n",
       "      <td>PDC</td>\n",
       "      <td>2</td>\n",
       "      <td>GUNA</td>\n",
       "      <td>45</td>\n",
       "      <td>480000</td>\n",
       "      <td>285000.0</td>\n",
       "      <td>...</td>\n",
       "      <td>4985862</td>\n",
       "      <td>1046.0</td>\n",
       "      <td>22354</td>\n",
       "      <td>57.44</td>\n",
       "      <td>M</td>\n",
       "      <td>35.0</td>\n",
       "      <td>25000.00</td>\n",
       "      <td>GUNA</td>\n",
       "      <td>MADHYA PRADESH</td>\n",
       "      <td>473001.0</td>\n",
       "    </tr>\n",
       "    <tr>\n",
       "      <th>2</th>\n",
       "      <td>6</td>\n",
       "      <td>Quatrly</td>\n",
       "      <td>Arrear</td>\n",
       "      <td>Closed</td>\n",
       "      <td>PDC</td>\n",
       "      <td>2</td>\n",
       "      <td>GUNA</td>\n",
       "      <td>48</td>\n",
       "      <td>580000</td>\n",
       "      <td>400000.0</td>\n",
       "      <td>...</td>\n",
       "      <td>12881783</td>\n",
       "      <td>1060.0</td>\n",
       "      <td>65929</td>\n",
       "      <td>68.97</td>\n",
       "      <td>M</td>\n",
       "      <td>37.0</td>\n",
       "      <td>23333.33</td>\n",
       "      <td>GUNA</td>\n",
       "      <td>MADHYA PRADESH</td>\n",
       "      <td>473001.0</td>\n",
       "    </tr>\n",
       "    <tr>\n",
       "      <th>3</th>\n",
       "      <td>25</td>\n",
       "      <td>Half Yearly</td>\n",
       "      <td>Arrear</td>\n",
       "      <td>Closed</td>\n",
       "      <td>Billed</td>\n",
       "      <td>154</td>\n",
       "      <td>NaN</td>\n",
       "      <td>36</td>\n",
       "      <td>725000</td>\n",
       "      <td>500000.0</td>\n",
       "      <td>...</td>\n",
       "      <td>10613776</td>\n",
       "      <td>1049.0</td>\n",
       "      <td>68597</td>\n",
       "      <td>61.79</td>\n",
       "      <td>M</td>\n",
       "      <td>55.0</td>\n",
       "      <td>91666.67</td>\n",
       "      <td>MAHASAMUND</td>\n",
       "      <td>CHATTISGARH</td>\n",
       "      <td>493558.0</td>\n",
       "    </tr>\n",
       "    <tr>\n",
       "      <th>4</th>\n",
       "      <td>119</td>\n",
       "      <td>Quatrly</td>\n",
       "      <td>Arrear</td>\n",
       "      <td>Closed</td>\n",
       "      <td>PDC</td>\n",
       "      <td>194</td>\n",
       "      <td>CUTTACK</td>\n",
       "      <td>48</td>\n",
       "      <td>617000</td>\n",
       "      <td>400000.0</td>\n",
       "      <td>...</td>\n",
       "      <td>7911110</td>\n",
       "      <td>1049.0</td>\n",
       "      <td>38493</td>\n",
       "      <td>59.09</td>\n",
       "      <td>M</td>\n",
       "      <td>48.0</td>\n",
       "      <td>12500.00</td>\n",
       "      <td>JAGATSINGHAPUR</td>\n",
       "      <td>ORISSA</td>\n",
       "      <td>754137.0</td>\n",
       "    </tr>\n",
       "  </tbody>\n",
       "</table>\n",
       "<p>5 rows × 25 columns</p>\n",
       "</div>"
      ],
      "text/plain": [
       "    ID    Frequency InstlmentMode LoanStatus PaymentMode  BranchID     Area  \\\n",
       "0    4      Monthly       Advance     Closed       PDC_E         2     GUNA   \n",
       "1    5      Monthly       Advance     Closed         PDC         2     GUNA   \n",
       "2    6      Quatrly        Arrear     Closed         PDC         2     GUNA   \n",
       "3   25  Half Yearly        Arrear     Closed      Billed       154      NaN   \n",
       "4  119      Quatrly        Arrear     Closed         PDC       194  CUTTACK   \n",
       "\n",
       "   Tenure  AssetCost  AmountFinance  ...   AssetID  ManufacturerID SupplierID  \\\n",
       "0      46     480000       365000.0  ...   3524747          1046.0      22354   \n",
       "1      45     480000       285000.0  ...   4985862          1046.0      22354   \n",
       "2      48     580000       400000.0  ...  12881783          1060.0      65929   \n",
       "3      36     725000       500000.0  ...  10613776          1049.0      68597   \n",
       "4      48     617000       400000.0  ...   7911110          1049.0      38493   \n",
       "\n",
       "     LTV SEX   AGE  MonthlyIncome            City           State   ZiPCODE  \n",
       "0  75.83   M  50.0       32069.00            GUNA  MADHYA PRADESH  473001.0  \n",
       "1  57.44   M  35.0       25000.00            GUNA  MADHYA PRADESH  473001.0  \n",
       "2  68.97   M  37.0       23333.33            GUNA  MADHYA PRADESH  473001.0  \n",
       "3  61.79   M  55.0       91666.67      MAHASAMUND     CHATTISGARH  493558.0  \n",
       "4  59.09   M  48.0       12500.00  JAGATSINGHAPUR          ORISSA  754137.0  \n",
       "\n",
       "[5 rows x 25 columns]"
      ]
     },
     "execution_count": 102,
     "metadata": {},
     "output_type": "execute_result"
    }
   ],
   "source": [
    "test = pd.read_excel('test_Data.xlsx')\n",
    "test.head()"
   ]
  },
  {
   "cell_type": "code",
   "execution_count": 103,
   "metadata": {},
   "outputs": [
    {
     "data": {
      "text/plain": [
       "(14745, 25)"
      ]
     },
     "execution_count": 103,
     "metadata": {},
     "output_type": "execute_result"
    }
   ],
   "source": [
    "test.shape"
   ]
  },
  {
   "cell_type": "code",
   "execution_count": 104,
   "metadata": {},
   "outputs": [
    {
     "data": {
      "text/plain": [
       "ID                   0\n",
       "Frequency            0\n",
       "InstlmentMode        0\n",
       "LoanStatus           0\n",
       "PaymentMode          0\n",
       "BranchID             0\n",
       "Area               546\n",
       "Tenure               0\n",
       "AssetCost            0\n",
       "AmountFinance        0\n",
       "DisbursalAmount      0\n",
       "EMI                  0\n",
       "DisbursalDate        0\n",
       "MaturityDAte         0\n",
       "AuthDate             0\n",
       "AssetID              0\n",
       "ManufacturerID       2\n",
       "SupplierID           0\n",
       "LTV                  0\n",
       "SEX                  5\n",
       "AGE                  7\n",
       "MonthlyIncome       14\n",
       "City                 0\n",
       "State                0\n",
       "ZiPCODE              1\n",
       "dtype: int64"
      ]
     },
     "execution_count": 104,
     "metadata": {},
     "output_type": "execute_result"
    }
   ],
   "source": [
    "test.isnull().sum()"
   ]
  },
  {
   "cell_type": "code",
   "execution_count": 105,
   "metadata": {},
   "outputs": [],
   "source": [
    "newtrain = train\n",
    "newtest = test"
   ]
  },
  {
   "cell_type": "code",
   "execution_count": 106,
   "metadata": {},
   "outputs": [],
   "source": [
    "newtrain = newtrain.drop(['Area', 'ID', 'City', 'ZiPCODE', 'State'], axis = 1)\n",
    "newtest = newtest.drop(['Area', 'ID', 'City', 'ZiPCODE', 'State'], axis = 1)"
   ]
  },
  {
   "cell_type": "code",
   "execution_count": 107,
   "metadata": {},
   "outputs": [
    {
     "data": {
      "text/plain": [
       "M    14134\n",
       "F      611\n",
       "Name: SEX, dtype: int64"
      ]
     },
     "execution_count": 107,
     "metadata": {},
     "output_type": "execute_result"
    }
   ],
   "source": [
    "newtest['SEX'] = newtest['SEX'].fillna(newtest['SEX'].value_counts().index[0])\n",
    "newtest['SEX'].value_counts()"
   ]
  },
  {
   "cell_type": "code",
   "execution_count": 108,
   "metadata": {},
   "outputs": [
    {
     "data": {
      "text/plain": [
       "M    122203\n",
       "F      6452\n",
       "Name: SEX, dtype: int64"
      ]
     },
     "execution_count": 108,
     "metadata": {},
     "output_type": "execute_result"
    }
   ],
   "source": [
    "newtrain['SEX'] = newtrain['SEX'].fillna(newtrain['SEX'].value_counts().index[0])\n",
    "newtrain['SEX'].value_counts()"
   ]
  },
  {
   "cell_type": "code",
   "execution_count": 109,
   "metadata": {},
   "outputs": [],
   "source": [
    "newtrain['AGE'] = newtrain['AGE'].fillna(newtrain['AGE'].mean())\n",
    "newtest['AGE'] = newtest['AGE'].fillna(newtest['AGE'].mean())"
   ]
  },
  {
   "cell_type": "code",
   "execution_count": 110,
   "metadata": {},
   "outputs": [],
   "source": [
    "newtrain['MonthlyIncome'] = newtrain['MonthlyIncome'].fillna(newtrain['MonthlyIncome'].mean())\n",
    "newtest['MonthlyIncome'] = newtest['MonthlyIncome'].fillna(newtest['MonthlyIncome'].mean())"
   ]
  },
  {
   "cell_type": "code",
   "execution_count": 111,
   "metadata": {},
   "outputs": [],
   "source": [
    "newtrain = newtrain.dropna()"
   ]
  },
  {
   "cell_type": "code",
   "execution_count": 112,
   "metadata": {},
   "outputs": [],
   "source": [
    "newtest['ManufacturerID'] = newtest['ManufacturerID'].fillna(newtest['ManufacturerID'].mean())"
   ]
  },
  {
   "cell_type": "code",
   "execution_count": 113,
   "metadata": {},
   "outputs": [
    {
     "name": "stdout",
     "output_type": "stream",
     "text": [
      "<class 'pandas.core.frame.DataFrame'>\n",
      "Int64Index: 128654 entries, 0 to 128654\n",
      "Data columns (total 21 columns):\n",
      "Frequency          128654 non-null object\n",
      "InstlmentMode      128654 non-null object\n",
      "LoanStatus         128654 non-null object\n",
      "PaymentMode        128654 non-null object\n",
      "BranchID           128654 non-null int64\n",
      "Tenure             128654 non-null int64\n",
      "AssetCost          128654 non-null int64\n",
      "AmountFinance      128654 non-null float64\n",
      "DisbursalAmount    128654 non-null float64\n",
      "EMI                128654 non-null float64\n",
      "DisbursalDate      128654 non-null datetime64[ns]\n",
      "MaturityDAte       128654 non-null datetime64[ns]\n",
      "AuthDate           128654 non-null datetime64[ns]\n",
      "AssetID            128654 non-null int64\n",
      "ManufacturerID     128654 non-null int64\n",
      "SupplierID         128654 non-null int64\n",
      "LTV                128654 non-null float64\n",
      "SEX                128654 non-null object\n",
      "AGE                128654 non-null float64\n",
      "MonthlyIncome      128654 non-null float64\n",
      "Top-up Month       128654 non-null object\n",
      "dtypes: datetime64[ns](3), float64(6), int64(6), object(6)\n",
      "memory usage: 21.6+ MB\n"
     ]
    }
   ],
   "source": [
    "newtrain.info()"
   ]
  },
  {
   "cell_type": "code",
   "execution_count": 114,
   "metadata": {},
   "outputs": [],
   "source": [
    "import datetime as dt\n",
    "newtrain['Disbursal_Date'] = newtrain['DisbursalDate'].dt.day\n",
    "newtrain['Disbursal_Month'] = newtrain['DisbursalDate'].dt.month\n",
    "newtrain['Disbursal_Year'] = newtrain['DisbursalDate'].dt.year"
   ]
  },
  {
   "cell_type": "code",
   "execution_count": 115,
   "metadata": {},
   "outputs": [],
   "source": [
    "newtrain['Maturity_Date'] = newtrain['MaturityDAte'].dt.day\n",
    "newtrain['Maturity_Month'] = newtrain['MaturityDAte'].dt.month\n",
    "newtrain['Maturity_Year'] = newtrain['MaturityDAte'].dt.year"
   ]
  },
  {
   "cell_type": "code",
   "execution_count": 116,
   "metadata": {},
   "outputs": [],
   "source": [
    "newtrain['Auth_Date'] = newtrain['AuthDate'].dt.day\n",
    "newtrain['Auth_Month'] = newtrain['AuthDate'].dt.month\n",
    "newtrain['Auth_Year'] = newtrain['AuthDate'].dt.year"
   ]
  },
  {
   "cell_type": "code",
   "execution_count": 117,
   "metadata": {},
   "outputs": [],
   "source": [
    "newtest['Disbursal_Date'] = newtest['DisbursalDate'].dt.day\n",
    "newtest['Disbursal_Month'] = newtest['DisbursalDate'].dt.month\n",
    "newtest['Disbursal_Year'] = newtest['DisbursalDate'].dt.year"
   ]
  },
  {
   "cell_type": "code",
   "execution_count": 118,
   "metadata": {},
   "outputs": [],
   "source": [
    "newtest['Maturity_Date'] = newtest['MaturityDAte'].dt.day\n",
    "newtest['Maturity_Month'] = newtest['MaturityDAte'].dt.month\n",
    "newtest['Maturity_Year'] = newtest['MaturityDAte'].dt.year"
   ]
  },
  {
   "cell_type": "code",
   "execution_count": 119,
   "metadata": {},
   "outputs": [],
   "source": [
    "newtest['Auth_Date'] = newtest['AuthDate'].dt.day\n",
    "newtest['Auth_Month'] = newtest['AuthDate'].dt.month\n",
    "newtest['Auth_Year'] = newtest['AuthDate'].dt.year"
   ]
  },
  {
   "cell_type": "code",
   "execution_count": 120,
   "metadata": {},
   "outputs": [],
   "source": [
    "newtrain = newtrain.drop(['DisbursalDate', 'MaturityDAte', 'AuthDate'], axis = 1)\n",
    "newtest = newtest.drop(['DisbursalDate', 'MaturityDAte', 'AuthDate'], axis = 1)"
   ]
  },
  {
   "cell_type": "code",
   "execution_count": 121,
   "metadata": {},
   "outputs": [],
   "source": [
    "from sklearn.preprocessing import LabelEncoder\n",
    "le = LabelEncoder()"
   ]
  },
  {
   "cell_type": "code",
   "execution_count": 122,
   "metadata": {},
   "outputs": [],
   "source": [
    "category = ['Frequency', 'InstlmentMode', 'LoanStatus', 'PaymentMode', 'SEX']\n",
    "for i in category:\n",
    "    newtrain[i] = le.fit_transform(newtrain[i])"
   ]
  },
  {
   "cell_type": "code",
   "execution_count": 123,
   "metadata": {},
   "outputs": [],
   "source": [
    "for i in category:\n",
    "    newtest[i] = le.fit_transform(newtest[i])"
   ]
  },
  {
   "cell_type": "code",
   "execution_count": 124,
   "metadata": {},
   "outputs": [],
   "source": [
    "newtrain['Top-up Month'] = le.fit_transform(newtrain['Top-up Month'])"
   ]
  },
  {
   "cell_type": "code",
   "execution_count": 125,
   "metadata": {},
   "outputs": [],
   "source": [
    "x = newtrain.drop('Top-up Month', axis = 1)\n",
    "y = newtrain['Top-up Month']"
   ]
  },
  {
   "cell_type": "code",
   "execution_count": 126,
   "metadata": {},
   "outputs": [],
   "source": [
    "from sklearn.model_selection import train_test_split\n",
    "x_train, x_test, y_train, y_test = train_test_split(x, y, test_size = 0.2, random_state = 42)"
   ]
  },
  {
   "cell_type": "code",
   "execution_count": 127,
   "metadata": {},
   "outputs": [],
   "source": [
    "from sklearn.metrics import accuracy_score"
   ]
  },
  {
   "cell_type": "code",
   "execution_count": 128,
   "metadata": {},
   "outputs": [
    {
     "name": "stdout",
     "output_type": "stream",
     "text": [
      "0.8315261746531422\n"
     ]
    }
   ],
   "source": [
    "from lightgbm import LGBMClassifier\n",
    "lgbm = LGBMClassifier()\n",
    "y_pred = lgbm.fit(x_train, y_train).predict(x_test)\n",
    "print(accuracy_score(y_test, y_pred))"
   ]
  },
  {
   "cell_type": "code",
   "execution_count": 129,
   "metadata": {},
   "outputs": [
    {
     "data": {
      "image/png": "[encoded data removed]",
      "text/plain": [
       "<Figure size 720x360 with 1 Axes>"
      ]
     },
     "metadata": {
      "needs_background": "light"
     },
     "output_type": "display_data"
    }
   ],
   "source": [
    "feature_imp = pd.DataFrame(sorted(zip(lgbm.feature_importances_, x.columns), reverse=True)[:], columns=['Value','Feature'])\n",
    "plt.figure(figsize=(10,5))\n",
    "sns.barplot(x=\"Value\", y=\"Feature\", data=feature_imp.sort_values(by=\"Value\", ascending=False))\n",
    "plt.title('LGBM Features')\n",
    "plt.tight_layout()\n",
    "plt.show()"
   ]
  },
  {
   "cell_type": "code",
   "execution_count": 85,
   "metadata": {},
   "outputs": [
    {
     "name": "stdout",
     "output_type": "stream",
     "text": [
      "0.8282203818188888\n"
     ]
    }
   ],
   "source": [
    "x = newtrain.drop(['Top-up Month', 'Auth_Year'], axis = 1)\n",
    "y = newtrain['Top-up Month']\n",
    "\n",
    "from sklearn.model_selection import train_test_split\n",
    "x_train, x_test, y_train, y_test = train_test_split(x, y, test_size = 0.2, random_state = 42)\n",
    "\n",
    "from lightgbm import LGBMClassifier\n",
    "lgbm = LGBMClassifier()\n",
    "y_pred = lgbm.fit(x_train, y_train).predict(x_test)\n",
    "print(accuracy_score(y_test, y_pred))"
   ]
  },
  {
   "cell_type": "code",
   "execution_count": 86,
   "metadata": {},
   "outputs": [
    {
     "name": "stdout",
     "output_type": "stream",
     "text": [
      "0.827326101325868\n"
     ]
    }
   ],
   "source": [
    "x = newtrain.drop('Top-up Month', axis = 1)\n",
    "y = newtrain['Top-up Month']\n",
    "\n",
    "from sklearn.model_selection import train_test_split\n",
    "x_train, x_test, y_train, y_test = train_test_split(x, y, test_size = 0.2, random_state = 42)\n",
    "\n",
    "from sklearn.ensemble import RandomForestClassifier\n",
    "rf = RandomForestClassifier()\n",
    "y_pred = rf.fit(x_train, y_train).predict(x_test)\n",
    "print(accuracy_score(y_test, y_pred))"
   ]
  },
  {
   "cell_type": "code",
   "execution_count": 132,
   "metadata": {},
   "outputs": [],
   "source": [
    "x_train = newtrain.drop('Top-up Month', axis = 1)\n",
    "y_train = newtrain['Top-up Month']\n",
    "x_test = newtest\n",
    "from sklearn.ensemble import RandomForestClassifier\n",
    "rf = RandomForestClassifier()\n",
    "y_pred = rf.fit(x_train, y_train).predict(x_test)\n",
    "solution = pd.DataFrame({'ID': test.ID, 'Top-up Month': le.inverse_transform(y_pred)})\n",
    "solution.to_csv('Solution.csv', index = False)"
   ]
  },
  {
   "cell_type": "code",
   "execution_count": null,
   "metadata": {},
   "outputs": [],
   "source": []
  }
 ],
 "metadata": {
  "kernelspec": {
   "display_name": "Python 3",
   "language": "python",
   "name": "python3"
  },
  "language_info": {
   "codemirror_mode": {
    "name": "ipython",
    "version": 3
   },
   "file_extension": ".py",
   "mimetype": "text/x-python",
   "name": "python",
   "nbconvert_exporter": "python",
   "pygments_lexer": "ipython3",
   "version": "3.7.3"
  }
 },
 "nbformat": 4,
 "nbformat_minor": 2
}
